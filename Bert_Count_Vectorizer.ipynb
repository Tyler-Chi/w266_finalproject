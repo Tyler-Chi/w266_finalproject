{
 "cells": [
  {
   "cell_type": "code",
   "execution_count": 1,
   "id": "b20cea9e-79d7-4265-aecd-37d87dfdaae9",
   "metadata": {},
   "outputs": [
    {
     "name": "stderr",
     "output_type": "stream",
     "text": [
      "2022-12-01 00:02:04.724289: I tensorflow/core/platform/cpu_feature_guard.cc:193] This TensorFlow binary is optimized with oneAPI Deep Neural Network Library (oneDNN) to use the following CPU instructions in performance-critical operations:  AVX2 AVX512F AVX512_VNNI FMA\n",
      "To enable them in other operations, rebuild TensorFlow with the appropriate compiler flags.\n",
      "2022-12-01 00:02:04.844226: I tensorflow/core/util/port.cc:104] oneDNN custom operations are on. You may see slightly different numerical results due to floating-point round-off errors from different computation orders. To turn them off, set the environment variable `TF_ENABLE_ONEDNN_OPTS=0`.\n",
      "2022-12-01 00:02:05.342547: W tensorflow/compiler/xla/stream_executor/platform/default/dso_loader.cc:64] Could not load dynamic library 'libnvinfer.so.7'; dlerror: libnvinfer.so.7: cannot open shared object file: No such file or directory\n",
      "2022-12-01 00:02:05.342623: W tensorflow/compiler/xla/stream_executor/platform/default/dso_loader.cc:64] Could not load dynamic library 'libnvinfer_plugin.so.7'; dlerror: libnvinfer_plugin.so.7: cannot open shared object file: No such file or directory\n",
      "2022-12-01 00:02:05.342628: W tensorflow/compiler/tf2tensorrt/utils/py_utils.cc:38] TF-TRT Warning: Cannot dlopen some TensorRT libraries. If you would like to use Nvidia GPU with TensorRT, please make sure the missing libraries mentioned above are installed properly.\n"
     ]
    }
   ],
   "source": [
    "import numpy as np\n",
    "import pandas as pd\n",
    "import sklearn\n",
    "from sklearn.model_selection import train_test_split\n",
    "from sklearn.feature_extraction.text import CountVectorizer\n",
    "from sklearn.naive_bayes import MultinomialNB\n",
    "from sklearn.metrics import accuracy_score,confusion_matrix\n",
    "\n",
    "import numpy as np\n",
    "import tensorflow as tf\n",
    "from tensorflow import keras\n",
    "\n",
    "from tensorflow.keras.layers import Embedding, Input, Dense, Lambda\n",
    "from tensorflow.keras.models import Model\n",
    "import tensorflow.keras.backend as K\n",
    "import tensorflow_datasets as tfds\n",
    "import pandas as pd\n",
    "\n",
    "import sklearn as sk\n",
    "import os\n",
    "import nltk\n",
    "from nltk.data import find\n",
    "\n",
    "import matplotlib.pyplot as plt\n",
    "from sklearn.model_selection import train_test_split\n",
    "import re\n",
    "from sklearn.utils import class_weight\n",
    "\n",
    "from keras.layers import Concatenate, Dense, LSTM, Input, concatenate"
   ]
  },
  {
   "cell_type": "code",
   "execution_count": 2,
   "id": "57b80996-fdcc-4cd0-877f-6cef505ee37d",
   "metadata": {},
   "outputs": [],
   "source": [
    "cv = CountVectorizer(stop_words='english',min_df=0.015)"
   ]
  },
  {
   "cell_type": "code",
   "execution_count": 3,
   "id": "c0e7fe35-9ea9-4b8a-b3df-901586291758",
   "metadata": {},
   "outputs": [
    {
     "name": "stderr",
     "output_type": "stream",
     "text": [
      "2022-12-01 00:02:07.406605: I tensorflow/compiler/xla/stream_executor/cuda/cuda_gpu_executor.cc:967] could not open file to read NUMA node: /sys/bus/pci/devices/0000:01:00.0/numa_node\n",
      "Your kernel may have been built without NUMA support.\n",
      "2022-12-01 00:02:07.425369: W tensorflow/compiler/xla/stream_executor/platform/default/dso_loader.cc:64] Could not load dynamic library 'libcudnn.so.8'; dlerror: libcudnn.so.8: cannot open shared object file: No such file or directory\n",
      "2022-12-01 00:02:07.425423: W tensorflow/core/common_runtime/gpu/gpu_device.cc:1934] Cannot dlopen some GPU libraries. Please make sure the missing libraries mentioned above are installed properly if you would like to use GPU. Follow the guide at https://www.tensorflow.org/install/gpu for how to download and setup the required libraries for your platform.\n",
      "Skipping registering GPU devices...\n",
      "2022-12-01 00:02:07.426210: I tensorflow/core/platform/cpu_feature_guard.cc:193] This TensorFlow binary is optimized with oneAPI Deep Neural Network Library (oneDNN) to use the following CPU instructions in performance-critical operations:  AVX2 AVX512F AVX512_VNNI FMA\n",
      "To enable them in other operations, rebuild TensorFlow with the appropriate compiler flags.\n",
      "Some layers from the model checkpoint at bert-base-cased were not used when initializing TFBertModel: ['mlm___cls', 'nsp___cls']\n",
      "- This IS expected if you are initializing TFBertModel from the checkpoint of a model trained on another task or with another architecture (e.g. initializing a BertForSequenceClassification model from a BertForPreTraining model).\n",
      "- This IS NOT expected if you are initializing TFBertModel from the checkpoint of a model that you expect to be exactly identical (initializing a BertForSequenceClassification model from a BertForSequenceClassification model).\n",
      "All the layers of TFBertModel were initialized from the model checkpoint at bert-base-cased.\n",
      "If your task is similar to the task the model of the checkpoint was trained on, you can already use TFBertModel for predictions without further training.\n"
     ]
    }
   ],
   "source": [
    "from transformers import BertTokenizer, TFBertModel\n",
    "bert_tokenizer = BertTokenizer.from_pretrained('bert-base-cased')\n",
    "bert_model = TFBertModel.from_pretrained('bert-base-cased')\n",
    "\n",
    "# bring in the data\n",
    "questions_data = pd.read_csv(\"questions_nb_predictions.csv\")"
   ]
  },
  {
   "cell_type": "code",
   "execution_count": 4,
   "id": "89e68fb0-9276-4174-9b85-21817bf2f18b",
   "metadata": {},
   "outputs": [],
   "source": [
    "train = questions_data.loc[questions_data['SPLIT'] == \"TRAIN\"]\n",
    "test = questions_data.loc[questions_data['SPLIT'] == \"TEST\"]"
   ]
  },
  {
   "cell_type": "code",
   "execution_count": 5,
   "id": "42e5c092-37a6-4484-a7b7-99da9eb11b7d",
   "metadata": {},
   "outputs": [],
   "source": [
    "train_titles = list(train['Title'])\n",
    "train_labels = list(train['has_positive_answer'])\n",
    "\n",
    "test_titles = list(test['Title'])\n",
    "test_labels = list(test['has_positive_answer'])"
   ]
  },
  {
   "cell_type": "code",
   "execution_count": 6,
   "id": "838efbf2-51a1-48a0-8ade-cb631bd987d7",
   "metadata": {},
   "outputs": [],
   "source": [
    "train_cv = cv.fit_transform(train_titles).todense()\n",
    "test_cv = cv.transform(test_titles).todense()"
   ]
  },
  {
   "cell_type": "code",
   "execution_count": 7,
   "id": "851706a7-06e5-4225-b118-0e651e95a66c",
   "metadata": {},
   "outputs": [],
   "source": [
    "train_cv = tf.convert_to_tensor(train_cv)\n",
    "test_cv = tf.convert_to_tensor(test_cv)"
   ]
  },
  {
   "cell_type": "code",
   "execution_count": 8,
   "id": "f957b2df-75f2-4970-8df1-5dc0b0f72cb5",
   "metadata": {},
   "outputs": [
    {
     "data": {
      "text/plain": [
       "{'python': 19,\n",
       " 'using': 24,\n",
       " 'array': 0,\n",
       " 'class': 1,\n",
       " 'django': 6,\n",
       " 'use': 23,\n",
       " 'create': 3,\n",
       " 'function': 11,\n",
       " 'module': 14,\n",
       " 'string': 21,\n",
       " 'does': 7,\n",
       " 'file': 9,\n",
       " 'data': 4,\n",
       " 'code': 2,\n",
       " 'files': 10,\n",
       " 'way': 28,\n",
       " 'script': 20,\n",
       " 'object': 17,\n",
       " 'variable': 27,\n",
       " 'multiple': 15,\n",
       " 'values': 26,\n",
       " 'text': 22,\n",
       " 'list': 12,\n",
       " 'dictionary': 5,\n",
       " 'error': 8,\n",
       " 'value': 25,\n",
       " 'loop': 13,\n",
       " 'numpy': 16,\n",
       " 'pandas': 18}"
      ]
     },
     "execution_count": 8,
     "metadata": {},
     "output_type": "execute_result"
    }
   ],
   "source": [
    "cv.vocabulary_"
   ]
  },
  {
   "cell_type": "code",
   "execution_count": 9,
   "id": "b3ff99a6-3cce-41c8-88d2-eaf7a2c8484b",
   "metadata": {},
   "outputs": [
    {
     "data": {
      "text/plain": [
       "29"
      ]
     },
     "execution_count": 9,
     "metadata": {},
     "output_type": "execute_result"
    }
   ],
   "source": [
    "cv_vocab_size = len(cv.vocabulary_)\n",
    "cv_vocab_size"
   ]
  },
  {
   "cell_type": "code",
   "execution_count": 10,
   "id": "04aa7fb6-f722-4d85-bf83-7288c74b28d6",
   "metadata": {},
   "outputs": [],
   "source": [
    "max_length = 20 # seems like this encompasses most titles"
   ]
  },
  {
   "cell_type": "code",
   "execution_count": 11,
   "id": "9c4c08d1-8bc0-4b2f-acea-ce5bb70fb697",
   "metadata": {},
   "outputs": [],
   "source": [
    "x_train = bert_tokenizer(train_titles,\n",
    "              max_length=max_length,\n",
    "              truncation=True,\n",
    "              padding='max_length', \n",
    "              return_tensors='tf')\n",
    "y_train = tf.convert_to_tensor(train_labels)\n",
    "\n",
    "x_test = bert_tokenizer(test_titles,\n",
    "              max_length=max_length,\n",
    "              truncation=True,\n",
    "              padding='max_length', \n",
    "              return_tensors='tf')\n",
    "y_test = tf.convert_to_tensor(test_labels)"
   ]
  },
  {
   "cell_type": "code",
   "execution_count": 12,
   "id": "a772c985-b320-46a7-ad02-bcc9f0632465",
   "metadata": {},
   "outputs": [
    {
     "data": {
      "text/plain": [
       "{0: 1.5165523114856558, 1: 0.7459293015965245}"
      ]
     },
     "execution_count": 12,
     "metadata": {},
     "output_type": "execute_result"
    }
   ],
   "source": [
    "from sklearn.utils import class_weight\n",
    "class_weights = class_weight.compute_class_weight(class_weight='balanced', classes=np.unique(y_train.numpy()), y=y_train.numpy())\n",
    "class_weights_dict = {}\n",
    "for i in range(0,2):\n",
    "    class_weights_dict[i] = class_weights[i]\n",
    "class_weights_dict"
   ]
  },
  {
   "cell_type": "code",
   "execution_count": 13,
   "id": "2b95989a-8ac6-4628-a664-853eebbac22c",
   "metadata": {},
   "outputs": [],
   "source": [
    "def build_bert_count_vector_model(bert_model,\n",
    "                                     learning_rate=0.00005):\n",
    "    \n",
    "    bert_model.trainable = False\n",
    "\n",
    "    input_ids = tf.keras.layers.Input(shape=(max_length,), dtype=tf.int64, name='input_ids_layer')\n",
    "    token_type_ids = tf.keras.layers.Input(shape=(max_length,), dtype=tf.int64, name='token_type_ids_layer')\n",
    "    attention_mask = tf.keras.layers.Input(shape=(max_length,), dtype=tf.int64, name='attention_mask_layer')\n",
    "\n",
    "    bert_inputs = {'input_ids': input_ids,\n",
    "                   'token_type_ids': token_type_ids,\n",
    "                   'attention_mask': attention_mask}      \n",
    "    bert_out = bert_model(bert_inputs)\n",
    "    \n",
    "    pooled_token = bert_out[1]\n",
    "    \n",
    "    # first concatenate the count vector w/ pooled token, prior to dense layer\n",
    "    \n",
    "    # count vector layer\n",
    "    count_vector_layer = tf.keras.layers.Input(shape=(cv_vocab_size,), dtype=tf.float32, name='count vector layer')\n",
    "    \n",
    "    concatenated_layers = concatenate([pooled_token, count_vector_layer])\n",
    "    \n",
    "    # after concatenating, put through large dense layer\n",
    "    \n",
    "    dense_layer = tf.keras.layers.Dense(300, activation='relu', name='hidden_layer')(concatenated_layers)\n",
    "    \n",
    "    dropout = tf.keras.layers.Dropout(0.3)(dense_layer)  \n",
    "\n",
    "    classification = tf.keras.layers.Dense(1, activation='sigmoid',name='classification_layer')(dropout)\n",
    "    \n",
    "    classification_model = tf.keras.Model(inputs=[input_ids, token_type_ids, attention_mask, count_vector_layer], outputs=[classification])\n",
    "    \n",
    "    classification_model.compile(optimizer=tf.keras.optimizers.Adam(learning_rate=learning_rate),\n",
    "                                 loss=tf.keras.losses.BinaryCrossentropy(from_logits=False), \n",
    "                                 metrics='accuracy')\n",
    "    \n",
    "    return classification_model"
   ]
  },
  {
   "cell_type": "code",
   "execution_count": 14,
   "id": "5ca0fb6b-ef6a-47f0-bada-f78c335dc8f4",
   "metadata": {},
   "outputs": [],
   "source": [
    "bert_classification_model = build_bert_count_vector_model(bert_model)"
   ]
  },
  {
   "cell_type": "code",
   "execution_count": 15,
   "id": "d86a4ef4-b604-43b1-b593-18edbdb794aa",
   "metadata": {},
   "outputs": [
    {
     "name": "stdout",
     "output_type": "stream",
     "text": [
      "Model: \"model\"\n",
      "__________________________________________________________________________________________________\n",
      " Layer (type)                   Output Shape         Param #     Connected to                     \n",
      "==================================================================================================\n",
      " attention_mask_layer (InputLay  [(None, 20)]        0           []                               \n",
      " er)                                                                                              \n",
      "                                                                                                  \n",
      " input_ids_layer (InputLayer)   [(None, 20)]         0           []                               \n",
      "                                                                                                  \n",
      " token_type_ids_layer (InputLay  [(None, 20)]        0           []                               \n",
      " er)                                                                                              \n",
      "                                                                                                  \n",
      " tf_bert_model (TFBertModel)    TFBaseModelOutputWi  108310272   ['attention_mask_layer[0][0]',   \n",
      "                                thPoolingAndCrossAt               'input_ids_layer[0][0]',        \n",
      "                                tentions(last_hidde               'token_type_ids_layer[0][0]']   \n",
      "                                n_state=(None, 20,                                                \n",
      "                                768),                                                             \n",
      "                                 pooler_output=(Non                                               \n",
      "                                e, 768),                                                          \n",
      "                                 past_key_values=No                                               \n",
      "                                ne, hidden_states=N                                               \n",
      "                                one, attentions=Non                                               \n",
      "                                e, cross_attentions                                               \n",
      "                                =None)                                                            \n",
      "                                                                                                  \n",
      " count vector layer (InputLayer  [(None, 29)]        0           []                               \n",
      " )                                                                                                \n",
      "                                                                                                  \n",
      " concatenate (Concatenate)      (None, 797)          0           ['tf_bert_model[0][1]',          \n",
      "                                                                  'count vector layer[0][0]']     \n",
      "                                                                                                  \n",
      " hidden_layer (Dense)           (None, 300)          239400      ['concatenate[0][0]']            \n",
      "                                                                                                  \n",
      " dropout_37 (Dropout)           (None, 300)          0           ['hidden_layer[0][0]']           \n",
      "                                                                                                  \n",
      " classification_layer (Dense)   (None, 1)            301         ['dropout_37[0][0]']             \n",
      "                                                                                                  \n",
      "==================================================================================================\n",
      "Total params: 108,549,973\n",
      "Trainable params: 239,701\n",
      "Non-trainable params: 108,310,272\n",
      "__________________________________________________________________________________________________\n"
     ]
    }
   ],
   "source": [
    "bert_classification_model.summary()"
   ]
  },
  {
   "cell_type": "code",
   "execution_count": 16,
   "id": "d74da790-f5be-452f-8be3-e7fb0250e6f9",
   "metadata": {},
   "outputs": [
    {
     "name": "stdout",
     "output_type": "stream",
     "text": [
      "Epoch 1/2\n",
      "13801/13801 [==============================] - 16725s 1s/step - loss: 0.6809 - accuracy: 0.5584 - val_loss: 0.6445 - val_accuracy: 0.6346\n",
      "Epoch 2/2\n",
      "13801/13801 [==============================] - 12974s 940ms/step - loss: 0.6738 - accuracy: 0.5671 - val_loss: 0.6548 - val_accuracy: 0.6037\n"
     ]
    }
   ],
   "source": [
    "bert_classification_model_history = bert_classification_model.fit(\n",
    "    [x_train.input_ids, x_train.token_type_ids, x_train.attention_mask, train_cv],\n",
    "    y_train,\n",
    "    validation_data=([x_test.input_ids, x_test.token_type_ids, x_test.attention_mask, test_cv], y_test),\n",
    "    batch_size=32,\n",
    "    epochs=2,\n",
    "    class_weight=class_weights_dict\n",
    ")"
   ]
  },
  {
   "cell_type": "code",
   "execution_count": 17,
   "id": "9abc5d1d-4ae1-422d-8f79-5efcebbc85c9",
   "metadata": {},
   "outputs": [
    {
     "name": "stdout",
     "output_type": "stream",
     "text": [
      "5178/5178 [==============================] - 2793s 538ms/step\n"
     ]
    }
   ],
   "source": [
    "y_pred_raw = bert_classification_model.predict([x_test.input_ids, x_test.token_type_ids, x_test.attention_mask, test_cv])\n",
    "y_pred = (y_pred_raw > 0.5).astype(int)"
   ]
  },
  {
   "cell_type": "code",
   "execution_count": 18,
   "id": "a8b72232-9924-4a2a-871d-d156a038a22b",
   "metadata": {},
   "outputs": [],
   "source": [
    "from sklearn.metrics import confusion_matrix\n",
    "from sklearn.metrics import plot_confusion_matrix\n",
    "import seaborn as sns\n",
    "cm = confusion_matrix(y_test, y_pred)\n",
    "\n",
    "group_names = [\"True Neg\", \"False Pos\",\"False Neg\",\"True Pos\"]\n",
    "group_counts = [\"{0:0.0f}\".format(value) for value in cm.flatten()]\n",
    "group_percentages = [\"{0:.2%}\".format(value) for value in cm.flatten()/np.sum(cm)]\n",
    "labels = [f\"{v1}\\n{v2}\\n{v3}\" for v1, v2, v3 in zip(group_names,group_counts,group_percentages)]\n",
    "\n"
   ]
  },
  {
   "cell_type": "code",
   "execution_count": 19,
   "id": "5df61a19-1ca4-4a54-92cf-e31516d884fb",
   "metadata": {},
   "outputs": [
    {
     "data": {
      "image/png": "[encoded data removed]",
      "text/plain": [
       "<Figure size 640x480 with 2 Axes>"
      ]
     },
     "metadata": {},
     "output_type": "display_data"
    }
   ],
   "source": [
    "labels = np.asarray(labels).reshape(2,2)\n",
    "sns.heatmap(cm, fmt=\"\", cmap='Blues', annot=labels)\n",
    "\n",
    "from sklearn import metrics\n",
    "fpr, tpr, _ = metrics.roc_curve(y_test,  y_pred_raw)\n",
    "auc = metrics.roc_auc_score(y_test, y_pred_raw)"
   ]
  },
  {
   "cell_type": "code",
   "execution_count": 20,
   "id": "a74a9bd1-1efd-4291-92cc-bba00f5c3acc",
   "metadata": {},
   "outputs": [
    {
     "data": {
      "image/png": "[encoded data removed]",
      "text/plain": [
       "<Figure size 640x480 with 1 Axes>"
      ]
     },
     "metadata": {},
     "output_type": "display_data"
    }
   ],
   "source": [
    "plt.plot(fpr,tpr,label=\"AUC=\"+str(auc))\n",
    "plt.ylabel('True Positive Rate')\n",
    "plt.xlabel('False Positive Rate')\n",
    "plt.legend(loc=4)\n",
    "plt.show()"
   ]
  },
  {
   "cell_type": "code",
   "execution_count": 21,
   "id": "d0e9e606-4155-4a17-b68e-baee6eae56c0",
   "metadata": {},
   "outputs": [
    {
     "name": "stdout",
     "output_type": "stream",
     "text": [
      "f1 score is: 0.6828056987434357\n",
      "precision score is: 0.7377465053398615\n",
      "recall score is: 0.6354807381029459\n"
     ]
    }
   ],
   "source": [
    "from sklearn.metrics import f1_score, precision_score, recall_score\n",
    "f1 = f1_score(y_test, y_pred)\n",
    "precision = precision_score(y_test, y_pred)\n",
    "recall = recall_score(y_test, y_pred)\n",
    "\n",
    "print(f\"f1 score is: {f1}\")\n",
    "print(f\"precision score is: {precision}\")\n",
    "print(f\"recall score is: {recall}\")"
   ]
  },
  {
   "cell_type": "code",
   "execution_count": null,
   "id": "7ee5f16d-f6a4-42e4-bc4b-5a2afa2e3f97",
   "metadata": {},
   "outputs": [],
   "source": []
  }
 ],
 "metadata": {
  "kernelspec": {
   "display_name": "Python 3 (ipykernel)",
   "language": "python",
   "name": "python3"
  },
  "language_info": {
   "codemirror_mode": {
    "name": "ipython",
    "version": 3
   },
   "file_extension": ".py",
   "mimetype": "text/x-python",
   "name": "python",
   "nbconvert_exporter": "python",
   "pygments_lexer": "ipython3",
   "version": "3.8.10"
  }
 },
 "nbformat": 4,
 "nbformat_minor": 5
}
