{
 "cells": [
  {
   "cell_type": "code",
   "execution_count": 38,
   "id": "9e6cb83f-1b42-41a4-9b7e-f7f5b3bfe421",
   "metadata": {},
   "outputs": [],
   "source": [
    "import numpy as np\n",
    "import tensorflow as tf\n",
    "from tensorflow import keras\n",
    "\n",
    "from tensorflow.keras.layers import Embedding, Input, Dense, Lambda\n",
    "from tensorflow.keras.models import Model\n",
    "import tensorflow.keras.backend as K\n",
    "import tensorflow_datasets as tfds\n",
    "import pandas as pd\n",
    "\n",
    "import sklearn as sk\n",
    "import os\n",
    "import nltk\n",
    "from nltk.data import find\n",
    "\n",
    "import matplotlib.pyplot as plt\n",
    "from sklearn.model_selection import train_test_split\n",
    "import re\n",
    "from sklearn.utils import class_weight"
   ]
  },
  {
   "cell_type": "markdown",
   "id": "d5f9c83e-b858-4323-b6b0-6acdc3af87cd",
   "metadata": {},
   "source": [
    "## Model to combine the output of Naive Bayes Classifier, and read the pooled output from BERT Model"
   ]
  },
  {
   "cell_type": "code",
   "execution_count": 39,
   "id": "5afc4c3e-81cb-41ea-8753-fde3f4862a51",
   "metadata": {},
   "outputs": [
    {
     "name": "stderr",
     "output_type": "stream",
     "text": [
      "Some layers from the model checkpoint at bert-base-cased were not used when initializing TFBertModel: ['nsp___cls', 'mlm___cls']\n",
      "- This IS expected if you are initializing TFBertModel from the checkpoint of a model trained on another task or with another architecture (e.g. initializing a BertForSequenceClassification model from a BertForPreTraining model).\n",
      "- This IS NOT expected if you are initializing TFBertModel from the checkpoint of a model that you expect to be exactly identical (initializing a BertForSequenceClassification model from a BertForSequenceClassification model).\n",
      "All the layers of TFBertModel were initialized from the model checkpoint at bert-base-cased.\n",
      "If your task is similar to the task the model of the checkpoint was trained on, you can already use TFBertModel for predictions without further training.\n"
     ]
    }
   ],
   "source": [
    "from transformers import BertTokenizer, TFBertModel\n",
    "bert_tokenizer = BertTokenizer.from_pretrained('bert-base-cased')\n",
    "bert_model = TFBertModel.from_pretrained('bert-base-cased')"
   ]
  },
  {
   "cell_type": "code",
   "execution_count": 40,
   "id": "872e03b3-dcf3-49df-875b-c5bd2982e74f",
   "metadata": {},
   "outputs": [],
   "source": [
    "# bring in the data\n",
    "questions_data = pd.read_csv(\"questions_nb_predictions.csv\")"
   ]
  },
  {
   "cell_type": "code",
   "execution_count": 41,
   "id": "396f1f06-3383-4cce-9ec3-81afe3664ca4",
   "metadata": {},
   "outputs": [],
   "source": [
    "from sklearn.utils import shuffle\n",
    "questions_data = shuffle(questions_data)"
   ]
  },
  {
   "cell_type": "code",
   "execution_count": 42,
   "id": "9d51270a-7ad7-4113-af92-15aa7308104b",
   "metadata": {},
   "outputs": [],
   "source": [
    "questions_data = questions_data.head(50) # just doing small subset to make it work at first"
   ]
  },
  {
   "cell_type": "code",
   "execution_count": 48,
   "id": "95ec3ce1-ab28-4ce2-b474-fe9da0f67863",
   "metadata": {},
   "outputs": [],
   "source": [
    "train_df = questions_data.loc[questions_data['SPLIT'] == 'TRAIN']\n",
    "test_df = questions_data.loc[questions_data['SPLIT'] == 'TEST']"
   ]
  },
  {
   "cell_type": "code",
   "execution_count": 49,
   "id": "45a92b9a-8dd9-4d15-8355-ba6028cca3e2",
   "metadata": {},
   "outputs": [],
   "source": [
    "def make_input(title, nb_prob):\n",
    "    title = row['Title']\n",
    "    tokenized_output = bert_tokenizer([text],\n",
    "        truncation=True,\n",
    "        padding='max_length', \n",
    "        return_tensors='tf')\n",
    "    \n",
    "    bert_encoding = bert_model(\n",
    "        tokenized_output\n",
    "    )"
   ]
  },
  {
   "cell_type": "code",
   "execution_count": 29,
   "id": "af9f4441-2504-4169-ae46-bccfa6558c47",
   "metadata": {},
   "outputs": [],
   "source": [
    "train_titles = list(train['Title'])\n",
    "train_labels = list(train['has_positive_answer'])"
   ]
  },
  {
   "cell_type": "code",
   "execution_count": 30,
   "id": "2a9bfa08-93c6-457e-a9b3-9d3de1993126",
   "metadata": {},
   "outputs": [],
   "source": [
    "test_titles = list(test['Title'])\n",
    "test_labels = list(test['has_positive_answer'])"
   ]
  },
  {
   "cell_type": "code",
   "execution_count": 31,
   "id": "2befc8a1-b0eb-4163-aa7b-bc569ff3ee2b",
   "metadata": {},
   "outputs": [],
   "source": [
    "class_weights_dict = {0: 1.5157873389285825, 1: 0.7461145068648831}"
   ]
  },
  {
   "cell_type": "code",
   "execution_count": 32,
   "id": "0b528d0d-d4a5-4dd5-a16a-88c284bb6208",
   "metadata": {},
   "outputs": [],
   "source": [
    "max_length = 20"
   ]
  },
  {
   "cell_type": "code",
   "execution_count": 35,
   "id": "aa261649-2aa6-488e-98ac-639bcf774c70",
   "metadata": {},
   "outputs": [],
   "source": [
    "def get_pooled_output(text):\n",
    "    tokenized_output = bert_tokenizer([text],\n",
    "        max_length=20,\n",
    "        truncation=True,\n",
    "        padding='max_length', \n",
    "        return_tensors='tf')\n",
    "    \n",
    "    bert_encoding = bert_model(\n",
    "        tokenized_output\n",
    "    )\n",
    "    \n",
    "    return bert_encoding[1].numpy()[0].tolist()"
   ]
  },
  {
   "cell_type": "code",
   "execution_count": 37,
   "id": "1f1870f2-fe91-4d47-a00a-72991c2e7b22",
   "metadata": {},
   "outputs": [],
   "source": [
    "train_data = {}\n",
    "test_data = {}"
   ]
  },
  {
   "cell_type": "code",
   "execution_count": null,
   "id": "acb53685-a738-460f-a3e7-7b75db74b643",
   "metadata": {},
   "outputs": [],
   "source": []
  }
 ],
 "metadata": {
  "kernelspec": {
   "display_name": "Python 3 (ipykernel)",
   "language": "python",
   "name": "python3"
  },
  "language_info": {
   "codemirror_mode": {
    "name": "ipython",
    "version": 3
   },
   "file_extension": ".py",
   "mimetype": "text/x-python",
   "name": "python",
   "nbconvert_exporter": "python",
   "pygments_lexer": "ipython3",
   "version": "3.8.10"
  }
 },
 "nbformat": 4,
 "nbformat_minor": 5
}
