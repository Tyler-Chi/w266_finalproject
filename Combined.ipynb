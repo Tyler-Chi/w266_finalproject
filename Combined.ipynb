{
 "cells": [
  {
   "cell_type": "code",
   "execution_count": 1,
   "id": "9e6cb83f-1b42-41a4-9b7e-f7f5b3bfe421",
   "metadata": {},
   "outputs": [
    {
     "name": "stderr",
     "output_type": "stream",
     "text": [
      "2022-11-28 16:44:34.087483: I tensorflow/core/util/util.cc:169] oneDNN custom operations are on. You may see slightly different numerical results due to floating-point round-off errors from different computation orders. To turn them off, set the environment variable `TF_ENABLE_ONEDNN_OPTS=0`.\n"
     ]
    }
   ],
   "source": [
    "import numpy as np\n",
    "import tensorflow as tf\n",
    "from tensorflow import keras\n",
    "\n",
    "from tensorflow.keras.layers import Embedding, Input, Dense, Lambda\n",
    "from tensorflow.keras.models import Model\n",
    "import tensorflow.keras.backend as K\n",
    "import tensorflow_datasets as tfds\n",
    "import pandas as pd\n",
    "\n",
    "import sklearn as sk\n",
    "import os\n",
    "import nltk\n",
    "from nltk.data import find\n",
    "\n",
    "import matplotlib.pyplot as plt\n",
    "from sklearn.model_selection import train_test_split\n",
    "import re\n",
    "from sklearn.utils import class_weight"
   ]
  },
  {
   "cell_type": "code",
   "execution_count": 2,
   "id": "fa3e5754-abe1-4782-9c38-4cf6fb71191b",
   "metadata": {},
   "outputs": [],
   "source": [
    "# Overall process will be\n",
    "# Do the BERT transformations OUTSIDE of the model, and pass in as a matrix of dimensions:\n",
    "# 20*768\n",
    "# In addition, pass in list of features\n",
    "# Concatenate dense layers inside the model"
   ]
  },
  {
   "cell_type": "code",
   "execution_count": 3,
   "id": "5afc4c3e-81cb-41ea-8753-fde3f4862a51",
   "metadata": {},
   "outputs": [
    {
     "name": "stderr",
     "output_type": "stream",
     "text": [
      "2022-11-28 16:44:37.076657: I tensorflow/stream_executor/cuda/cuda_gpu_executor.cc:961] could not open file to read NUMA node: /sys/bus/pci/devices/0000:01:00.0/numa_node\n",
      "Your kernel may have been built without NUMA support.\n",
      "2022-11-28 16:44:37.099645: W tensorflow/stream_executor/platform/default/dso_loader.cc:64] Could not load dynamic library 'libcudnn.so.8'; dlerror: libcudnn.so.8: cannot open shared object file: No such file or directory\n",
      "2022-11-28 16:44:37.099664: W tensorflow/core/common_runtime/gpu/gpu_device.cc:1850] Cannot dlopen some GPU libraries. Please make sure the missing libraries mentioned above are installed properly if you would like to use GPU. Follow the guide at https://www.tensorflow.org/install/gpu for how to download and setup the required libraries for your platform.\n",
      "Skipping registering GPU devices...\n",
      "2022-11-28 16:44:37.100235: I tensorflow/core/platform/cpu_feature_guard.cc:193] This TensorFlow binary is optimized with oneAPI Deep Neural Network Library (oneDNN) to use the following CPU instructions in performance-critical operations:  AVX2 AVX512F AVX512_VNNI FMA\n",
      "To enable them in other operations, rebuild TensorFlow with the appropriate compiler flags.\n",
      "Some layers from the model checkpoint at bert-base-cased were not used when initializing TFBertModel: ['mlm___cls', 'nsp___cls']\n",
      "- This IS expected if you are initializing TFBertModel from the checkpoint of a model trained on another task or with another architecture (e.g. initializing a BertForSequenceClassification model from a BertForPreTraining model).\n",
      "- This IS NOT expected if you are initializing TFBertModel from the checkpoint of a model that you expect to be exactly identical (initializing a BertForSequenceClassification model from a BertForSequenceClassification model).\n",
      "All the layers of TFBertModel were initialized from the model checkpoint at bert-base-cased.\n",
      "If your task is similar to the task the model of the checkpoint was trained on, you can already use TFBertModel for predictions without further training.\n"
     ]
    }
   ],
   "source": [
    "from transformers import BertTokenizer, TFBertModel\n",
    "bert_tokenizer = BertTokenizer.from_pretrained('bert-base-cased')\n",
    "bert_model = TFBertModel.from_pretrained('bert-base-cased')"
   ]
  },
  {
   "cell_type": "code",
   "execution_count": 4,
   "id": "872e03b3-dcf3-49df-875b-c5bd2982e74f",
   "metadata": {},
   "outputs": [],
   "source": [
    "# bring in the data\n",
    "questions_data = pd.read_csv(\"processed_questions.csv\")"
   ]
  },
  {
   "cell_type": "code",
   "execution_count": 5,
   "id": "396f1f06-3383-4cce-9ec3-81afe3664ca4",
   "metadata": {},
   "outputs": [],
   "source": [
    "from sklearn.utils import shuffle\n",
    "questions_data = shuffle(questions_data)"
   ]
  },
  {
   "cell_type": "code",
   "execution_count": 6,
   "id": "9d51270a-7ad7-4113-af92-15aa7308104b",
   "metadata": {},
   "outputs": [],
   "source": [
    "questions_data = questions_data.head(50) # just doing small subset to make it work at first"
   ]
  },
  {
   "cell_type": "code",
   "execution_count": 7,
   "id": "d374beb7-1c89-4e53-bd91-c4dbf2949fa7",
   "metadata": {},
   "outputs": [],
   "source": [
    "train, test = train_test_split(questions_data, test_size=0.2)"
   ]
  },
  {
   "cell_type": "code",
   "execution_count": 8,
   "id": "af9f4441-2504-4169-ae46-bccfa6558c47",
   "metadata": {},
   "outputs": [],
   "source": [
    "train_titles = list(train['Title'])\n",
    "train_labels = list(train['has_positive_answer'])"
   ]
  },
  {
   "cell_type": "code",
   "execution_count": 9,
   "id": "2a9bfa08-93c6-457e-a9b3-9d3de1993126",
   "metadata": {},
   "outputs": [],
   "source": [
    "test_titles = list(test['Title'])\n",
    "test_labels = list(test['has_positive_answer'])"
   ]
  },
  {
   "cell_type": "code",
   "execution_count": 10,
   "id": "2befc8a1-b0eb-4163-aa7b-bc569ff3ee2b",
   "metadata": {},
   "outputs": [],
   "source": [
    "class_weights_dict = {0: 1.5157873389285825, 1: 0.7461145068648831}"
   ]
  },
  {
   "cell_type": "code",
   "execution_count": 11,
   "id": "0b528d0d-d4a5-4dd5-a16a-88c284bb6208",
   "metadata": {},
   "outputs": [],
   "source": [
    "max_length = 20"
   ]
  },
  {
   "cell_type": "code",
   "execution_count": 12,
   "id": "1d42f469-0369-4851-9ccb-0a3685271aab",
   "metadata": {},
   "outputs": [],
   "source": [
    "def get_bert_encodings(text):\n",
    "    tokenized_output = bert_tokenizer([text],\n",
    "        max_length=max_length,\n",
    "        truncation=True,\n",
    "        padding='max_length', \n",
    "        return_tensors='tf')\n",
    "    \n",
    "    bert_encoding = bert_model(\n",
    "        tokenized_output\n",
    "    )\n",
    "    \n",
    "    return bert_encoding[0].numpy()[0].tolist()\n",
    "        \n",
    "test_output = get_bert_encodings(\"Tyler was here\")"
   ]
  },
  {
   "cell_type": "code",
   "execution_count": 13,
   "id": "027adbd8-3b00-435b-a370-61091c541d71",
   "metadata": {},
   "outputs": [
    {
     "name": "stdout",
     "output_type": "stream",
     "text": [
      "CPU times: user 6min 26s, sys: 29.8 s, total: 6min 55s\n",
      "Wall time: 2min 22s\n"
     ]
    }
   ],
   "source": [
    "%%time\n",
    "train_bert_encodings = [get_bert_encodings(x) for x in train_titles]\n",
    "test_bert_encodings = [get_bert_encodings(x) for x in test_titles]"
   ]
  },
  {
   "cell_type": "code",
   "execution_count": 14,
   "id": "194cfc00-0cef-4b5c-9050-147a618acfaf",
   "metadata": {},
   "outputs": [],
   "source": [
    "train_title_counts = list(train['Title_Word_Count'])\n",
    "test_title_counts = list(test['Title_Word_Count'])"
   ]
  },
  {
   "cell_type": "code",
   "execution_count": 15,
   "id": "fc7552bb-b0d0-4695-b96b-077a01116452",
   "metadata": {},
   "outputs": [],
   "source": [
    "def build_model():\n",
    "    \n",
    "    bert_input_layer = tf.keras.layers.Input(shape=(max_length,768,), dtype=tf.int64, name='input_layer')\n",
    "    \n",
    "    # flattening layer\n",
    "    flatten = tf.keras.layers.Flatten()(bert_input_layer)\n",
    "    \n",
    "    bert_hidden_layer = tf.keras.layers.Dense(200, activation='relu', name='hidden_layer')(flatten)\n",
    "\n",
    "    dropout_layer = tf.keras.layers.Dropout(0.03)(bert_hidden_layer)\n",
    "\n",
    "    classification = tf.keras.layers.Dense(1, activation='sigmoid',name='classification_layer')(dropout_layer)\n",
    "    \n",
    "    classification_model = tf.keras.Model(inputs=bert_input_layer, outputs=classification)\n",
    "\n",
    "    classification_model.compile(optimizer='adam',\n",
    "                                     loss=tf.keras.losses.BinaryCrossentropy(from_logits=False), \n",
    "                                     metrics='accuracy')\n",
    "    return classification_model"
   ]
  },
  {
   "cell_type": "code",
   "execution_count": 16,
   "id": "cd9bbb03-d306-40e3-8f60-428d4e7adc5b",
   "metadata": {},
   "outputs": [],
   "source": [
    "classification_model = build_model()"
   ]
  },
  {
   "cell_type": "code",
   "execution_count": 26,
   "id": "f8e8decf-0c4c-4d43-90e4-33c5d799faee",
   "metadata": {},
   "outputs": [
    {
     "name": "stdout",
     "output_type": "stream",
     "text": [
      "Model: \"model\"\n",
      "_________________________________________________________________\n",
      " Layer (type)                Output Shape              Param #   \n",
      "=================================================================\n",
      " input_layer (InputLayer)    [(None, 20, 768)]         0         \n",
      "                                                                 \n",
      " flatten (Flatten)           (None, 15360)             0         \n",
      "                                                                 \n",
      " hidden_layer (Dense)        (None, 200)               3072200   \n",
      "                                                                 \n",
      " dropout_37 (Dropout)        (None, 200)               0         \n",
      "                                                                 \n",
      " classification_layer (Dense  (None, 1)                201       \n",
      " )                                                               \n",
      "                                                                 \n",
      "=================================================================\n",
      "Total params: 3,072,401\n",
      "Trainable params: 3,072,401\n",
      "Non-trainable params: 0\n",
      "_________________________________________________________________\n"
     ]
    }
   ],
   "source": [
    "classification_model.summary()"
   ]
  },
  {
   "cell_type": "code",
   "execution_count": 17,
   "id": "96fbcadf-8af8-4c70-a15e-5b445da67b65",
   "metadata": {},
   "outputs": [
    {
     "name": "stdout",
     "output_type": "stream",
     "text": [
      "Epoch 1/5\n",
      "25/25 [==============================] - 6s 229ms/step - loss: 0.7507 - accuracy: 0.5300 - val_loss: 0.6730 - val_accuracy: 0.5850\n",
      "Epoch 2/5\n",
      "25/25 [==============================] - 0s 14ms/step - loss: 0.3575 - accuracy: 0.8950 - val_loss: 0.6965 - val_accuracy: 0.6900\n",
      "Epoch 3/5\n",
      "25/25 [==============================] - 0s 14ms/step - loss: 0.1647 - accuracy: 0.9750 - val_loss: 0.7538 - val_accuracy: 0.5750\n",
      "Epoch 4/5\n",
      "25/25 [==============================] - 0s 14ms/step - loss: 0.0586 - accuracy: 0.9987 - val_loss: 0.8018 - val_accuracy: 0.6250\n",
      "Epoch 5/5\n",
      "25/25 [==============================] - 0s 14ms/step - loss: 0.0252 - accuracy: 1.0000 - val_loss: 0.8535 - val_accuracy: 0.6550\n"
     ]
    }
   ],
   "source": [
    "model_history = classification_model.fit(\n",
    "    train_bert_encodings,\n",
    "    train_labels,\n",
    "    validation_data = (test_bert_encodings, test_labels),\n",
    "    batch_size=32,\n",
    "    epochs=5,\n",
    "    class_weight=class_weights_dict,\n",
    "    verbose=True\n",
    ")"
   ]
  },
  {
   "cell_type": "code",
   "execution_count": 18,
   "id": "02e76db0-aa7b-4fa4-89cb-226975154ff6",
   "metadata": {},
   "outputs": [
    {
     "name": "stdout",
     "output_type": "stream",
     "text": [
      "7/7 [==============================] - 0s 4ms/step\n"
     ]
    }
   ],
   "source": [
    "y_pred_raw = classification_model.predict(test_bert_encodings)"
   ]
  },
  {
   "cell_type": "code",
   "execution_count": 19,
   "id": "c78694b5-894b-4f09-87fd-af2ca4afa4b0",
   "metadata": {},
   "outputs": [],
   "source": [
    "y_pred = (y_pred_raw > 0.5).astype(int)"
   ]
  },
  {
   "cell_type": "code",
   "execution_count": 20,
   "id": "b012c788-de07-488e-a162-120cf9f92c4a",
   "metadata": {},
   "outputs": [],
   "source": [
    "from sklearn.metrics import confusion_matrix\n",
    "from sklearn.metrics import plot_confusion_matrix\n",
    "import seaborn as sns\n",
    "cm = confusion_matrix(test_labels, y_pred)"
   ]
  },
  {
   "cell_type": "code",
   "execution_count": 21,
   "id": "9dc96ea9-d9a6-4245-a8fd-68d75a327eb9",
   "metadata": {},
   "outputs": [
    {
     "data": {
      "text/plain": [
       "<AxesSubplot:>"
      ]
     },
     "execution_count": 21,
     "metadata": {},
     "output_type": "execute_result"
    },
    {
     "data": {
      "image/png": "[encoded data removed]",
      "text/plain": [
       "<Figure size 640x480 with 2 Axes>"
      ]
     },
     "metadata": {},
     "output_type": "display_data"
    }
   ],
   "source": [
    "group_names = [\"True Neg\", \"False Pos\",\"False Neg\",\"True Pos\"]\n",
    "group_counts = [\"{0:0.0f}\".format(value) for value in cm.flatten()]\n",
    "group_percentages = [\"{0:.2%}\".format(value) for value in cm.flatten()/np.sum(cm)]\n",
    "labels = [f\"{v1}\\n{v2}\\n{v3}\" for v1, v2, v3 in zip(group_names,group_counts,group_percentages)]\n",
    "\n",
    "labels = np.asarray(labels).reshape(2,2)\n",
    "sns.heatmap(cm, fmt=\"\", cmap='Blues', annot=labels)"
   ]
  },
  {
   "cell_type": "code",
   "execution_count": 23,
   "id": "cce24498-58f8-4561-9267-10695ca42187",
   "metadata": {},
   "outputs": [],
   "source": [
    "from sklearn import metrics\n",
    "fpr, tpr, _ = metrics.roc_curve(test_labels,  y_pred_raw)\n",
    "auc = metrics.roc_auc_score(test_labels, y_pred_raw)"
   ]
  },
  {
   "cell_type": "code",
   "execution_count": 24,
   "id": "de635261-38df-4fd4-ad8f-5d794941dd38",
   "metadata": {},
   "outputs": [
    {
     "data": {
      "image/png": "[encoded data removed]",
      "text/plain": [
       "<Figure size 640x480 with 1 Axes>"
      ]
     },
     "metadata": {},
     "output_type": "display_data"
    }
   ],
   "source": [
    "plt.plot(fpr,tpr,label=\"AUC=\"+str(auc))\n",
    "plt.ylabel('True Positive Rate')\n",
    "plt.xlabel('False Positive Rate')\n",
    "plt.legend(loc=4)\n",
    "plt.show()"
   ]
  },
  {
   "cell_type": "code",
   "execution_count": null,
   "id": "838adef8-5355-41c2-83bf-a73165f99b10",
   "metadata": {},
   "outputs": [],
   "source": []
  }
 ],
 "metadata": {
  "kernelspec": {
   "display_name": "Python 3 (ipykernel)",
   "language": "python",
   "name": "python3"
  },
  "language_info": {
   "codemirror_mode": {
    "name": "ipython",
    "version": 3
   },
   "file_extension": ".py",
   "mimetype": "text/x-python",
   "name": "python",
   "nbconvert_exporter": "python",
   "pygments_lexer": "ipython3",
   "version": "3.8.10"
  }
 },
 "nbformat": 4,
 "nbformat_minor": 5
}
