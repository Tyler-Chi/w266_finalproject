{
 "cells": [
  {
   "cell_type": "code",
   "execution_count": 62,
   "id": "4233b904",
   "metadata": {},
   "outputs": [],
   "source": [
    "import pandas as pd \n",
    "import numpy as np\n",
    "import matplotlib.pyplot as plt\n",
    "import seaborn as sns"
   ]
  },
  {
   "cell_type": "code",
   "execution_count": 63,
   "id": "3de99427",
   "metadata": {},
   "outputs": [],
   "source": [
    "# making dataframe \n",
    "answers_df = pd.read_csv(\"./Answers.csv\", encoding = \"ISO-8859-1\") \n",
    "questions_df = pd.read_csv(\"./Questions.csv\", encoding = \"ISO-8859-1\")\n",
    "tags_df = pd.read_csv(\"./Tags.csv\", encoding = \"ISO-8859-1\")"
   ]
  },
  {
   "cell_type": "code",
   "execution_count": 64,
   "id": "32e06c94",
   "metadata": {},
   "outputs": [
    {
     "data": {
      "text/html": [
       "<div>\n",
       "<style scoped>\n",
       "    .dataframe tbody tr th:only-of-type {\n",
       "        vertical-align: middle;\n",
       "    }\n",
       "\n",
       "    .dataframe tbody tr th {\n",
       "        vertical-align: top;\n",
       "    }\n",
       "\n",
       "    .dataframe thead th {\n",
       "        text-align: right;\n",
       "    }\n",
       "</style>\n",
       "<table border=\"1\" class=\"dataframe\">\n",
       "  <thead>\n",
       "    <tr style=\"text-align: right;\">\n",
       "      <th></th>\n",
       "      <th>Id</th>\n",
       "      <th>OwnerUserId</th>\n",
       "      <th>CreationDate</th>\n",
       "      <th>ParentId</th>\n",
       "      <th>Score</th>\n",
       "      <th>Body</th>\n",
       "    </tr>\n",
       "  </thead>\n",
       "  <tbody>\n",
       "    <tr>\n",
       "      <th>0</th>\n",
       "      <td>497</td>\n",
       "      <td>50.0</td>\n",
       "      <td>2008-08-02T16:56:53Z</td>\n",
       "      <td>469</td>\n",
       "      <td>4</td>\n",
       "      <td>&lt;p&gt;open up a terminal (Applications-&amp;gt;Utilit...</td>\n",
       "    </tr>\n",
       "    <tr>\n",
       "      <th>1</th>\n",
       "      <td>518</td>\n",
       "      <td>153.0</td>\n",
       "      <td>2008-08-02T17:42:28Z</td>\n",
       "      <td>469</td>\n",
       "      <td>2</td>\n",
       "      <td>&lt;p&gt;I haven't been able to find anything that d...</td>\n",
       "    </tr>\n",
       "    <tr>\n",
       "      <th>2</th>\n",
       "      <td>536</td>\n",
       "      <td>161.0</td>\n",
       "      <td>2008-08-02T18:49:07Z</td>\n",
       "      <td>502</td>\n",
       "      <td>9</td>\n",
       "      <td>&lt;p&gt;You can use ImageMagick's convert utility f...</td>\n",
       "    </tr>\n",
       "    <tr>\n",
       "      <th>3</th>\n",
       "      <td>538</td>\n",
       "      <td>156.0</td>\n",
       "      <td>2008-08-02T18:56:56Z</td>\n",
       "      <td>535</td>\n",
       "      <td>23</td>\n",
       "      <td>&lt;p&gt;One possibility is Hudson.  It's written in...</td>\n",
       "    </tr>\n",
       "    <tr>\n",
       "      <th>4</th>\n",
       "      <td>541</td>\n",
       "      <td>157.0</td>\n",
       "      <td>2008-08-02T19:06:40Z</td>\n",
       "      <td>535</td>\n",
       "      <td>20</td>\n",
       "      <td>&lt;p&gt;We run &lt;a href=\"http://buildbot.net/trac\"&gt;B...</td>\n",
       "    </tr>\n",
       "  </tbody>\n",
       "</table>\n",
       "</div>"
      ],
      "text/plain": [
       "    Id  OwnerUserId          CreationDate  ParentId  Score  \\\n",
       "0  497         50.0  2008-08-02T16:56:53Z       469      4   \n",
       "1  518        153.0  2008-08-02T17:42:28Z       469      2   \n",
       "2  536        161.0  2008-08-02T18:49:07Z       502      9   \n",
       "3  538        156.0  2008-08-02T18:56:56Z       535     23   \n",
       "4  541        157.0  2008-08-02T19:06:40Z       535     20   \n",
       "\n",
       "                                                Body  \n",
       "0  <p>open up a terminal (Applications-&gt;Utilit...  \n",
       "1  <p>I haven't been able to find anything that d...  \n",
       "2  <p>You can use ImageMagick's convert utility f...  \n",
       "3  <p>One possibility is Hudson.  It's written in...  \n",
       "4  <p>We run <a href=\"http://buildbot.net/trac\">B...  "
      ]
     },
     "execution_count": 64,
     "metadata": {},
     "output_type": "execute_result"
    }
   ],
   "source": [
    "answers_df.head(5)"
   ]
  },
  {
   "cell_type": "code",
   "execution_count": 65,
   "id": "0ff3ab05",
   "metadata": {},
   "outputs": [
    {
     "data": {
      "text/html": [
       "<div>\n",
       "<style scoped>\n",
       "    .dataframe tbody tr th:only-of-type {\n",
       "        vertical-align: middle;\n",
       "    }\n",
       "\n",
       "    .dataframe tbody tr th {\n",
       "        vertical-align: top;\n",
       "    }\n",
       "\n",
       "    .dataframe thead th {\n",
       "        text-align: right;\n",
       "    }\n",
       "</style>\n",
       "<table border=\"1\" class=\"dataframe\">\n",
       "  <thead>\n",
       "    <tr style=\"text-align: right;\">\n",
       "      <th></th>\n",
       "      <th>Id</th>\n",
       "      <th>OwnerUserId</th>\n",
       "      <th>CreationDate</th>\n",
       "      <th>Score</th>\n",
       "      <th>Title</th>\n",
       "      <th>Body</th>\n",
       "    </tr>\n",
       "  </thead>\n",
       "  <tbody>\n",
       "    <tr>\n",
       "      <th>0</th>\n",
       "      <td>469</td>\n",
       "      <td>147.0</td>\n",
       "      <td>2008-08-02T15:11:16Z</td>\n",
       "      <td>21</td>\n",
       "      <td>How can I find the full path to a font from it...</td>\n",
       "      <td>&lt;p&gt;I am using the Photoshop's javascript API t...</td>\n",
       "    </tr>\n",
       "    <tr>\n",
       "      <th>1</th>\n",
       "      <td>502</td>\n",
       "      <td>147.0</td>\n",
       "      <td>2008-08-02T17:01:58Z</td>\n",
       "      <td>27</td>\n",
       "      <td>Get a preview JPEG of a PDF on Windows?</td>\n",
       "      <td>&lt;p&gt;I have a cross-platform (Python) applicatio...</td>\n",
       "    </tr>\n",
       "    <tr>\n",
       "      <th>2</th>\n",
       "      <td>535</td>\n",
       "      <td>154.0</td>\n",
       "      <td>2008-08-02T18:43:54Z</td>\n",
       "      <td>40</td>\n",
       "      <td>Continuous Integration System for a Python Cod...</td>\n",
       "      <td>&lt;p&gt;I'm starting work on a hobby project with a...</td>\n",
       "    </tr>\n",
       "    <tr>\n",
       "      <th>3</th>\n",
       "      <td>594</td>\n",
       "      <td>116.0</td>\n",
       "      <td>2008-08-03T01:15:08Z</td>\n",
       "      <td>25</td>\n",
       "      <td>cx_Oracle: How do I iterate over a result set?</td>\n",
       "      <td>&lt;p&gt;There are several ways to iterate over a re...</td>\n",
       "    </tr>\n",
       "    <tr>\n",
       "      <th>4</th>\n",
       "      <td>683</td>\n",
       "      <td>199.0</td>\n",
       "      <td>2008-08-03T13:19:16Z</td>\n",
       "      <td>28</td>\n",
       "      <td>Using 'in' to match an attribute of Python obj...</td>\n",
       "      <td>&lt;p&gt;I don't remember whether I was dreaming or ...</td>\n",
       "    </tr>\n",
       "  </tbody>\n",
       "</table>\n",
       "</div>"
      ],
      "text/plain": [
       "    Id  OwnerUserId          CreationDate  Score  \\\n",
       "0  469        147.0  2008-08-02T15:11:16Z     21   \n",
       "1  502        147.0  2008-08-02T17:01:58Z     27   \n",
       "2  535        154.0  2008-08-02T18:43:54Z     40   \n",
       "3  594        116.0  2008-08-03T01:15:08Z     25   \n",
       "4  683        199.0  2008-08-03T13:19:16Z     28   \n",
       "\n",
       "                                               Title  \\\n",
       "0  How can I find the full path to a font from it...   \n",
       "1            Get a preview JPEG of a PDF on Windows?   \n",
       "2  Continuous Integration System for a Python Cod...   \n",
       "3     cx_Oracle: How do I iterate over a result set?   \n",
       "4  Using 'in' to match an attribute of Python obj...   \n",
       "\n",
       "                                                Body  \n",
       "0  <p>I am using the Photoshop's javascript API t...  \n",
       "1  <p>I have a cross-platform (Python) applicatio...  \n",
       "2  <p>I'm starting work on a hobby project with a...  \n",
       "3  <p>There are several ways to iterate over a re...  \n",
       "4  <p>I don't remember whether I was dreaming or ...  "
      ]
     },
     "execution_count": 65,
     "metadata": {},
     "output_type": "execute_result"
    }
   ],
   "source": [
    "questions_df.head(5)"
   ]
  },
  {
   "cell_type": "code",
   "execution_count": 66,
   "id": "fa20102f",
   "metadata": {},
   "outputs": [],
   "source": [
    "# initial EDA, data cleaning\n",
    "# 1) look at distribution of scores on the answers\n",
    "# --- join to questions ---\n",
    "# distribution of max answer score for each question\n",
    "# distribution of # responses per question"
   ]
  },
  {
   "cell_type": "code",
   "execution_count": 67,
   "id": "eeb54e03",
   "metadata": {
    "scrolled": true
   },
   "outputs": [],
   "source": [
    "scores = answers_df['Score'].copy(deep=True)"
   ]
  },
  {
   "cell_type": "code",
   "execution_count": 68,
   "id": "340599b5",
   "metadata": {},
   "outputs": [
    {
     "data": {
      "text/plain": [
       "{'whiskers': [<matplotlib.lines.Line2D at 0x7fbedf28b8b0>,\n",
       "  <matplotlib.lines.Line2D at 0x7fbedf28bb80>],\n",
       " 'caps': [<matplotlib.lines.Line2D at 0x7fbedf28be50>,\n",
       "  <matplotlib.lines.Line2D at 0x7fbedf298160>],\n",
       " 'boxes': [<matplotlib.lines.Line2D at 0x7fbedf28b5e0>],\n",
       " 'medians': [<matplotlib.lines.Line2D at 0x7fbedf298430>],\n",
       " 'fliers': [<matplotlib.lines.Line2D at 0x7fbedf298700>],\n",
       " 'means': []}"
      ]
     },
     "execution_count": 68,
     "metadata": {},
     "output_type": "execute_result"
    },
    {
     "data": {
      "image/png": "[encoded data removed]",
      "text/plain": [
       "<Figure size 640x480 with 1 Axes>"
      ]
     },
     "metadata": {},
     "output_type": "display_data"
    }
   ],
   "source": [
    "# an initial look at the scores makes it clear that there are some very extreme values...\n",
    "fig1, ax1 = plt.subplots()\n",
    "ax1.set_title('Original Scores')\n",
    "ax1.boxplot(scores)"
   ]
  },
  {
   "cell_type": "code",
   "execution_count": 69,
   "id": "6aef7c64",
   "metadata": {},
   "outputs": [
    {
     "data": {
      "text/plain": [
       "count    987122.000000\n",
       "mean          3.028437\n",
       "std          21.263246\n",
       "min         -38.000000\n",
       "25%           0.000000\n",
       "50%           1.000000\n",
       "75%           3.000000\n",
       "max        8384.000000\n",
       "Name: Score, dtype: float64"
      ]
     },
     "execution_count": 69,
     "metadata": {},
     "output_type": "execute_result"
    }
   ],
   "source": [
    "# median is 1, 75% is 3, but the max is 8384. let's see where it all goes wrong\n",
    "answers_df['Score'].describe()"
   ]
  },
  {
   "cell_type": "code",
   "execution_count": 70,
   "id": "2a4efb94",
   "metadata": {},
   "outputs": [],
   "source": [
    "# using the IQR method to remove outliers. Instead of removing, will just replace with the limit\n",
    "# IE) Scores greater than upper_limit will just be replaced with upper limit, same with lower limit.\n",
    "# https://towardsdatascience.com/practical-implementation-of-outlier-detection-in-python-90680453b3ce"
   ]
  },
  {
   "cell_type": "code",
   "execution_count": 71,
   "id": "3eeb9d56",
   "metadata": {},
   "outputs": [
    {
     "name": "stdout",
     "output_type": "stream",
     "text": [
      "3.0\n"
     ]
    }
   ],
   "source": [
    "IQR = scores.quantile(0.75) - scores.quantile(0.25)\n",
    "print(IQR)"
   ]
  },
  {
   "cell_type": "code",
   "execution_count": 72,
   "id": "8594dff6",
   "metadata": {},
   "outputs": [],
   "source": [
    "scores_upper_limit = scores.quantile(0.75) + 3 * IQR\n",
    "scores_lower_limit = scores.quantile(0.25) - 3 * IQR"
   ]
  },
  {
   "cell_type": "code",
   "execution_count": 41,
   "id": "ce670d22",
   "metadata": {},
   "outputs": [],
   "source": [
    "# answers_df['Adjusted_Score'] = answers_df['Score'].copy(deep=True)\n",
    "\n",
    "# answers_df[answers_df['Adjusted_Score'] > scores_upper_limit] = scores_upper_limit\n",
    "# answers_df[answers_df['Adjusted_Score'] < scores_lower_limit] = scores_lower_limit"
   ]
  },
  {
   "cell_type": "code",
   "execution_count": 73,
   "id": "527ec51b",
   "metadata": {},
   "outputs": [
    {
     "data": {
      "text/plain": [
       "{'whiskers': [<matplotlib.lines.Line2D at 0x7fbe993b09d0>,\n",
       "  <matplotlib.lines.Line2D at 0x7fbe993b0ca0>],\n",
       " 'caps': [<matplotlib.lines.Line2D at 0x7fbe993b0f70>,\n",
       "  <matplotlib.lines.Line2D at 0x7fbedef1e280>],\n",
       " 'boxes': [<matplotlib.lines.Line2D at 0x7fbe993b0700>],\n",
       " 'medians': [<matplotlib.lines.Line2D at 0x7fbedef1e550>],\n",
       " 'fliers': [<matplotlib.lines.Line2D at 0x7fbedef1e820>],\n",
       " 'means': []}"
      ]
     },
     "execution_count": 73,
     "metadata": {},
     "output_type": "execute_result"
    },
    {
     "data": {
      "image/png": "[encoded data removed]",
      "text/plain": [
       "<Figure size 640x480 with 1 Axes>"
      ]
     },
     "metadata": {},
     "output_type": "display_data"
    }
   ],
   "source": [
    "fig1, ax1 = plt.subplots()\n",
    "ax1.set_title('Answer Scores')\n",
    "ax1.boxplot(answers_df['Score'])"
   ]
  },
  {
   "cell_type": "code",
   "execution_count": 86,
   "id": "e1f460c8",
   "metadata": {},
   "outputs": [
    {
     "data": {
      "text/plain": [
       "array([[<AxesSubplot:title={'center':'Score'}>]], dtype=object)"
      ]
     },
     "execution_count": 86,
     "metadata": {},
     "output_type": "execute_result"
    },
    {
     "data": {
      "image/png": "[encoded data removed]",
      "text/plain": [
       "<Figure size 640x480 with 1 Axes>"
      ]
     },
     "metadata": {},
     "output_type": "display_data"
    }
   ],
   "source": [
    "# Histogram view of the general distribution of the Score trait, among the answers\n",
    "answers_df.hist(column=\"Score\", bins=20, range=[0, 80])"
   ]
  },
  {
   "cell_type": "code",
   "execution_count": 87,
   "id": "91cf7cd6",
   "metadata": {},
   "outputs": [],
   "source": [
    "# utility function, to just get the slice of the answers_df which matches the question ID\n",
    "def get_question_answer_info(question_id):\n",
    "    relevant_answers = answers_df.query(f\"ParentId == {question_id}\")\n",
    "    scores = relevant_answers['Score']\n",
    "    num_answers = len(scores)\n",
    "    highest_score = np.max(scores)\n",
    "    if num_answers == 0:\n",
    "        highest_score = 0\n",
    "\n",
    "    return highest_score, num_answers"
   ]
  },
  {
   "cell_type": "code",
   "execution_count": 88,
   "id": "895a4a16",
   "metadata": {},
   "outputs": [],
   "source": [
    "# first insert empty columns, which we will rewrite shortly\n",
    "questions_df.insert(6, \"highest_answer_score\", 0)\n",
    "questions_df.insert(7, \"num_answers\", 0)"
   ]
  },
  {
   "cell_type": "code",
   "execution_count": 89,
   "id": "ad6047d3",
   "metadata": {
    "tags": []
   },
   "outputs": [
    {
     "name": "stdout",
     "output_type": "stream",
     "text": [
      "0\n",
      "200000\n",
      "400000\n",
      "600000\n"
     ]
    }
   ],
   "source": [
    "index = questions_df.index\n",
    "for row_index in index:\n",
    "    if row_index % 200000 == 0:\n",
    "        print(row_index)\n",
    "    question = questions_df.loc[row_index]\n",
    "    question_id = question['Id']\n",
    "    highest_score, num_answers = get_question_answer_info(question_id)\n",
    "    questions_df.loc[row_index, ['highest_answer_score']] = highest_score\n",
    "    questions_df.loc[row_index, ['num_answers']] = num_answers"
   ]
  },
  {
   "cell_type": "code",
   "execution_count": 18,
   "id": "a8181e0f",
   "metadata": {},
   "outputs": [
    {
     "data": {
      "text/html": [
       "<div>\n",
       "<style scoped>\n",
       "    .dataframe tbody tr th:only-of-type {\n",
       "        vertical-align: middle;\n",
       "    }\n",
       "\n",
       "    .dataframe tbody tr th {\n",
       "        vertical-align: top;\n",
       "    }\n",
       "\n",
       "    .dataframe thead th {\n",
       "        text-align: right;\n",
       "    }\n",
       "</style>\n",
       "<table border=\"1\" class=\"dataframe\">\n",
       "  <thead>\n",
       "    <tr style=\"text-align: right;\">\n",
       "      <th></th>\n",
       "      <th>Id</th>\n",
       "      <th>OwnerUserId</th>\n",
       "      <th>CreationDate</th>\n",
       "      <th>Score</th>\n",
       "      <th>Title</th>\n",
       "      <th>Body</th>\n",
       "      <th>highest_answer_score</th>\n",
       "      <th>num_answers</th>\n",
       "    </tr>\n",
       "  </thead>\n",
       "  <tbody>\n",
       "    <tr>\n",
       "      <th>0</th>\n",
       "      <td>469</td>\n",
       "      <td>147.0</td>\n",
       "      <td>2008-08-02T15:11:16Z</td>\n",
       "      <td>21</td>\n",
       "      <td>How can I find the full path to a font from it...</td>\n",
       "      <td>&lt;p&gt;I am using the Photoshop's javascript API t...</td>\n",
       "      <td>12</td>\n",
       "      <td>4</td>\n",
       "    </tr>\n",
       "    <tr>\n",
       "      <th>1</th>\n",
       "      <td>502</td>\n",
       "      <td>147.0</td>\n",
       "      <td>2008-08-02T17:01:58Z</td>\n",
       "      <td>27</td>\n",
       "      <td>Get a preview JPEG of a PDF on Windows?</td>\n",
       "      <td>&lt;p&gt;I have a cross-platform (Python) applicatio...</td>\n",
       "      <td>9</td>\n",
       "      <td>2</td>\n",
       "    </tr>\n",
       "    <tr>\n",
       "      <th>2</th>\n",
       "      <td>535</td>\n",
       "      <td>154.0</td>\n",
       "      <td>2008-08-02T18:43:54Z</td>\n",
       "      <td>40</td>\n",
       "      <td>Continuous Integration System for a Python Cod...</td>\n",
       "      <td>&lt;p&gt;I'm starting work on a hobby project with a...</td>\n",
       "      <td>4</td>\n",
       "      <td>3</td>\n",
       "    </tr>\n",
       "    <tr>\n",
       "      <th>3</th>\n",
       "      <td>594</td>\n",
       "      <td>116.0</td>\n",
       "      <td>2008-08-03T01:15:08Z</td>\n",
       "      <td>25</td>\n",
       "      <td>cx_Oracle: How do I iterate over a result set?</td>\n",
       "      <td>&lt;p&gt;There are several ways to iterate over a re...</td>\n",
       "      <td>4</td>\n",
       "      <td>1</td>\n",
       "    </tr>\n",
       "    <tr>\n",
       "      <th>4</th>\n",
       "      <td>683</td>\n",
       "      <td>199.0</td>\n",
       "      <td>2008-08-03T13:19:16Z</td>\n",
       "      <td>28</td>\n",
       "      <td>Using 'in' to match an attribute of Python obj...</td>\n",
       "      <td>&lt;p&gt;I don't remember whether I was dreaming or ...</td>\n",
       "      <td>8</td>\n",
       "      <td>7</td>\n",
       "    </tr>\n",
       "    <tr>\n",
       "      <th>...</th>\n",
       "      <td>...</td>\n",
       "      <td>...</td>\n",
       "      <td>...</td>\n",
       "      <td>...</td>\n",
       "      <td>...</td>\n",
       "      <td>...</td>\n",
       "      <td>...</td>\n",
       "      <td>...</td>\n",
       "    </tr>\n",
       "    <tr>\n",
       "      <th>607277</th>\n",
       "      <td>40143190</td>\n",
       "      <td>333403.0</td>\n",
       "      <td>2016-10-19T23:36:01Z</td>\n",
       "      <td>1</td>\n",
       "      <td>How to execute multiline python code from a ba...</td>\n",
       "      <td>&lt;p&gt;I need to extend a shell script (bash). As ...</td>\n",
       "      <td>5</td>\n",
       "      <td>2</td>\n",
       "    </tr>\n",
       "    <tr>\n",
       "      <th>607278</th>\n",
       "      <td>40143228</td>\n",
       "      <td>6662462.0</td>\n",
       "      <td>2016-10-19T23:40:00Z</td>\n",
       "      <td>0</td>\n",
       "      <td>How to get google reCaptcha image source using...</td>\n",
       "      <td>&lt;p&gt;I understood that reCaptcha loads a new fra...</td>\n",
       "      <td>0</td>\n",
       "      <td>0</td>\n",
       "    </tr>\n",
       "    <tr>\n",
       "      <th>607279</th>\n",
       "      <td>40143267</td>\n",
       "      <td>4064680.0</td>\n",
       "      <td>2016-10-19T23:44:07Z</td>\n",
       "      <td>0</td>\n",
       "      <td>Updating an ManyToMany field with Django rest</td>\n",
       "      <td>&lt;p&gt;I'm trying to set up this API so I can use ...</td>\n",
       "      <td>0</td>\n",
       "      <td>0</td>\n",
       "    </tr>\n",
       "    <tr>\n",
       "      <th>607280</th>\n",
       "      <td>40143338</td>\n",
       "      <td>7044980.0</td>\n",
       "      <td>2016-10-19T23:52:27Z</td>\n",
       "      <td>2</td>\n",
       "      <td>Most possible pairs</td>\n",
       "      <td>&lt;p&gt;Given a list of values, and information on ...</td>\n",
       "      <td>0</td>\n",
       "      <td>0</td>\n",
       "    </tr>\n",
       "    <tr>\n",
       "      <th>607281</th>\n",
       "      <td>40143365</td>\n",
       "      <td>4133131.0</td>\n",
       "      <td>2016-10-19T23:55:49Z</td>\n",
       "      <td>0</td>\n",
       "      <td>Theano operations returning odd results</td>\n",
       "      <td>&lt;p&gt;So I'm trying to learn how to use Theano an...</td>\n",
       "      <td>0</td>\n",
       "      <td>0</td>\n",
       "    </tr>\n",
       "  </tbody>\n",
       "</table>\n",
       "<p>607282 rows × 8 columns</p>\n",
       "</div>"
      ],
      "text/plain": [
       "              Id  OwnerUserId          CreationDate  Score  \\\n",
       "0            469        147.0  2008-08-02T15:11:16Z     21   \n",
       "1            502        147.0  2008-08-02T17:01:58Z     27   \n",
       "2            535        154.0  2008-08-02T18:43:54Z     40   \n",
       "3            594        116.0  2008-08-03T01:15:08Z     25   \n",
       "4            683        199.0  2008-08-03T13:19:16Z     28   \n",
       "...          ...          ...                   ...    ...   \n",
       "607277  40143190     333403.0  2016-10-19T23:36:01Z      1   \n",
       "607278  40143228    6662462.0  2016-10-19T23:40:00Z      0   \n",
       "607279  40143267    4064680.0  2016-10-19T23:44:07Z      0   \n",
       "607280  40143338    7044980.0  2016-10-19T23:52:27Z      2   \n",
       "607281  40143365    4133131.0  2016-10-19T23:55:49Z      0   \n",
       "\n",
       "                                                    Title  \\\n",
       "0       How can I find the full path to a font from it...   \n",
       "1                 Get a preview JPEG of a PDF on Windows?   \n",
       "2       Continuous Integration System for a Python Cod...   \n",
       "3          cx_Oracle: How do I iterate over a result set?   \n",
       "4       Using 'in' to match an attribute of Python obj...   \n",
       "...                                                   ...   \n",
       "607277  How to execute multiline python code from a ba...   \n",
       "607278  How to get google reCaptcha image source using...   \n",
       "607279      Updating an ManyToMany field with Django rest   \n",
       "607280                                Most possible pairs   \n",
       "607281            Theano operations returning odd results   \n",
       "\n",
       "                                                     Body  \\\n",
       "0       <p>I am using the Photoshop's javascript API t...   \n",
       "1       <p>I have a cross-platform (Python) applicatio...   \n",
       "2       <p>I'm starting work on a hobby project with a...   \n",
       "3       <p>There are several ways to iterate over a re...   \n",
       "4       <p>I don't remember whether I was dreaming or ...   \n",
       "...                                                   ...   \n",
       "607277  <p>I need to extend a shell script (bash). As ...   \n",
       "607278  <p>I understood that reCaptcha loads a new fra...   \n",
       "607279  <p>I'm trying to set up this API so I can use ...   \n",
       "607280  <p>Given a list of values, and information on ...   \n",
       "607281  <p>So I'm trying to learn how to use Theano an...   \n",
       "\n",
       "        highest_answer_score  num_answers  \n",
       "0                         12            4  \n",
       "1                          9            2  \n",
       "2                          4            3  \n",
       "3                          4            1  \n",
       "4                          8            7  \n",
       "...                      ...          ...  \n",
       "607277                     5            2  \n",
       "607278                     0            0  \n",
       "607279                     0            0  \n",
       "607280                     0            0  \n",
       "607281                     0            0  \n",
       "\n",
       "[607282 rows x 8 columns]"
      ]
     },
     "execution_count": 18,
     "metadata": {},
     "output_type": "execute_result"
    }
   ],
   "source": [
    "questions_df"
   ]
  },
  {
   "cell_type": "code",
   "execution_count": 20,
   "id": "e2ede2f0",
   "metadata": {},
   "outputs": [
    {
     "data": {
      "text/plain": [
       "array([[<AxesSubplot:title={'center':'highest_answer_score'}>]],\n",
       "      dtype=object)"
      ]
     },
     "execution_count": 20,
     "metadata": {},
     "output_type": "execute_result"
    },
    {
     "data": {
      "image/png": "[encoded data removed]",
      "text/plain": [
       "<Figure size 640x480 with 1 Axes>"
      ]
     },
     "metadata": {},
     "output_type": "display_data"
    }
   ],
   "source": [
    "questions_df.hist(column=\"highest_answer_score\", bins=20)"
   ]
  },
  {
   "cell_type": "code",
   "execution_count": 21,
   "id": "b2f42718",
   "metadata": {},
   "outputs": [
    {
     "data": {
      "text/plain": [
       "array([[<AxesSubplot:title={'center':'num_answers'}>]], dtype=object)"
      ]
     },
     "execution_count": 21,
     "metadata": {},
     "output_type": "execute_result"
    },
    {
     "data": {
      "image/png": "[encoded data removed]",
      "text/plain": [
       "<Figure size 640x480 with 1 Axes>"
      ]
     },
     "metadata": {},
     "output_type": "display_data"
    }
   ],
   "source": [
    "questions_df.hist(column=\"num_answers\", bins=20)"
   ]
  },
  {
   "cell_type": "code",
   "execution_count": 23,
   "id": "d766dc5c",
   "metadata": {},
   "outputs": [],
   "source": [
    "questions_df['has_positive_answer'] = questions_df['highest_answer_score'] > 0"
   ]
  },
  {
   "cell_type": "code",
   "execution_count": 44,
   "id": "ae1f335b",
   "metadata": {},
   "outputs": [
    {
     "data": {
      "text/html": [
       "<div>\n",
       "<style scoped>\n",
       "    .dataframe tbody tr th:only-of-type {\n",
       "        vertical-align: middle;\n",
       "    }\n",
       "\n",
       "    .dataframe tbody tr th {\n",
       "        vertical-align: top;\n",
       "    }\n",
       "\n",
       "    .dataframe thead th {\n",
       "        text-align: right;\n",
       "    }\n",
       "</style>\n",
       "<table border=\"1\" class=\"dataframe\">\n",
       "  <thead>\n",
       "    <tr style=\"text-align: right;\">\n",
       "      <th></th>\n",
       "      <th>Id</th>\n",
       "      <th>OwnerUserId</th>\n",
       "      <th>CreationDate</th>\n",
       "      <th>Score</th>\n",
       "      <th>Title</th>\n",
       "      <th>Body</th>\n",
       "      <th>highest_answer_score</th>\n",
       "      <th>num_answers</th>\n",
       "      <th>has_positive_answer</th>\n",
       "    </tr>\n",
       "  </thead>\n",
       "  <tbody>\n",
       "    <tr>\n",
       "      <th>0</th>\n",
       "      <td>469</td>\n",
       "      <td>147.0</td>\n",
       "      <td>2008-08-02T15:11:16Z</td>\n",
       "      <td>21</td>\n",
       "      <td>How can I find the full path to a font from it...</td>\n",
       "      <td>&lt;p&gt;I am using the Photoshop's javascript API t...</td>\n",
       "      <td>12</td>\n",
       "      <td>4</td>\n",
       "      <td>True</td>\n",
       "    </tr>\n",
       "    <tr>\n",
       "      <th>1</th>\n",
       "      <td>502</td>\n",
       "      <td>147.0</td>\n",
       "      <td>2008-08-02T17:01:58Z</td>\n",
       "      <td>27</td>\n",
       "      <td>Get a preview JPEG of a PDF on Windows?</td>\n",
       "      <td>&lt;p&gt;I have a cross-platform (Python) applicatio...</td>\n",
       "      <td>9</td>\n",
       "      <td>2</td>\n",
       "      <td>True</td>\n",
       "    </tr>\n",
       "    <tr>\n",
       "      <th>2</th>\n",
       "      <td>535</td>\n",
       "      <td>154.0</td>\n",
       "      <td>2008-08-02T18:43:54Z</td>\n",
       "      <td>40</td>\n",
       "      <td>Continuous Integration System for a Python Cod...</td>\n",
       "      <td>&lt;p&gt;I'm starting work on a hobby project with a...</td>\n",
       "      <td>4</td>\n",
       "      <td>3</td>\n",
       "      <td>True</td>\n",
       "    </tr>\n",
       "    <tr>\n",
       "      <th>3</th>\n",
       "      <td>594</td>\n",
       "      <td>116.0</td>\n",
       "      <td>2008-08-03T01:15:08Z</td>\n",
       "      <td>25</td>\n",
       "      <td>cx_Oracle: How do I iterate over a result set?</td>\n",
       "      <td>&lt;p&gt;There are several ways to iterate over a re...</td>\n",
       "      <td>4</td>\n",
       "      <td>1</td>\n",
       "      <td>True</td>\n",
       "    </tr>\n",
       "    <tr>\n",
       "      <th>4</th>\n",
       "      <td>683</td>\n",
       "      <td>199.0</td>\n",
       "      <td>2008-08-03T13:19:16Z</td>\n",
       "      <td>28</td>\n",
       "      <td>Using 'in' to match an attribute of Python obj...</td>\n",
       "      <td>&lt;p&gt;I don't remember whether I was dreaming or ...</td>\n",
       "      <td>8</td>\n",
       "      <td>7</td>\n",
       "      <td>True</td>\n",
       "    </tr>\n",
       "  </tbody>\n",
       "</table>\n",
       "</div>"
      ],
      "text/plain": [
       "    Id  OwnerUserId          CreationDate  Score  \\\n",
       "0  469        147.0  2008-08-02T15:11:16Z     21   \n",
       "1  502        147.0  2008-08-02T17:01:58Z     27   \n",
       "2  535        154.0  2008-08-02T18:43:54Z     40   \n",
       "3  594        116.0  2008-08-03T01:15:08Z     25   \n",
       "4  683        199.0  2008-08-03T13:19:16Z     28   \n",
       "\n",
       "                                               Title  \\\n",
       "0  How can I find the full path to a font from it...   \n",
       "1            Get a preview JPEG of a PDF on Windows?   \n",
       "2  Continuous Integration System for a Python Cod...   \n",
       "3     cx_Oracle: How do I iterate over a result set?   \n",
       "4  Using 'in' to match an attribute of Python obj...   \n",
       "\n",
       "                                                Body  highest_answer_score  \\\n",
       "0  <p>I am using the Photoshop's javascript API t...                    12   \n",
       "1  <p>I have a cross-platform (Python) applicatio...                     9   \n",
       "2  <p>I'm starting work on a hobby project with a...                     4   \n",
       "3  <p>There are several ways to iterate over a re...                     4   \n",
       "4  <p>I don't remember whether I was dreaming or ...                     8   \n",
       "\n",
       "   num_answers  has_positive_answer  \n",
       "0            4                 True  \n",
       "1            2                 True  \n",
       "2            3                 True  \n",
       "3            1                 True  \n",
       "4            7                 True  "
      ]
     },
     "execution_count": 44,
     "metadata": {},
     "output_type": "execute_result"
    }
   ],
   "source": [
    "questions_df.head(5)"
   ]
  },
  {
   "cell_type": "code",
   "execution_count": 28,
   "id": "f3968a5b",
   "metadata": {},
   "outputs": [
    {
     "data": {
      "text/plain": [
       "<seaborn.axisgrid.FacetGrid at 0x7f579c00a280>"
      ]
     },
     "execution_count": 28,
     "metadata": {},
     "output_type": "execute_result"
    },
    {
     "data": {
      "image/png": "[encoded data removed]",
      "text/plain": [
       "<Figure size 500x500 with 1 Axes>"
      ]
     },
     "metadata": {},
     "output_type": "display_data"
    }
   ],
   "source": [
    "sns.displot(questions_df, x='highest_answer_score')"
   ]
  },
  {
   "cell_type": "code",
   "execution_count": 37,
   "id": "685b7fe0",
   "metadata": {},
   "outputs": [
    {
     "data": {
      "text/plain": [
       "197684"
      ]
     },
     "execution_count": 37,
     "metadata": {},
     "output_type": "execute_result"
    }
   ],
   "source": [
    "zero_score_count = np.sum(questions_df['highest_answer_score'] == 0)\n",
    "zero_score_count"
   ]
  },
  {
   "cell_type": "code",
   "execution_count": 33,
   "id": "eb1b3013",
   "metadata": {},
   "outputs": [
    {
     "data": {
      "text/plain": [
       "607282"
      ]
     },
     "execution_count": 33,
     "metadata": {},
     "output_type": "execute_result"
    }
   ],
   "source": [
    "total_count = questions_df.shape[0]\n",
    "total_count"
   ]
  },
  {
   "cell_type": "code",
   "execution_count": 39,
   "id": "b1d0d99f",
   "metadata": {},
   "outputs": [
    {
     "data": {
      "text/plain": [
       "409598"
      ]
     },
     "execution_count": 39,
     "metadata": {},
     "output_type": "execute_result"
    }
   ],
   "source": [
    "positive_score_count = total_count - zero_score_count\n",
    "positive_score_count"
   ]
  },
  {
   "cell_type": "code",
   "execution_count": 41,
   "id": "07a0ce85",
   "metadata": {},
   "outputs": [
    {
     "data": {
      "text/plain": [
       "72267"
      ]
     },
     "execution_count": 41,
     "metadata": {},
     "output_type": "execute_result"
    }
   ],
   "source": [
    "# by nature, these would have scores of 0\n",
    "unanswered_question_count = np.sum(questions_df['num_answers'] == 0)\n",
    "unanswered_question_count"
   ]
  },
  {
   "cell_type": "code",
   "execution_count": 40,
   "id": "b5c2134a",
   "metadata": {},
   "outputs": [
    {
     "data": {
      "image/png": "[encoded data removed]",
      "text/plain": [
       "<Figure size 640x480 with 1 Axes>"
      ]
     },
     "metadata": {},
     "output_type": "display_data"
    }
   ],
   "source": [
    "# take a look at the distribution of questions with positive answer score, and those with 0\n",
    "\n",
    "data = [zero_score_count, positive_score_count]\n",
    "labels = ['Highest answer score 0', \"Positive highest answer score\"]\n",
    "colors = sns.color_palette('pastel')[0:2]\n",
    "plt.pie(data, labels = labels, colors = colors, autopct='%.0f%%')\n",
    "plt.show()"
   ]
  },
  {
   "cell_type": "code",
   "execution_count": 43,
   "id": "28803625",
   "metadata": {},
   "outputs": [
    {
     "data": {
      "image/png": "[encoded data removed]",
      "text/plain": [
       "<Figure size 640x480 with 1 Axes>"
      ]
     },
     "metadata": {},
     "output_type": "display_data"
    }
   ],
   "source": [
    "# take a look at of the quetsions with the highest answer score being 0, what proportion of those were because they\n",
    "# just had received no answers\n",
    "\n",
    "# seems like a good amount of them actually do have answers, just that the answers did not have good feedback.\n",
    "\n",
    "data = [zero_score_count - unanswered_question_count, unanswered_question_count]\n",
    "labels = ['No positively scored answers', \"Unanswered Question\"]\n",
    "colors = sns.color_palette('pastel')[0:2]\n",
    "plt.pie(data, labels = labels, colors = colors, autopct='%.0f%%')\n",
    "plt.show()"
   ]
  },
  {
   "cell_type": "code",
   "execution_count": 45,
   "id": "502d25b7",
   "metadata": {},
   "outputs": [],
   "source": [
    "questions_df.to_csv('processed_questions.csv')"
   ]
  },
  {
   "cell_type": "code",
   "execution_count": null,
   "id": "04557c8e",
   "metadata": {},
   "outputs": [],
   "source": []
  }
 ],
 "metadata": {
  "kernelspec": {
   "display_name": "Python 3 (ipykernel)",
   "language": "python",
   "name": "python3"
  },
  "language_info": {
   "codemirror_mode": {
    "name": "ipython",
    "version": 3
   },
   "file_extension": ".py",
   "mimetype": "text/x-python",
   "name": "python",
   "nbconvert_exporter": "python",
   "pygments_lexer": "ipython3",
   "version": "3.8.10"
  }
 },
 "nbformat": 4,
 "nbformat_minor": 5
}
