{
 "cells": [
  {
   "cell_type": "code",
   "execution_count": 1,
   "id": "4233b904",
   "metadata": {},
   "outputs": [],
   "source": [
    "# import pandas module \n",
    "import pandas as pd \n",
    "import numpy as np\n",
    "import matplotlib.pyplot as plt"
   ]
  },
  {
   "cell_type": "code",
   "execution_count": 2,
   "id": "3de99427",
   "metadata": {},
   "outputs": [],
   "source": [
    "# making dataframe \n",
    "answers_df = pd.read_csv(\"./Answers.csv\", encoding = \"ISO-8859-1\") \n",
    "questions_df = pd.read_csv(\"./Questions.csv\", encoding = \"ISO-8859-1\")\n",
    "tags_df = pd.read_csv(\"./Tags.csv\", encoding = \"ISO-8859-1\")"
   ]
  },
  {
   "cell_type": "code",
   "execution_count": 3,
   "id": "32e06c94",
   "metadata": {},
   "outputs": [
    {
     "data": {
      "text/html": [
       "<div>\n",
       "<style scoped>\n",
       "    .dataframe tbody tr th:only-of-type {\n",
       "        vertical-align: middle;\n",
       "    }\n",
       "\n",
       "    .dataframe tbody tr th {\n",
       "        vertical-align: top;\n",
       "    }\n",
       "\n",
       "    .dataframe thead th {\n",
       "        text-align: right;\n",
       "    }\n",
       "</style>\n",
       "<table border=\"1\" class=\"dataframe\">\n",
       "  <thead>\n",
       "    <tr style=\"text-align: right;\">\n",
       "      <th></th>\n",
       "      <th>Id</th>\n",
       "      <th>OwnerUserId</th>\n",
       "      <th>CreationDate</th>\n",
       "      <th>ParentId</th>\n",
       "      <th>Score</th>\n",
       "      <th>Body</th>\n",
       "    </tr>\n",
       "  </thead>\n",
       "  <tbody>\n",
       "    <tr>\n",
       "      <th>0</th>\n",
       "      <td>497</td>\n",
       "      <td>50.0</td>\n",
       "      <td>2008-08-02T16:56:53Z</td>\n",
       "      <td>469</td>\n",
       "      <td>4</td>\n",
       "      <td>&lt;p&gt;open up a terminal (Applications-&amp;gt;Utilit...</td>\n",
       "    </tr>\n",
       "    <tr>\n",
       "      <th>1</th>\n",
       "      <td>518</td>\n",
       "      <td>153.0</td>\n",
       "      <td>2008-08-02T17:42:28Z</td>\n",
       "      <td>469</td>\n",
       "      <td>2</td>\n",
       "      <td>&lt;p&gt;I haven't been able to find anything that d...</td>\n",
       "    </tr>\n",
       "    <tr>\n",
       "      <th>2</th>\n",
       "      <td>536</td>\n",
       "      <td>161.0</td>\n",
       "      <td>2008-08-02T18:49:07Z</td>\n",
       "      <td>502</td>\n",
       "      <td>9</td>\n",
       "      <td>&lt;p&gt;You can use ImageMagick's convert utility f...</td>\n",
       "    </tr>\n",
       "    <tr>\n",
       "      <th>3</th>\n",
       "      <td>538</td>\n",
       "      <td>156.0</td>\n",
       "      <td>2008-08-02T18:56:56Z</td>\n",
       "      <td>535</td>\n",
       "      <td>23</td>\n",
       "      <td>&lt;p&gt;One possibility is Hudson.  It's written in...</td>\n",
       "    </tr>\n",
       "    <tr>\n",
       "      <th>4</th>\n",
       "      <td>541</td>\n",
       "      <td>157.0</td>\n",
       "      <td>2008-08-02T19:06:40Z</td>\n",
       "      <td>535</td>\n",
       "      <td>20</td>\n",
       "      <td>&lt;p&gt;We run &lt;a href=\"http://buildbot.net/trac\"&gt;B...</td>\n",
       "    </tr>\n",
       "  </tbody>\n",
       "</table>\n",
       "</div>"
      ],
      "text/plain": [
       "    Id  OwnerUserId          CreationDate  ParentId  Score  \\\n",
       "0  497         50.0  2008-08-02T16:56:53Z       469      4   \n",
       "1  518        153.0  2008-08-02T17:42:28Z       469      2   \n",
       "2  536        161.0  2008-08-02T18:49:07Z       502      9   \n",
       "3  538        156.0  2008-08-02T18:56:56Z       535     23   \n",
       "4  541        157.0  2008-08-02T19:06:40Z       535     20   \n",
       "\n",
       "                                                Body  \n",
       "0  <p>open up a terminal (Applications-&gt;Utilit...  \n",
       "1  <p>I haven't been able to find anything that d...  \n",
       "2  <p>You can use ImageMagick's convert utility f...  \n",
       "3  <p>One possibility is Hudson.  It's written in...  \n",
       "4  <p>We run <a href=\"http://buildbot.net/trac\">B...  "
      ]
     },
     "execution_count": 3,
     "metadata": {},
     "output_type": "execute_result"
    }
   ],
   "source": [
    "answers_df.head(5)"
   ]
  },
  {
   "cell_type": "code",
   "execution_count": 4,
   "id": "0ff3ab05",
   "metadata": {},
   "outputs": [
    {
     "data": {
      "text/html": [
       "<div>\n",
       "<style scoped>\n",
       "    .dataframe tbody tr th:only-of-type {\n",
       "        vertical-align: middle;\n",
       "    }\n",
       "\n",
       "    .dataframe tbody tr th {\n",
       "        vertical-align: top;\n",
       "    }\n",
       "\n",
       "    .dataframe thead th {\n",
       "        text-align: right;\n",
       "    }\n",
       "</style>\n",
       "<table border=\"1\" class=\"dataframe\">\n",
       "  <thead>\n",
       "    <tr style=\"text-align: right;\">\n",
       "      <th></th>\n",
       "      <th>Id</th>\n",
       "      <th>OwnerUserId</th>\n",
       "      <th>CreationDate</th>\n",
       "      <th>Score</th>\n",
       "      <th>Title</th>\n",
       "      <th>Body</th>\n",
       "    </tr>\n",
       "  </thead>\n",
       "  <tbody>\n",
       "    <tr>\n",
       "      <th>0</th>\n",
       "      <td>469</td>\n",
       "      <td>147.0</td>\n",
       "      <td>2008-08-02T15:11:16Z</td>\n",
       "      <td>21</td>\n",
       "      <td>How can I find the full path to a font from it...</td>\n",
       "      <td>&lt;p&gt;I am using the Photoshop's javascript API t...</td>\n",
       "    </tr>\n",
       "    <tr>\n",
       "      <th>1</th>\n",
       "      <td>502</td>\n",
       "      <td>147.0</td>\n",
       "      <td>2008-08-02T17:01:58Z</td>\n",
       "      <td>27</td>\n",
       "      <td>Get a preview JPEG of a PDF on Windows?</td>\n",
       "      <td>&lt;p&gt;I have a cross-platform (Python) applicatio...</td>\n",
       "    </tr>\n",
       "    <tr>\n",
       "      <th>2</th>\n",
       "      <td>535</td>\n",
       "      <td>154.0</td>\n",
       "      <td>2008-08-02T18:43:54Z</td>\n",
       "      <td>40</td>\n",
       "      <td>Continuous Integration System for a Python Cod...</td>\n",
       "      <td>&lt;p&gt;I'm starting work on a hobby project with a...</td>\n",
       "    </tr>\n",
       "    <tr>\n",
       "      <th>3</th>\n",
       "      <td>594</td>\n",
       "      <td>116.0</td>\n",
       "      <td>2008-08-03T01:15:08Z</td>\n",
       "      <td>25</td>\n",
       "      <td>cx_Oracle: How do I iterate over a result set?</td>\n",
       "      <td>&lt;p&gt;There are several ways to iterate over a re...</td>\n",
       "    </tr>\n",
       "    <tr>\n",
       "      <th>4</th>\n",
       "      <td>683</td>\n",
       "      <td>199.0</td>\n",
       "      <td>2008-08-03T13:19:16Z</td>\n",
       "      <td>28</td>\n",
       "      <td>Using 'in' to match an attribute of Python obj...</td>\n",
       "      <td>&lt;p&gt;I don't remember whether I was dreaming or ...</td>\n",
       "    </tr>\n",
       "  </tbody>\n",
       "</table>\n",
       "</div>"
      ],
      "text/plain": [
       "    Id  OwnerUserId          CreationDate  Score  \\\n",
       "0  469        147.0  2008-08-02T15:11:16Z     21   \n",
       "1  502        147.0  2008-08-02T17:01:58Z     27   \n",
       "2  535        154.0  2008-08-02T18:43:54Z     40   \n",
       "3  594        116.0  2008-08-03T01:15:08Z     25   \n",
       "4  683        199.0  2008-08-03T13:19:16Z     28   \n",
       "\n",
       "                                               Title  \\\n",
       "0  How can I find the full path to a font from it...   \n",
       "1            Get a preview JPEG of a PDF on Windows?   \n",
       "2  Continuous Integration System for a Python Cod...   \n",
       "3     cx_Oracle: How do I iterate over a result set?   \n",
       "4  Using 'in' to match an attribute of Python obj...   \n",
       "\n",
       "                                                Body  \n",
       "0  <p>I am using the Photoshop's javascript API t...  \n",
       "1  <p>I have a cross-platform (Python) applicatio...  \n",
       "2  <p>I'm starting work on a hobby project with a...  \n",
       "3  <p>There are several ways to iterate over a re...  \n",
       "4  <p>I don't remember whether I was dreaming or ...  "
      ]
     },
     "execution_count": 4,
     "metadata": {},
     "output_type": "execute_result"
    }
   ],
   "source": [
    "questions_df.head(5)"
   ]
  },
  {
   "cell_type": "code",
   "execution_count": 6,
   "id": "fa20102f",
   "metadata": {},
   "outputs": [],
   "source": [
    "# initial EDA, data cleaning\n",
    "# 1) look at distribution of scores on the answers\n",
    "# --- join to questions ---\n",
    "# distribution of max answer score for each question\n",
    "# distribution of # responses per question"
   ]
  },
  {
   "cell_type": "code",
   "execution_count": 7,
   "id": "eeb54e03",
   "metadata": {
    "scrolled": true
   },
   "outputs": [],
   "source": [
    "scores = answers_df['Score']"
   ]
  },
  {
   "cell_type": "code",
   "execution_count": 8,
   "id": "340599b5",
   "metadata": {},
   "outputs": [
    {
     "data": {
      "text/plain": [
       "{'whiskers': [<matplotlib.lines.Line2D at 0x7f8e3b57f040>,\n",
       "  <matplotlib.lines.Line2D at 0x7f8e3b57f310>],\n",
       " 'caps': [<matplotlib.lines.Line2D at 0x7f8e3b57f6a0>,\n",
       "  <matplotlib.lines.Line2D at 0x7f8e3b57f8b0>],\n",
       " 'boxes': [<matplotlib.lines.Line2D at 0x7f8e3bd6ecd0>],\n",
       " 'medians': [<matplotlib.lines.Line2D at 0x7f8e3b57fb80>],\n",
       " 'fliers': [<matplotlib.lines.Line2D at 0x7f8e3b57fe50>],\n",
       " 'means': []}"
      ]
     },
     "execution_count": 8,
     "metadata": {},
     "output_type": "execute_result"
    },
    {
     "data": {
      "image/png": "[encoded data removed]",
      "text/plain": [
       "<Figure size 432x288 with 1 Axes>"
      ]
     },
     "metadata": {
      "needs_background": "light"
     },
     "output_type": "display_data"
    }
   ],
   "source": [
    "# an initial look at the scores makes it clear that there are some very extreme values...\n",
    "fig1, ax1 = plt.subplots()\n",
    "ax1.set_title('Original Scores')\n",
    "ax1.boxplot(scores)"
   ]
  },
  {
   "cell_type": "code",
   "execution_count": 9,
   "id": "6aef7c64",
   "metadata": {},
   "outputs": [
    {
     "data": {
      "text/plain": [
       "count    987122.000000\n",
       "mean          3.028437\n",
       "std          21.263246\n",
       "min         -38.000000\n",
       "25%           0.000000\n",
       "50%           1.000000\n",
       "75%           3.000000\n",
       "max        8384.000000\n",
       "Name: Score, dtype: float64"
      ]
     },
     "execution_count": 9,
     "metadata": {},
     "output_type": "execute_result"
    }
   ],
   "source": [
    "# median is 1, 75% is 3, but the max is 8384. let's see where it all goes wrong\n",
    "scores.describe()"
   ]
  },
  {
   "cell_type": "code",
   "execution_count": 10,
   "id": "2a4efb94",
   "metadata": {},
   "outputs": [],
   "source": [
    "# using the IQR method to remove outliers. Instead of removing, will just replace with the limit\n",
    "# IE) Scores greater than upper_limit will just be replaced with upper limit, same with lower limit.\n",
    "# https://towardsdatascience.com/practical-implementation-of-outlier-detection-in-python-90680453b3ce"
   ]
  },
  {
   "cell_type": "code",
   "execution_count": 11,
   "id": "3eeb9d56",
   "metadata": {},
   "outputs": [
    {
     "name": "stdout",
     "output_type": "stream",
     "text": [
      "3.0\n"
     ]
    }
   ],
   "source": [
    "IQR = scores.quantile(0.75) - scores.quantile(0.25)\n",
    "print(IQR)"
   ]
  },
  {
   "cell_type": "code",
   "execution_count": 12,
   "id": "8594dff6",
   "metadata": {},
   "outputs": [],
   "source": [
    "scores_upper_limit = scores.quantile(0.75) + 3 * IQR\n",
    "scores_lower_limit = scores.quantile(0.25) - 3 * IQR"
   ]
  },
  {
   "cell_type": "code",
   "execution_count": 37,
   "id": "ce670d22",
   "metadata": {},
   "outputs": [],
   "source": [
    "answers_df[answers_df['Score'] > scores_upper_limit] = scores_upper_limit\n",
    "answers_df[answers_df['Score'] < scores_lower_limit] = scores_lower_limit"
   ]
  },
  {
   "cell_type": "code",
   "execution_count": 38,
   "id": "527ec51b",
   "metadata": {},
   "outputs": [
    {
     "data": {
      "text/plain": [
       "{'whiskers': [<matplotlib.lines.Line2D at 0x7f8e35e1c3d0>,\n",
       "  <matplotlib.lines.Line2D at 0x7f8e35eadd30>],\n",
       " 'caps': [<matplotlib.lines.Line2D at 0x7f8e35ead220>,\n",
       "  <matplotlib.lines.Line2D at 0x7f8e35e4aaf0>],\n",
       " 'boxes': [<matplotlib.lines.Line2D at 0x7f8e35e1c8b0>],\n",
       " 'medians': [<matplotlib.lines.Line2D at 0x7f8e35e4adc0>],\n",
       " 'fliers': [<matplotlib.lines.Line2D at 0x7f8e35e530d0>],\n",
       " 'means': []}"
      ]
     },
     "execution_count": 38,
     "metadata": {},
     "output_type": "execute_result"
    },
    {
     "data": {
      "image/png": "[encoded data removed]",
      "text/plain": [
       "<Figure size 432x288 with 1 Axes>"
      ]
     },
     "metadata": {
      "needs_background": "light"
     },
     "output_type": "display_data"
    }
   ],
   "source": [
    "fig1, ax1 = plt.subplots()\n",
    "ax1.set_title('Adjusted Scores')\n",
    "ax1.boxplot(scores)"
   ]
  },
  {
   "cell_type": "code",
   "execution_count": 39,
   "id": "e1f460c8",
   "metadata": {},
   "outputs": [
    {
     "data": {
      "text/plain": [
       "array([[<AxesSubplot:title={'center':'Score'}>]], dtype=object)"
      ]
     },
     "execution_count": 39,
     "metadata": {},
     "output_type": "execute_result"
    },
    {
     "data": {
      "image/png": "[encoded data removed]",
      "text/plain": [
       "<Figure size 432x288 with 1 Axes>"
      ]
     },
     "metadata": {
      "needs_background": "light"
     },
     "output_type": "display_data"
    }
   ],
   "source": [
    "# Histogram view of the general distribution of the Score trait, among the answers\n",
    "answers_df_filtered.hist(column=\"Score\", bins=20)"
   ]
  },
  {
   "cell_type": "code",
   "execution_count": 70,
   "id": "91cf7cd6",
   "metadata": {},
   "outputs": [],
   "source": [
    "# utility function, to just get the slice of the answers_df which matches the question ID\n",
    "def get_question_answer_info(question_id):\n",
    "    relevant_answers = answers_df.query(f\"ParentId == {question_id}\")\n",
    "    scores = relevant_answers['Score']\n",
    "    num_answers = len(scores)\n",
    "    highest_score = np.max(scores)\n",
    "    if num_answers == 0:\n",
    "        highest_score = 0\n",
    "\n",
    "    return highest_score, num_answers"
   ]
  },
  {
   "cell_type": "code",
   "execution_count": 31,
   "id": "d1dcb5c6",
   "metadata": {},
   "outputs": [
    {
     "data": {
      "text/plain": [
       "'osx'"
      ]
     },
     "execution_count": 31,
     "metadata": {},
     "output_type": "execute_result"
    }
   ],
   "source": [
    "# list(a.index)\n",
    "# a.loc[1]['Tag']\n",
    "# a.loc[1, ['Tag']] = 'test'\n",
    "# some_df.insert(4,\"bcd\", \"1\")"
   ]
  },
  {
   "cell_type": "code",
   "execution_count": 88,
   "id": "895a4a16",
   "metadata": {},
   "outputs": [],
   "source": [
    "# first insert empty columns, which we will rewrite shortly\n",
    "questions_df.insert(6, \"highest_answer_score\", 0)\n",
    "questions_df.insert(7, \"num_answers\", 0)"
   ]
  },
  {
   "cell_type": "code",
   "execution_count": 91,
   "id": "ad6047d3",
   "metadata": {
    "scrolled": true
   },
   "outputs": [
    {
     "name": "stdout",
     "output_type": "stream",
     "text": [
      "0\n",
      "10000\n",
      "20000\n",
      "30000\n",
      "40000\n",
      "50000\n",
      "60000\n",
      "70000\n",
      "80000\n",
      "90000\n",
      "100000\n",
      "110000\n",
      "120000\n",
      "130000\n",
      "140000\n",
      "150000\n",
      "160000\n",
      "170000\n",
      "180000\n",
      "190000\n",
      "200000\n",
      "210000\n",
      "220000\n",
      "230000\n",
      "240000\n",
      "250000\n",
      "260000\n",
      "270000\n",
      "280000\n",
      "290000\n",
      "300000\n",
      "310000\n",
      "320000\n",
      "330000\n",
      "340000\n",
      "350000\n",
      "360000\n",
      "370000\n",
      "380000\n",
      "390000\n",
      "400000\n",
      "410000\n",
      "420000\n",
      "430000\n",
      "440000\n",
      "450000\n",
      "460000\n",
      "470000\n",
      "480000\n",
      "490000\n",
      "500000\n",
      "510000\n",
      "520000\n",
      "530000\n",
      "540000\n",
      "550000\n",
      "560000\n",
      "570000\n",
      "580000\n",
      "590000\n",
      "600000\n"
     ]
    }
   ],
   "source": [
    "index = questions_df.index\n",
    "for row_index in index:\n",
    "    if row_index % 10000 == 0:\n",
    "        print(row_index)\n",
    "    question = questions_df.loc[row_index]\n",
    "    question_id = question['Id']\n",
    "    highest_score, num_answers = get_question_answer_info(question_id)\n",
    "    questions_df.loc[row_index, ['highest_answer_score']] = highest_score\n",
    "    questions_df.loc[row_index, ['num_answers']] = num_answers"
   ]
  },
  {
   "cell_type": "code",
   "execution_count": 92,
   "id": "a8181e0f",
   "metadata": {},
   "outputs": [
    {
     "data": {
      "text/html": [
       "<div>\n",
       "<style scoped>\n",
       "    .dataframe tbody tr th:only-of-type {\n",
       "        vertical-align: middle;\n",
       "    }\n",
       "\n",
       "    .dataframe tbody tr th {\n",
       "        vertical-align: top;\n",
       "    }\n",
       "\n",
       "    .dataframe thead th {\n",
       "        text-align: right;\n",
       "    }\n",
       "</style>\n",
       "<table border=\"1\" class=\"dataframe\">\n",
       "  <thead>\n",
       "    <tr style=\"text-align: right;\">\n",
       "      <th></th>\n",
       "      <th>Id</th>\n",
       "      <th>OwnerUserId</th>\n",
       "      <th>CreationDate</th>\n",
       "      <th>Score</th>\n",
       "      <th>Title</th>\n",
       "      <th>Body</th>\n",
       "      <th>highest_answer_score</th>\n",
       "      <th>num_answers</th>\n",
       "    </tr>\n",
       "  </thead>\n",
       "  <tbody>\n",
       "    <tr>\n",
       "      <th>0</th>\n",
       "      <td>469</td>\n",
       "      <td>147.0</td>\n",
       "      <td>2008-08-02T15:11:16Z</td>\n",
       "      <td>21</td>\n",
       "      <td>How can I find the full path to a font from it...</td>\n",
       "      <td>&lt;p&gt;I am using the Photoshop's javascript API t...</td>\n",
       "      <td>12</td>\n",
       "      <td>4</td>\n",
       "    </tr>\n",
       "    <tr>\n",
       "      <th>1</th>\n",
       "      <td>502</td>\n",
       "      <td>147.0</td>\n",
       "      <td>2008-08-02T17:01:58Z</td>\n",
       "      <td>27</td>\n",
       "      <td>Get a preview JPEG of a PDF on Windows?</td>\n",
       "      <td>&lt;p&gt;I have a cross-platform (Python) applicatio...</td>\n",
       "      <td>9</td>\n",
       "      <td>2</td>\n",
       "    </tr>\n",
       "    <tr>\n",
       "      <th>2</th>\n",
       "      <td>535</td>\n",
       "      <td>154.0</td>\n",
       "      <td>2008-08-02T18:43:54Z</td>\n",
       "      <td>40</td>\n",
       "      <td>Continuous Integration System for a Python Cod...</td>\n",
       "      <td>&lt;p&gt;I'm starting work on a hobby project with a...</td>\n",
       "      <td>4</td>\n",
       "      <td>3</td>\n",
       "    </tr>\n",
       "    <tr>\n",
       "      <th>3</th>\n",
       "      <td>594</td>\n",
       "      <td>116.0</td>\n",
       "      <td>2008-08-03T01:15:08Z</td>\n",
       "      <td>25</td>\n",
       "      <td>cx_Oracle: How do I iterate over a result set?</td>\n",
       "      <td>&lt;p&gt;There are several ways to iterate over a re...</td>\n",
       "      <td>4</td>\n",
       "      <td>1</td>\n",
       "    </tr>\n",
       "    <tr>\n",
       "      <th>4</th>\n",
       "      <td>683</td>\n",
       "      <td>199.0</td>\n",
       "      <td>2008-08-03T13:19:16Z</td>\n",
       "      <td>28</td>\n",
       "      <td>Using 'in' to match an attribute of Python obj...</td>\n",
       "      <td>&lt;p&gt;I don't remember whether I was dreaming or ...</td>\n",
       "      <td>8</td>\n",
       "      <td>7</td>\n",
       "    </tr>\n",
       "    <tr>\n",
       "      <th>...</th>\n",
       "      <td>...</td>\n",
       "      <td>...</td>\n",
       "      <td>...</td>\n",
       "      <td>...</td>\n",
       "      <td>...</td>\n",
       "      <td>...</td>\n",
       "      <td>...</td>\n",
       "      <td>...</td>\n",
       "    </tr>\n",
       "    <tr>\n",
       "      <th>607277</th>\n",
       "      <td>40143190</td>\n",
       "      <td>333403.0</td>\n",
       "      <td>2016-10-19T23:36:01Z</td>\n",
       "      <td>1</td>\n",
       "      <td>How to execute multiline python code from a ba...</td>\n",
       "      <td>&lt;p&gt;I need to extend a shell script (bash). As ...</td>\n",
       "      <td>5</td>\n",
       "      <td>2</td>\n",
       "    </tr>\n",
       "    <tr>\n",
       "      <th>607278</th>\n",
       "      <td>40143228</td>\n",
       "      <td>6662462.0</td>\n",
       "      <td>2016-10-19T23:40:00Z</td>\n",
       "      <td>0</td>\n",
       "      <td>How to get google reCaptcha image source using...</td>\n",
       "      <td>&lt;p&gt;I understood that reCaptcha loads a new fra...</td>\n",
       "      <td>0</td>\n",
       "      <td>0</td>\n",
       "    </tr>\n",
       "    <tr>\n",
       "      <th>607279</th>\n",
       "      <td>40143267</td>\n",
       "      <td>4064680.0</td>\n",
       "      <td>2016-10-19T23:44:07Z</td>\n",
       "      <td>0</td>\n",
       "      <td>Updating an ManyToMany field with Django rest</td>\n",
       "      <td>&lt;p&gt;I'm trying to set up this API so I can use ...</td>\n",
       "      <td>0</td>\n",
       "      <td>0</td>\n",
       "    </tr>\n",
       "    <tr>\n",
       "      <th>607280</th>\n",
       "      <td>40143338</td>\n",
       "      <td>7044980.0</td>\n",
       "      <td>2016-10-19T23:52:27Z</td>\n",
       "      <td>2</td>\n",
       "      <td>Most possible pairs</td>\n",
       "      <td>&lt;p&gt;Given a list of values, and information on ...</td>\n",
       "      <td>0</td>\n",
       "      <td>0</td>\n",
       "    </tr>\n",
       "    <tr>\n",
       "      <th>607281</th>\n",
       "      <td>40143365</td>\n",
       "      <td>4133131.0</td>\n",
       "      <td>2016-10-19T23:55:49Z</td>\n",
       "      <td>0</td>\n",
       "      <td>Theano operations returning odd results</td>\n",
       "      <td>&lt;p&gt;So I'm trying to learn how to use Theano an...</td>\n",
       "      <td>0</td>\n",
       "      <td>0</td>\n",
       "    </tr>\n",
       "  </tbody>\n",
       "</table>\n",
       "<p>607282 rows × 8 columns</p>\n",
       "</div>"
      ],
      "text/plain": [
       "              Id  OwnerUserId          CreationDate  Score  \\\n",
       "0            469        147.0  2008-08-02T15:11:16Z     21   \n",
       "1            502        147.0  2008-08-02T17:01:58Z     27   \n",
       "2            535        154.0  2008-08-02T18:43:54Z     40   \n",
       "3            594        116.0  2008-08-03T01:15:08Z     25   \n",
       "4            683        199.0  2008-08-03T13:19:16Z     28   \n",
       "...          ...          ...                   ...    ...   \n",
       "607277  40143190     333403.0  2016-10-19T23:36:01Z      1   \n",
       "607278  40143228    6662462.0  2016-10-19T23:40:00Z      0   \n",
       "607279  40143267    4064680.0  2016-10-19T23:44:07Z      0   \n",
       "607280  40143338    7044980.0  2016-10-19T23:52:27Z      2   \n",
       "607281  40143365    4133131.0  2016-10-19T23:55:49Z      0   \n",
       "\n",
       "                                                    Title  \\\n",
       "0       How can I find the full path to a font from it...   \n",
       "1                 Get a preview JPEG of a PDF on Windows?   \n",
       "2       Continuous Integration System for a Python Cod...   \n",
       "3          cx_Oracle: How do I iterate over a result set?   \n",
       "4       Using 'in' to match an attribute of Python obj...   \n",
       "...                                                   ...   \n",
       "607277  How to execute multiline python code from a ba...   \n",
       "607278  How to get google reCaptcha image source using...   \n",
       "607279      Updating an ManyToMany field with Django rest   \n",
       "607280                                Most possible pairs   \n",
       "607281            Theano operations returning odd results   \n",
       "\n",
       "                                                     Body  \\\n",
       "0       <p>I am using the Photoshop's javascript API t...   \n",
       "1       <p>I have a cross-platform (Python) applicatio...   \n",
       "2       <p>I'm starting work on a hobby project with a...   \n",
       "3       <p>There are several ways to iterate over a re...   \n",
       "4       <p>I don't remember whether I was dreaming or ...   \n",
       "...                                                   ...   \n",
       "607277  <p>I need to extend a shell script (bash). As ...   \n",
       "607278  <p>I understood that reCaptcha loads a new fra...   \n",
       "607279  <p>I'm trying to set up this API so I can use ...   \n",
       "607280  <p>Given a list of values, and information on ...   \n",
       "607281  <p>So I'm trying to learn how to use Theano an...   \n",
       "\n",
       "        highest_answer_score  num_answers  \n",
       "0                         12            4  \n",
       "1                          9            2  \n",
       "2                          4            3  \n",
       "3                          4            1  \n",
       "4                          8            7  \n",
       "...                      ...          ...  \n",
       "607277                     5            2  \n",
       "607278                     0            0  \n",
       "607279                     0            0  \n",
       "607280                     0            0  \n",
       "607281                     0            0  \n",
       "\n",
       "[607282 rows x 8 columns]"
      ]
     },
     "execution_count": 92,
     "metadata": {},
     "output_type": "execute_result"
    }
   ],
   "source": [
    "questions_df"
   ]
  },
  {
   "cell_type": "code",
   "execution_count": 93,
   "id": "4f20c44e",
   "metadata": {},
   "outputs": [],
   "source": [
    "questions_df.to_csv(\"processed_questions.csv\")"
   ]
  },
  {
   "cell_type": "code",
   "execution_count": 94,
   "id": "e2ede2f0",
   "metadata": {},
   "outputs": [
    {
     "data": {
      "text/plain": [
       "array([[<AxesSubplot:title={'center':'highest_answer_score'}>]],\n",
       "      dtype=object)"
      ]
     },
     "execution_count": 94,
     "metadata": {},
     "output_type": "execute_result"
    },
    {
     "data": {
      "image/png": "[encoded data removed]",
      "text/plain": [
       "<Figure size 432x288 with 1 Axes>"
      ]
     },
     "metadata": {
      "needs_background": "light"
     },
     "output_type": "display_data"
    }
   ],
   "source": [
    "questions_df.hist(column=\"highest_answer_score\", bins=20)"
   ]
  },
  {
   "cell_type": "code",
   "execution_count": 95,
   "id": "b2f42718",
   "metadata": {},
   "outputs": [
    {
     "data": {
      "text/plain": [
       "array([[<AxesSubplot:title={'center':'num_answers'}>]], dtype=object)"
      ]
     },
     "execution_count": 95,
     "metadata": {},
     "output_type": "execute_result"
    },
    {
     "data": {
      "image/png": "[encoded data removed]",
      "text/plain": [
       "<Figure size 432x288 with 1 Axes>"
      ]
     },
     "metadata": {
      "needs_background": "light"
     },
     "output_type": "display_data"
    }
   ],
   "source": [
    "questions_df.hist(column=\"num_answers\", bins=20)"
   ]
  },
  {
   "cell_type": "code",
   "execution_count": null,
   "id": "d766dc5c",
   "metadata": {},
   "outputs": [],
   "source": []
  }
 ],
 "metadata": {
  "kernelspec": {
   "display_name": "Python 3 (ipykernel)",
   "language": "python",
   "name": "python3"
  },
  "language_info": {
   "codemirror_mode": {
    "name": "ipython",
    "version": 3
   },
   "file_extension": ".py",
   "mimetype": "text/x-python",
   "name": "python",
   "nbconvert_exporter": "python",
   "pygments_lexer": "ipython3",
   "version": "3.9.12"
  }
 },
 "nbformat": 4,
 "nbformat_minor": 5
}
