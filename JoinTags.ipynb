{
 "cells": [
  {
   "cell_type": "code",
   "execution_count": 1,
   "id": "9fd360b6-47bc-4a76-b555-52bdc444b8ad",
   "metadata": {},
   "outputs": [],
   "source": [
    "import pandas as pd"
   ]
  },
  {
   "cell_type": "code",
   "execution_count": 2,
   "id": "d2081708-1184-42f9-9bb2-7b78665a95b5",
   "metadata": {},
   "outputs": [],
   "source": [
    "tags = pd.read_csv(\"Tags.csv\")"
   ]
  },
  {
   "cell_type": "code",
   "execution_count": 3,
   "id": "fe3e9191-86c2-486a-b801-d0e1fa13ece2",
   "metadata": {},
   "outputs": [
    {
     "data": {
      "text/html": [
       "<div>\n",
       "<style scoped>\n",
       "    .dataframe tbody tr th:only-of-type {\n",
       "        vertical-align: middle;\n",
       "    }\n",
       "\n",
       "    .dataframe tbody tr th {\n",
       "        vertical-align: top;\n",
       "    }\n",
       "\n",
       "    .dataframe thead th {\n",
       "        text-align: right;\n",
       "    }\n",
       "</style>\n",
       "<table border=\"1\" class=\"dataframe\">\n",
       "  <thead>\n",
       "    <tr style=\"text-align: right;\">\n",
       "      <th></th>\n",
       "      <th>Id</th>\n",
       "      <th>Tag</th>\n",
       "    </tr>\n",
       "  </thead>\n",
       "  <tbody>\n",
       "    <tr>\n",
       "      <th>0</th>\n",
       "      <td>469</td>\n",
       "      <td>python</td>\n",
       "    </tr>\n",
       "    <tr>\n",
       "      <th>1</th>\n",
       "      <td>469</td>\n",
       "      <td>osx</td>\n",
       "    </tr>\n",
       "    <tr>\n",
       "      <th>2</th>\n",
       "      <td>469</td>\n",
       "      <td>fonts</td>\n",
       "    </tr>\n",
       "    <tr>\n",
       "      <th>3</th>\n",
       "      <td>469</td>\n",
       "      <td>photoshop</td>\n",
       "    </tr>\n",
       "    <tr>\n",
       "      <th>4</th>\n",
       "      <td>502</td>\n",
       "      <td>python</td>\n",
       "    </tr>\n",
       "  </tbody>\n",
       "</table>\n",
       "</div>"
      ],
      "text/plain": [
       "    Id        Tag\n",
       "0  469     python\n",
       "1  469        osx\n",
       "2  469      fonts\n",
       "3  469  photoshop\n",
       "4  502     python"
      ]
     },
     "execution_count": 3,
     "metadata": {},
     "output_type": "execute_result"
    }
   ],
   "source": [
    "tags.head(5)"
   ]
  },
  {
   "cell_type": "code",
   "execution_count": 4,
   "id": "6dc8085b-7504-4058-bf6a-424223d1df9a",
   "metadata": {},
   "outputs": [],
   "source": [
    "top_tags = set(tags['Tag'].value_counts()[1:10].index)"
   ]
  },
  {
   "cell_type": "code",
   "execution_count": 5,
   "id": "fb6e9627-9c4e-413e-bb29-7b1bf36dd8a5",
   "metadata": {},
   "outputs": [
    {
     "data": {
      "text/plain": [
       "{'dictionary',\n",
       " 'django',\n",
       " 'list',\n",
       " 'matplotlib',\n",
       " 'numpy',\n",
       " 'pandas',\n",
       " 'python-2.7',\n",
       " 'python-3.x',\n",
       " 'regex'}"
      ]
     },
     "execution_count": 5,
     "metadata": {},
     "output_type": "execute_result"
    }
   ],
   "source": [
    "top_tags"
   ]
  },
  {
   "cell_type": "code",
   "execution_count": 6,
   "id": "c199c30c-075f-4d97-baef-112030a9ce1d",
   "metadata": {},
   "outputs": [],
   "source": [
    "questions_data = pd.read_csv(\"v1.csv\")"
   ]
  },
  {
   "cell_type": "code",
   "execution_count": 8,
   "id": "8aed9a1a-a1db-450a-850d-1b759a5a027d",
   "metadata": {},
   "outputs": [
    {
     "data": {
      "text/plain": [
       "django                                   60025\n",
       "python-2.7                               26301\n",
       "pandas                                   21100\n",
       "python-3.x                               20791\n",
       "numpy                                    20016\n",
       "                                         ...  \n",
       "python-2.7&&numpy&&django&&matplotlib        1\n",
       "numpy&&dictionary&&matplotlib                1\n",
       "python-3.x&&regex&&matplotlib                1\n",
       "pandas&&numpy&&django&&matplotlib            1\n",
       "python-3.x&&list&&dictionary&&django         1\n",
       "Name: top_tags, Length: 131, dtype: int64"
      ]
     },
     "execution_count": 8,
     "metadata": {},
     "output_type": "execute_result"
    }
   ],
   "source": [
    "questions_data['top_tags'].value_counts()"
   ]
  },
  {
   "cell_type": "code",
   "execution_count": 12,
   "id": "7f49276b-073b-4129-8cba-6574da9b3969",
   "metadata": {},
   "outputs": [
    {
     "data": {
      "text/plain": [
       "Unnamed: 0                                                              0\n",
       "Id                                                                    469\n",
       "OwnerUserId                                                         147.0\n",
       "CreationDate                                         2008-08-02T15:11:16Z\n",
       "Score                                                                  21\n",
       "Title                   How can I find the full path to a font from it...\n",
       "Body                    <p>I am using the Photoshop's javascript API t...\n",
       "highest_answer_score                                                   12\n",
       "num_answers                                                             4\n",
       "has_positive_answer                                                     1\n",
       "Full_Text               How can I find the full path to a font from it...\n",
       "Title_Word_Count                                                       17\n",
       "Body_Word_Count                                                        70\n",
       "SPLIT                                                               TRAIN\n",
       "NB_prediction                                                    0.400395\n",
       "top_tags                                                              NaN\n",
       "Name: 0, dtype: object"
      ]
     },
     "execution_count": 12,
     "metadata": {},
     "output_type": "execute_result"
    }
   ],
   "source": [
    "questions_data.iloc[0]"
   ]
  },
  {
   "cell_type": "code",
   "execution_count": null,
   "id": "e713adeb-2585-4c35-8074-02656a95a06b",
   "metadata": {},
   "outputs": [],
   "source": []
  }
 ],
 "metadata": {
  "kernelspec": {
   "display_name": "Python 3 (ipykernel)",
   "language": "python",
   "name": "python3"
  },
  "language_info": {
   "codemirror_mode": {
    "name": "ipython",
    "version": 3
   },
   "file_extension": ".py",
   "mimetype": "text/x-python",
   "name": "python",
   "nbconvert_exporter": "python",
   "pygments_lexer": "ipython3",
   "version": "3.8.10"
  }
 },
 "nbformat": 4,
 "nbformat_minor": 5
}
