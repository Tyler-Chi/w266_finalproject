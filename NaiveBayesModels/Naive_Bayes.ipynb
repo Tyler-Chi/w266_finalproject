{
 "cells": [
  {
   "cell_type": "code",
   "execution_count": 1,
   "id": "46dd1e15-d20c-436e-a8a8-a161425c98be",
   "metadata": {},
   "outputs": [],
   "source": [
    "import numpy as np\n",
    "import pandas as pd\n",
    "import sklearn\n",
    "from sklearn.model_selection import train_test_split\n",
    "from sklearn.feature_extraction.text import CountVectorizer\n",
    "from sklearn.naive_bayes import MultinomialNB\n",
    "from sklearn.metrics import accuracy_score,confusion_matrix"
   ]
  },
  {
   "cell_type": "code",
   "execution_count": 2,
   "id": "659b4d5f-4a22-4f75-998d-b5d5605f9f62",
   "metadata": {},
   "outputs": [],
   "source": [
    "questions_data = pd.read_csv(\"questions_nb_predictions.csv\")"
   ]
  },
  {
   "cell_type": "code",
   "execution_count": 3,
   "id": "0d369e04-88f8-4fdc-b724-8681984067ca",
   "metadata": {},
   "outputs": [
    {
     "data": {
      "text/html": [
       "<div>\n",
       "<style scoped>\n",
       "    .dataframe tbody tr th:only-of-type {\n",
       "        vertical-align: middle;\n",
       "    }\n",
       "\n",
       "    .dataframe tbody tr th {\n",
       "        vertical-align: top;\n",
       "    }\n",
       "\n",
       "    .dataframe thead th {\n",
       "        text-align: right;\n",
       "    }\n",
       "</style>\n",
       "<table border=\"1\" class=\"dataframe\">\n",
       "  <thead>\n",
       "    <tr style=\"text-align: right;\">\n",
       "      <th></th>\n",
       "      <th>Unnamed: 0.3</th>\n",
       "      <th>Unnamed: 0.2</th>\n",
       "      <th>Unnamed: 0.1</th>\n",
       "      <th>Unnamed: 0</th>\n",
       "      <th>Id</th>\n",
       "      <th>OwnerUserId</th>\n",
       "      <th>CreationDate</th>\n",
       "      <th>Score</th>\n",
       "      <th>Title</th>\n",
       "      <th>Body</th>\n",
       "      <th>highest_answer_score</th>\n",
       "      <th>num_answers</th>\n",
       "      <th>has_positive_answer</th>\n",
       "      <th>Full_Text</th>\n",
       "      <th>Title_Word_Count</th>\n",
       "      <th>Body_Word_Count</th>\n",
       "      <th>SPLIT</th>\n",
       "      <th>NB_prediction</th>\n",
       "    </tr>\n",
       "  </thead>\n",
       "  <tbody>\n",
       "    <tr>\n",
       "      <th>0</th>\n",
       "      <td>0</td>\n",
       "      <td>0</td>\n",
       "      <td>0</td>\n",
       "      <td>0</td>\n",
       "      <td>469</td>\n",
       "      <td>147.0</td>\n",
       "      <td>2008-08-02T15:11:16Z</td>\n",
       "      <td>21</td>\n",
       "      <td>How can I find the full path to a font from it...</td>\n",
       "      <td>&lt;p&gt;I am using the Photoshop's javascript API t...</td>\n",
       "      <td>12</td>\n",
       "      <td>4</td>\n",
       "      <td>1</td>\n",
       "      <td>How can I find the full path to a font from it...</td>\n",
       "      <td>17</td>\n",
       "      <td>70</td>\n",
       "      <td>TRAIN</td>\n",
       "      <td>0.400395</td>\n",
       "    </tr>\n",
       "    <tr>\n",
       "      <th>1</th>\n",
       "      <td>1</td>\n",
       "      <td>1</td>\n",
       "      <td>1</td>\n",
       "      <td>1</td>\n",
       "      <td>502</td>\n",
       "      <td>147.0</td>\n",
       "      <td>2008-08-02T17:01:58Z</td>\n",
       "      <td>27</td>\n",
       "      <td>Get a preview JPEG of a PDF on Windows?</td>\n",
       "      <td>&lt;p&gt;I have a cross-platform (Python) applicatio...</td>\n",
       "      <td>9</td>\n",
       "      <td>2</td>\n",
       "      <td>1</td>\n",
       "      <td>Get a preview JPEG of a PDF on Windows? &lt;p&gt;I h...</td>\n",
       "      <td>9</td>\n",
       "      <td>38</td>\n",
       "      <td>TRAIN</td>\n",
       "      <td>0.287295</td>\n",
       "    </tr>\n",
       "  </tbody>\n",
       "</table>\n",
       "</div>"
      ],
      "text/plain": [
       "   Unnamed: 0.3  Unnamed: 0.2  Unnamed: 0.1  Unnamed: 0   Id  OwnerUserId  \\\n",
       "0             0             0             0           0  469        147.0   \n",
       "1             1             1             1           1  502        147.0   \n",
       "\n",
       "           CreationDate  Score  \\\n",
       "0  2008-08-02T15:11:16Z     21   \n",
       "1  2008-08-02T17:01:58Z     27   \n",
       "\n",
       "                                               Title  \\\n",
       "0  How can I find the full path to a font from it...   \n",
       "1            Get a preview JPEG of a PDF on Windows?   \n",
       "\n",
       "                                                Body  highest_answer_score  \\\n",
       "0  <p>I am using the Photoshop's javascript API t...                    12   \n",
       "1  <p>I have a cross-platform (Python) applicatio...                     9   \n",
       "\n",
       "   num_answers  has_positive_answer  \\\n",
       "0            4                    1   \n",
       "1            2                    1   \n",
       "\n",
       "                                           Full_Text  Title_Word_Count  \\\n",
       "0  How can I find the full path to a font from it...                17   \n",
       "1  Get a preview JPEG of a PDF on Windows? <p>I h...                 9   \n",
       "\n",
       "   Body_Word_Count  SPLIT  NB_prediction  \n",
       "0               70  TRAIN       0.400395  \n",
       "1               38  TRAIN       0.287295  "
      ]
     },
     "execution_count": 3,
     "metadata": {},
     "output_type": "execute_result"
    }
   ],
   "source": [
    "questions_data.head(2)"
   ]
  },
  {
   "cell_type": "code",
   "execution_count": 4,
   "id": "3b5f9ad6-6116-42eb-86a4-e537b09ba7a2",
   "metadata": {},
   "outputs": [],
   "source": [
    "from random import randint"
   ]
  },
  {
   "cell_type": "code",
   "execution_count": 5,
   "id": "e7c9d48b-89d4-4b82-bb1a-1f677f533cb5",
   "metadata": {},
   "outputs": [
    {
     "data": {
      "text/plain": [
       "TRAIN    441617\n",
       "TEST     165665\n",
       "Name: SPLIT, dtype: int64"
      ]
     },
     "execution_count": 5,
     "metadata": {},
     "output_type": "execute_result"
    }
   ],
   "source": [
    "questions_data['SPLIT'].value_counts()"
   ]
  },
  {
   "cell_type": "code",
   "execution_count": 6,
   "id": "f08a1c37-7a47-4d21-a460-3bb4f90163b5",
   "metadata": {},
   "outputs": [],
   "source": [
    "train_split = questions_data.loc[questions_data['SPLIT'] == 'TRAIN']\n",
    "test_split = questions_data.loc[questions_data['SPLIT'] == 'TEST']"
   ]
  },
  {
   "cell_type": "code",
   "execution_count": 7,
   "id": "2615194c-a48e-43fc-b6b0-cb6ecef24e42",
   "metadata": {},
   "outputs": [],
   "source": [
    "X_train = train_split['Title']\n",
    "X_test = test_split['Title']\n",
    "\n",
    "y_train = train_split['has_positive_answer']\n",
    "y_test = test_split['has_positive_answer']"
   ]
  },
  {
   "cell_type": "code",
   "execution_count": 8,
   "id": "cb0e58ee-3c43-4040-a8b9-cfb686584934",
   "metadata": {},
   "outputs": [],
   "source": [
    "vect = CountVectorizer(stop_words = 'english')\n",
    "\n",
    "x_train_cv = vect.fit_transform(X_train)\n",
    "x_test_cv = vect.transform(X_test)"
   ]
  },
  {
   "cell_type": "code",
   "execution_count": 9,
   "id": "4fb8826b-c88f-4bba-af29-e4db4a55b904",
   "metadata": {},
   "outputs": [
    {
     "data": {
      "text/html": [
       "<style>#sk-container-id-1 {color: black;background-color: white;}#sk-container-id-1 pre{padding: 0;}#sk-container-id-1 div.sk-toggleable {background-color: white;}#sk-container-id-1 label.sk-toggleable__label {cursor: pointer;display: block;width: 100%;margin-bottom: 0;padding: 0.3em;box-sizing: border-box;text-align: center;}#sk-container-id-1 label.sk-toggleable__label-arrow:before {content: \"▸\";float: left;margin-right: 0.25em;color: #696969;}#sk-container-id-1 label.sk-toggleable__label-arrow:hover:before {color: black;}#sk-container-id-1 div.sk-estimator:hover label.sk-toggleable__label-arrow:before {color: black;}#sk-container-id-1 div.sk-toggleable__content {max-height: 0;max-width: 0;overflow: hidden;text-align: left;background-color: #f0f8ff;}#sk-container-id-1 div.sk-toggleable__content pre {margin: 0.2em;color: black;border-radius: 0.25em;background-color: #f0f8ff;}#sk-container-id-1 input.sk-toggleable__control:checked~div.sk-toggleable__content {max-height: 200px;max-width: 100%;overflow: auto;}#sk-container-id-1 input.sk-toggleable__control:checked~label.sk-toggleable__label-arrow:before {content: \"▾\";}#sk-container-id-1 div.sk-estimator input.sk-toggleable__control:checked~label.sk-toggleable__label {background-color: #d4ebff;}#sk-container-id-1 div.sk-label input.sk-toggleable__control:checked~label.sk-toggleable__label {background-color: #d4ebff;}#sk-container-id-1 input.sk-hidden--visually {border: 0;clip: rect(1px 1px 1px 1px);clip: rect(1px, 1px, 1px, 1px);height: 1px;margin: -1px;overflow: hidden;padding: 0;position: absolute;width: 1px;}#sk-container-id-1 div.sk-estimator {font-family: monospace;background-color: #f0f8ff;border: 1px dotted black;border-radius: 0.25em;box-sizing: border-box;margin-bottom: 0.5em;}#sk-container-id-1 div.sk-estimator:hover {background-color: #d4ebff;}#sk-container-id-1 div.sk-parallel-item::after {content: \"\";width: 100%;border-bottom: 1px solid gray;flex-grow: 1;}#sk-container-id-1 div.sk-label:hover label.sk-toggleable__label {background-color: #d4ebff;}#sk-container-id-1 div.sk-serial::before {content: \"\";position: absolute;border-left: 1px solid gray;box-sizing: border-box;top: 0;bottom: 0;left: 50%;z-index: 0;}#sk-container-id-1 div.sk-serial {display: flex;flex-direction: column;align-items: center;background-color: white;padding-right: 0.2em;padding-left: 0.2em;position: relative;}#sk-container-id-1 div.sk-item {position: relative;z-index: 1;}#sk-container-id-1 div.sk-parallel {display: flex;align-items: stretch;justify-content: center;background-color: white;position: relative;}#sk-container-id-1 div.sk-item::before, #sk-container-id-1 div.sk-parallel-item::before {content: \"\";position: absolute;border-left: 1px solid gray;box-sizing: border-box;top: 0;bottom: 0;left: 50%;z-index: -1;}#sk-container-id-1 div.sk-parallel-item {display: flex;flex-direction: column;z-index: 1;position: relative;background-color: white;}#sk-container-id-1 div.sk-parallel-item:first-child::after {align-self: flex-end;width: 50%;}#sk-container-id-1 div.sk-parallel-item:last-child::after {align-self: flex-start;width: 50%;}#sk-container-id-1 div.sk-parallel-item:only-child::after {width: 0;}#sk-container-id-1 div.sk-dashed-wrapped {border: 1px dashed gray;margin: 0 0.4em 0.5em 0.4em;box-sizing: border-box;padding-bottom: 0.4em;background-color: white;}#sk-container-id-1 div.sk-label label {font-family: monospace;font-weight: bold;display: inline-block;line-height: 1.2em;}#sk-container-id-1 div.sk-label-container {text-align: center;}#sk-container-id-1 div.sk-container {/* jupyter's `normalize.less` sets `[hidden] { display: none; }` but bootstrap.min.css set `[hidden] { display: none !important; }` so we also need the `!important` here to be able to override the default hidden behavior on the sphinx rendered scikit-learn.org. See: https://github.com/scikit-learn/scikit-learn/issues/21755 */display: inline-block !important;position: relative;}#sk-container-id-1 div.sk-text-repr-fallback {display: none;}</style><div id=\"sk-container-id-1\" class=\"sk-top-container\"><div class=\"sk-text-repr-fallback\"><pre>MultinomialNB()</pre><b>In a Jupyter environment, please rerun this cell to show the HTML representation or trust the notebook. <br />On GitHub, the HTML representation is unable to render, please try loading this page with nbviewer.org.</b></div><div class=\"sk-container\" hidden><div class=\"sk-item\"><div class=\"sk-estimator sk-toggleable\"><input class=\"sk-toggleable__control sk-hidden--visually\" id=\"sk-estimator-id-1\" type=\"checkbox\" checked><label for=\"sk-estimator-id-1\" class=\"sk-toggleable__label sk-toggleable__label-arrow\">MultinomialNB</label><div class=\"sk-toggleable__content\"><pre>MultinomialNB()</pre></div></div></div></div></div>"
      ],
      "text/plain": [
       "MultinomialNB()"
      ]
     },
     "execution_count": 9,
     "metadata": {},
     "output_type": "execute_result"
    }
   ],
   "source": [
    "clf = MultinomialNB()\n",
    "clf.fit(x_train_cv, y_train)"
   ]
  },
  {
   "cell_type": "markdown",
   "id": "5622c401-c598-492d-a50a-6d6235d55a37",
   "metadata": {},
   "source": [
    "### Test on the holdout data"
   ]
  },
  {
   "cell_type": "code",
   "execution_count": 10,
   "id": "1d5146a1-6252-4692-ad3d-35a3c3fdcf64",
   "metadata": {},
   "outputs": [],
   "source": [
    "y_pred_raw = clf.predict_proba(x_test_cv)"
   ]
  },
  {
   "cell_type": "code",
   "execution_count": 11,
   "id": "ce7cfcf1-e8c9-44bf-9a82-1ea3e1c1e81c",
   "metadata": {},
   "outputs": [],
   "source": [
    "# we want the probability of the 1 class\n",
    "y_pred_raw = [x[1] for x in y_pred_raw]"
   ]
  },
  {
   "cell_type": "code",
   "execution_count": 12,
   "id": "d2e68c06-afbf-48ed-a587-9a415ff4491c",
   "metadata": {},
   "outputs": [],
   "source": [
    "y_pred = (np.array(y_pred_raw) > 0.5).astype(int)"
   ]
  },
  {
   "cell_type": "code",
   "execution_count": 13,
   "id": "e113386f-020e-4139-a642-c92f4d9a174a",
   "metadata": {},
   "outputs": [],
   "source": [
    "from sklearn import metrics\n",
    "fpr, tpr, _ = metrics.roc_curve(y_test,  y_pred_raw)\n",
    "auc = metrics.roc_auc_score(y_test, y_pred_raw)"
   ]
  },
  {
   "cell_type": "code",
   "execution_count": 14,
   "id": "3705948a-8a05-4dc3-b4c6-9a2c6185acac",
   "metadata": {},
   "outputs": [
    {
     "data": {
      "image/png": "[encoded data removed]",
      "text/plain": [
       "<Figure size 640x480 with 1 Axes>"
      ]
     },
     "metadata": {},
     "output_type": "display_data"
    }
   ],
   "source": [
    "import matplotlib.pyplot as plt\n",
    "\n",
    "plt.plot(fpr,tpr,label=\"AUC=\"+str(auc))\n",
    "plt.ylabel('True Positive Rate')\n",
    "plt.xlabel('False Positive Rate')\n",
    "plt.legend(loc=4)\n",
    "plt.show()"
   ]
  },
  {
   "cell_type": "code",
   "execution_count": 15,
   "id": "664b4842-0eae-48a6-af30-2c3ad4a56db9",
   "metadata": {},
   "outputs": [],
   "source": [
    "from sklearn.metrics import f1_score, precision_score, recall_score\n",
    "f1 = f1_score(y_test, y_pred)\n",
    "precision = precision_score(y_test, y_pred)\n",
    "recall = recall_score(y_test, y_pred)"
   ]
  },
  {
   "cell_type": "code",
   "execution_count": 16,
   "id": "7ee1209a-5be4-4d7f-bfa7-ae2e238fd1db",
   "metadata": {},
   "outputs": [],
   "source": [
    "from sklearn.metrics import f1_score, precision_score, recall_score\n",
    "f1 = f1_score(y_test, y_pred)\n",
    "precision = precision_score(y_test, y_pred)\n",
    "recall = recall_score(y_test, y_pred)"
   ]
  },
  {
   "cell_type": "code",
   "execution_count": 17,
   "id": "0e2ec72b-83f5-496c-ab7a-efa2f7c86201",
   "metadata": {},
   "outputs": [
    {
     "name": "stdout",
     "output_type": "stream",
     "text": [
      "f1 score is: 0.7637812913396476\n",
      "precision score is: 0.7205409758937187\n",
      "recall score is: 0.8125427142908529\n"
     ]
    }
   ],
   "source": [
    "print(f\"f1 score is: {f1}\")\n",
    "print(f\"precision score is: {precision}\")\n",
    "print(f\"recall score is: {recall}\")"
   ]
  },
  {
   "cell_type": "code",
   "execution_count": 18,
   "id": "30233f70-6a97-4f0f-bbf5-70807e775cf7",
   "metadata": {},
   "outputs": [],
   "source": [
    "from sklearn.metrics import confusion_matrix\n",
    "from sklearn.metrics import plot_confusion_matrix\n",
    "import seaborn as sns\n",
    "cm = confusion_matrix(y_test, y_pred)"
   ]
  },
  {
   "cell_type": "code",
   "execution_count": 19,
   "id": "1f6c0433-460d-4806-9b56-bf2ff42a2364",
   "metadata": {},
   "outputs": [
    {
     "data": {
      "text/plain": [
       "<AxesSubplot:>"
      ]
     },
     "execution_count": 19,
     "metadata": {},
     "output_type": "execute_result"
    },
    {
     "data": {
      "image/png": "[encoded data removed]",
      "text/plain": [
       "<Figure size 640x480 with 2 Axes>"
      ]
     },
     "metadata": {},
     "output_type": "display_data"
    }
   ],
   "source": [
    "group_names = [\"True Neg\", \"False Pos\",\"False Neg\",\"True Pos\"]\n",
    "group_counts = [\"{0:0.0f}\".format(value) for value in cm.flatten()]\n",
    "group_percentages = [\"{0:.2%}\".format(value) for value in cm.flatten()/np.sum(cm)]\n",
    "labels = [f\"{v1}\\n{v2}\\n{v3}\" for v1, v2, v3 in zip(group_names,group_counts,group_percentages)]\n",
    "\n",
    "labels = np.asarray(labels).reshape(2,2)\n",
    "sns.heatmap(cm, fmt=\"\", cmap='Blues', annot=labels)"
   ]
  },
  {
   "cell_type": "markdown",
   "id": "f17932e9-5e2f-494b-b2bf-6be1f96c4c89",
   "metadata": {},
   "source": [
    "## Use the predictions to add to the questions_data, and save it. This can be used later in combination with the pooled token"
   ]
  },
  {
   "cell_type": "code",
   "execution_count": 20,
   "id": "c197b5e5-18a9-4011-81cc-cfa7b980c722",
   "metadata": {},
   "outputs": [],
   "source": [
    "def make_prediction(title):\n",
    "    transformed_title = vect.transform([title])\n",
    "    pos_probability = clf.predict_proba(transformed_title)[0][1]\n",
    "    return pos_probability"
   ]
  },
  {
   "cell_type": "code",
   "execution_count": 21,
   "id": "ca792c1c-227c-4a34-846a-10fc610b8f22",
   "metadata": {},
   "outputs": [],
   "source": [
    "# questions_data['NB_prediction'] = questions_data.apply(lambda row: make_prediction(row['Title']), axis=1)"
   ]
  },
  {
   "cell_type": "code",
   "execution_count": 22,
   "id": "0813b0c7-0b39-4414-aeee-89c5dde56d6a",
   "metadata": {},
   "outputs": [],
   "source": [
    "# questions_data.to_csv(\"questions_nb_predictions.csv\")"
   ]
  },
  {
   "cell_type": "code",
   "execution_count": 23,
   "id": "319282f7-0853-46a1-9750-7764df99cd29",
   "metadata": {},
   "outputs": [],
   "source": [
    "# questions_data.head(5)"
   ]
  },
  {
   "cell_type": "code",
   "execution_count": 24,
   "id": "0b13a708-3cd6-4ba1-954c-9601a7d2f52b",
   "metadata": {},
   "outputs": [
    {
     "data": {
      "text/plain": [
       "array([[-10.05660161, -10.55869355, -11.61474622, ..., -13.69418776,\n",
       "        -13.00104058, -12.3078934 ],\n",
       "       [ -9.70678346, -10.39007834, -12.24246243, ..., -13.62875679,\n",
       "        -14.32190397, -12.71246606]])"
      ]
     },
     "execution_count": 24,
     "metadata": {},
     "output_type": "execute_result"
    }
   ],
   "source": [
    "clf.feature_log_prob_"
   ]
  },
  {
   "cell_type": "code",
   "execution_count": 25,
   "id": "e3cac9b7-8d3c-4928-869b-52fdb06ea188",
   "metadata": {},
   "outputs": [
    {
     "data": {
      "text/plain": [
       "57671"
      ]
     },
     "execution_count": 25,
     "metadata": {},
     "output_type": "execute_result"
    }
   ],
   "source": [
    "len(vect.vocabulary_)"
   ]
  },
  {
   "cell_type": "code",
   "execution_count": 26,
   "id": "d09a7ddf-9f7e-4cbf-b719-d4c6bd70a9fd",
   "metadata": {},
   "outputs": [],
   "source": [
    "result_probs = {}\n",
    "\n",
    "for word in vect.vocabulary_:\n",
    "    prob = make_prediction(word)\n",
    "    result_probs[word] = prob"
   ]
  },
  {
   "cell_type": "code",
   "execution_count": 27,
   "id": "49d41aa2-1c7f-45fd-992f-3a70dca59474",
   "metadata": {},
   "outputs": [],
   "source": [
    "sorted_probs = sorted(result_probs.items(), key=lambda x: x[1], reverse=True)"
   ]
  },
  {
   "cell_type": "code",
   "execution_count": 41,
   "id": "8c8ca687-4ae9-49fa-a6b4-97fb02c30cd0",
   "metadata": {},
   "outputs": [],
   "source": [
    "probability_df = pd.DataFrame(sorted_probs)"
   ]
  },
  {
   "cell_type": "code",
   "execution_count": 42,
   "id": "ab2964c9-ffad-4788-adf8-dfb53133a1e2",
   "metadata": {},
   "outputs": [
    {
     "data": {
      "text/html": [
       "<div>\n",
       "<style scoped>\n",
       "    .dataframe tbody tr th:only-of-type {\n",
       "        vertical-align: middle;\n",
       "    }\n",
       "\n",
       "    .dataframe tbody tr th {\n",
       "        vertical-align: top;\n",
       "    }\n",
       "\n",
       "    .dataframe thead th {\n",
       "        text-align: right;\n",
       "    }\n",
       "</style>\n",
       "<table border=\"1\" class=\"dataframe\">\n",
       "  <thead>\n",
       "    <tr style=\"text-align: right;\">\n",
       "      <th></th>\n",
       "      <th>0</th>\n",
       "      <th>1</th>\n",
       "    </tr>\n",
       "  </thead>\n",
       "  <tbody>\n",
       "    <tr>\n",
       "      <th>0</th>\n",
       "      <td>1s</td>\n",
       "      <td>0.969206</td>\n",
       "    </tr>\n",
       "    <tr>\n",
       "      <th>1</th>\n",
       "      <td>kinds</td>\n",
       "      <td>0.957967</td>\n",
       "    </tr>\n",
       "  </tbody>\n",
       "</table>\n",
       "</div>"
      ],
      "text/plain": [
       "       0         1\n",
       "0     1s  0.969206\n",
       "1  kinds  0.957967"
      ]
     },
     "execution_count": 42,
     "metadata": {},
     "output_type": "execute_result"
    }
   ],
   "source": [
    "probability_df.head(2)"
   ]
  },
  {
   "cell_type": "code",
   "execution_count": 43,
   "id": "9a8c8dec-628b-40c2-894a-76f21411cb56",
   "metadata": {},
   "outputs": [],
   "source": [
    "probability_df['word'] = probability_df[0]"
   ]
  },
  {
   "cell_type": "code",
   "execution_count": 44,
   "id": "5e8cd4cd-d587-4860-8b99-b0619ac4a043",
   "metadata": {},
   "outputs": [],
   "source": [
    "probability_df['posterior_probability'] = probability_df[1]"
   ]
  },
  {
   "cell_type": "code",
   "execution_count": 45,
   "id": "1d9d6197-9a91-4729-80ba-11e55baab26d",
   "metadata": {},
   "outputs": [],
   "source": [
    "probability_df = probability_df.drop(0, axis=1).drop(1,axis=1)"
   ]
  },
  {
   "cell_type": "code",
   "execution_count": 69,
   "id": "d01de589-e4cb-4d70-9725-c6a525704314",
   "metadata": {},
   "outputs": [
    {
     "data": {
      "text/html": [
       "<div>\n",
       "<style scoped>\n",
       "    .dataframe tbody tr th:only-of-type {\n",
       "        vertical-align: middle;\n",
       "    }\n",
       "\n",
       "    .dataframe tbody tr th {\n",
       "        vertical-align: top;\n",
       "    }\n",
       "\n",
       "    .dataframe thead th {\n",
       "        text-align: right;\n",
       "    }\n",
       "</style>\n",
       "<table border=\"1\" class=\"dataframe\">\n",
       "  <thead>\n",
       "    <tr style=\"text-align: right;\">\n",
       "      <th></th>\n",
       "      <th>word</th>\n",
       "      <th>posterior_probability</th>\n",
       "    </tr>\n",
       "  </thead>\n",
       "  <tbody>\n",
       "    <tr>\n",
       "      <th>0</th>\n",
       "      <td>1s</td>\n",
       "      <td>0.969206</td>\n",
       "    </tr>\n",
       "    <tr>\n",
       "      <th>1</th>\n",
       "      <td>kinds</td>\n",
       "      <td>0.957967</td>\n",
       "    </tr>\n",
       "    <tr>\n",
       "      <th>2</th>\n",
       "      <td>idiomatic</td>\n",
       "      <td>0.951303</td>\n",
       "    </tr>\n",
       "    <tr>\n",
       "      <th>3</th>\n",
       "      <td>hasattr</td>\n",
       "      <td>0.951303</td>\n",
       "    </tr>\n",
       "    <tr>\n",
       "      <th>4</th>\n",
       "      <td>isdir</td>\n",
       "      <td>0.951303</td>\n",
       "    </tr>\n",
       "    <tr>\n",
       "      <th>5</th>\n",
       "      <td>holds</td>\n",
       "      <td>0.951303</td>\n",
       "    </tr>\n",
       "    <tr>\n",
       "      <th>6</th>\n",
       "      <td>recommend</td>\n",
       "      <td>0.948586</td>\n",
       "    </tr>\n",
       "    <tr>\n",
       "      <th>7</th>\n",
       "      <td>puzzling</td>\n",
       "      <td>0.945548</td>\n",
       "    </tr>\n",
       "    <tr>\n",
       "      <th>8</th>\n",
       "      <td>ndim</td>\n",
       "      <td>0.945548</td>\n",
       "    </tr>\n",
       "    <tr>\n",
       "      <th>9</th>\n",
       "      <td>islice</td>\n",
       "      <td>0.945548</td>\n",
       "    </tr>\n",
       "    <tr>\n",
       "      <th>10</th>\n",
       "      <td>__cmp__</td>\n",
       "      <td>0.942127</td>\n",
       "    </tr>\n",
       "    <tr>\n",
       "      <th>11</th>\n",
       "      <td>gtkbuilder</td>\n",
       "      <td>0.938249</td>\n",
       "    </tr>\n",
       "    <tr>\n",
       "      <th>12</th>\n",
       "      <td>assigment</td>\n",
       "      <td>0.938249</td>\n",
       "    </tr>\n",
       "    <tr>\n",
       "      <th>13</th>\n",
       "      <td>excludes</td>\n",
       "      <td>0.938249</td>\n",
       "    </tr>\n",
       "    <tr>\n",
       "      <th>14</th>\n",
       "      <td>advantages</td>\n",
       "      <td>0.935361</td>\n",
       "    </tr>\n",
       "    <tr>\n",
       "      <th>15</th>\n",
       "      <td>acronyms</td>\n",
       "      <td>0.933813</td>\n",
       "    </tr>\n",
       "    <tr>\n",
       "      <th>16</th>\n",
       "      <td>repetitive</td>\n",
       "      <td>0.933813</td>\n",
       "    </tr>\n",
       "    <tr>\n",
       "      <th>17</th>\n",
       "      <td>vanilla</td>\n",
       "      <td>0.933813</td>\n",
       "    </tr>\n",
       "    <tr>\n",
       "      <th>18</th>\n",
       "      <td>extraneous</td>\n",
       "      <td>0.933813</td>\n",
       "    </tr>\n",
       "    <tr>\n",
       "      <th>19</th>\n",
       "      <td>commutative</td>\n",
       "      <td>0.933813</td>\n",
       "    </tr>\n",
       "  </tbody>\n",
       "</table>\n",
       "</div>"
      ],
      "text/plain": [
       "           word  posterior_probability\n",
       "0            1s               0.969206\n",
       "1         kinds               0.957967\n",
       "2     idiomatic               0.951303\n",
       "3       hasattr               0.951303\n",
       "4         isdir               0.951303\n",
       "5         holds               0.951303\n",
       "6     recommend               0.948586\n",
       "7      puzzling               0.945548\n",
       "8          ndim               0.945548\n",
       "9        islice               0.945548\n",
       "10      __cmp__               0.942127\n",
       "11   gtkbuilder               0.938249\n",
       "12    assigment               0.938249\n",
       "13     excludes               0.938249\n",
       "14   advantages               0.935361\n",
       "15     acronyms               0.933813\n",
       "16   repetitive               0.933813\n",
       "17      vanilla               0.933813\n",
       "18   extraneous               0.933813\n",
       "19  commutative               0.933813"
      ]
     },
     "execution_count": 69,
     "metadata": {},
     "output_type": "execute_result"
    }
   ],
   "source": [
    "probability_df.head(20)"
   ]
  },
  {
   "cell_type": "code",
   "execution_count": 33,
   "id": "faa9e368-afa0-434e-8101-aec1a18138df",
   "metadata": {},
   "outputs": [
    {
     "data": {
      "text/plain": [
       "<AxesSubplot:ylabel='Frequency'>"
      ]
     },
     "execution_count": 33,
     "metadata": {},
     "output_type": "execute_result"
    },
    {
     "data": {
      "image/png": "[encoded data removed]",
      "text/plain": [
       "<Figure size 1000x800 with 1 Axes>"
      ]
     },
     "metadata": {},
     "output_type": "display_data"
    }
   ],
   "source": [
    "probability_df.plot.hist(column=[1], figsize=(10, 8), bins = 30)"
   ]
  },
  {
   "cell_type": "code",
   "execution_count": 47,
   "id": "626c2480-fe3a-4c6d-8500-655a2196ad26",
   "metadata": {},
   "outputs": [],
   "source": [
    "probability_df.to_csv(\"word_posterior_probabilities.csv\")"
   ]
  },
  {
   "cell_type": "code",
   "execution_count": 63,
   "id": "84c8f783-33b4-41b3-a8da-93e2f025f199",
   "metadata": {},
   "outputs": [
    {
     "data": {
      "text/plain": [
       "0.638720663454077"
      ]
     },
     "execution_count": 63,
     "metadata": {},
     "output_type": "execute_result"
    }
   ],
   "source": [
    "make_prediction(\"urgent uncaught exception\")"
   ]
  },
  {
   "cell_type": "code",
   "execution_count": 71,
   "id": "2bd57c3d-3363-4725-9f9d-defe39d54bcf",
   "metadata": {},
   "outputs": [
    {
     "data": {
      "text/plain": [
       "0.6846004135850378"
      ]
     },
     "execution_count": 71,
     "metadata": {},
     "output_type": "execute_result"
    }
   ],
   "source": [
    "make_prediction(\"asap\")"
   ]
  },
  {
   "cell_type": "code",
   "execution_count": null,
   "id": "8a544b26-1e4f-4d9e-b5ff-3a0243ce522a",
   "metadata": {},
   "outputs": [],
   "source": []
  }
 ],
 "metadata": {
  "kernelspec": {
   "display_name": "Python 3 (ipykernel)",
   "language": "python",
   "name": "python3"
  },
  "language_info": {
   "codemirror_mode": {
    "name": "ipython",
    "version": 3
   },
   "file_extension": ".py",
   "mimetype": "text/x-python",
   "name": "python",
   "nbconvert_exporter": "python",
   "pygments_lexer": "ipython3",
   "version": "3.8.10"
  }
 },
 "nbformat": 4,
 "nbformat_minor": 5
}
