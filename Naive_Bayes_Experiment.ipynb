{
 "cells": [
  {
   "cell_type": "code",
   "execution_count": 14,
   "id": "46dd1e15-d20c-436e-a8a8-a161425c98be",
   "metadata": {},
   "outputs": [],
   "source": [
    "import numpy as np\n",
    "import pandas as pd\n",
    "import sklearn\n",
    "from sklearn.model_selection import train_test_split\n",
    "from sklearn.feature_extraction.text import CountVectorizer\n",
    "from sklearn.naive_bayes import MultinomialNB\n",
    "from sklearn.metrics import accuracy_score,confusion_matrix\n",
    "from sklearn import metrics\n",
    "import seaborn as sns"
   ]
  },
  {
   "cell_type": "code",
   "execution_count": 2,
   "id": "659b4d5f-4a22-4f75-998d-b5d5605f9f62",
   "metadata": {},
   "outputs": [],
   "source": [
    "questions_data = pd.read_csv(\"questions_nb_predictions.csv\")"
   ]
  },
  {
   "cell_type": "code",
   "execution_count": 3,
   "id": "0d369e04-88f8-4fdc-b724-8681984067ca",
   "metadata": {},
   "outputs": [
    {
     "data": {
      "text/html": [
       "<div>\n",
       "<style scoped>\n",
       "    .dataframe tbody tr th:only-of-type {\n",
       "        vertical-align: middle;\n",
       "    }\n",
       "\n",
       "    .dataframe tbody tr th {\n",
       "        vertical-align: top;\n",
       "    }\n",
       "\n",
       "    .dataframe thead th {\n",
       "        text-align: right;\n",
       "    }\n",
       "</style>\n",
       "<table border=\"1\" class=\"dataframe\">\n",
       "  <thead>\n",
       "    <tr style=\"text-align: right;\">\n",
       "      <th></th>\n",
       "      <th>Unnamed: 0.3</th>\n",
       "      <th>Unnamed: 0.2</th>\n",
       "      <th>Unnamed: 0.1</th>\n",
       "      <th>Unnamed: 0</th>\n",
       "      <th>Id</th>\n",
       "      <th>OwnerUserId</th>\n",
       "      <th>CreationDate</th>\n",
       "      <th>Score</th>\n",
       "      <th>Title</th>\n",
       "      <th>Body</th>\n",
       "      <th>highest_answer_score</th>\n",
       "      <th>num_answers</th>\n",
       "      <th>has_positive_answer</th>\n",
       "      <th>Full_Text</th>\n",
       "      <th>Title_Word_Count</th>\n",
       "      <th>Body_Word_Count</th>\n",
       "      <th>SPLIT</th>\n",
       "      <th>NB_prediction</th>\n",
       "    </tr>\n",
       "  </thead>\n",
       "  <tbody>\n",
       "    <tr>\n",
       "      <th>0</th>\n",
       "      <td>0</td>\n",
       "      <td>0</td>\n",
       "      <td>0</td>\n",
       "      <td>0</td>\n",
       "      <td>469</td>\n",
       "      <td>147.0</td>\n",
       "      <td>2008-08-02T15:11:16Z</td>\n",
       "      <td>21</td>\n",
       "      <td>How can I find the full path to a font from it...</td>\n",
       "      <td>&lt;p&gt;I am using the Photoshop's javascript API t...</td>\n",
       "      <td>12</td>\n",
       "      <td>4</td>\n",
       "      <td>1</td>\n",
       "      <td>How can I find the full path to a font from it...</td>\n",
       "      <td>17</td>\n",
       "      <td>70</td>\n",
       "      <td>TRAIN</td>\n",
       "      <td>0.400395</td>\n",
       "    </tr>\n",
       "    <tr>\n",
       "      <th>1</th>\n",
       "      <td>1</td>\n",
       "      <td>1</td>\n",
       "      <td>1</td>\n",
       "      <td>1</td>\n",
       "      <td>502</td>\n",
       "      <td>147.0</td>\n",
       "      <td>2008-08-02T17:01:58Z</td>\n",
       "      <td>27</td>\n",
       "      <td>Get a preview JPEG of a PDF on Windows?</td>\n",
       "      <td>&lt;p&gt;I have a cross-platform (Python) applicatio...</td>\n",
       "      <td>9</td>\n",
       "      <td>2</td>\n",
       "      <td>1</td>\n",
       "      <td>Get a preview JPEG of a PDF on Windows? &lt;p&gt;I h...</td>\n",
       "      <td>9</td>\n",
       "      <td>38</td>\n",
       "      <td>TRAIN</td>\n",
       "      <td>0.287295</td>\n",
       "    </tr>\n",
       "  </tbody>\n",
       "</table>\n",
       "</div>"
      ],
      "text/plain": [
       "   Unnamed: 0.3  Unnamed: 0.2  Unnamed: 0.1  Unnamed: 0   Id  OwnerUserId  \\\n",
       "0             0             0             0           0  469        147.0   \n",
       "1             1             1             1           1  502        147.0   \n",
       "\n",
       "           CreationDate  Score  \\\n",
       "0  2008-08-02T15:11:16Z     21   \n",
       "1  2008-08-02T17:01:58Z     27   \n",
       "\n",
       "                                               Title  \\\n",
       "0  How can I find the full path to a font from it...   \n",
       "1            Get a preview JPEG of a PDF on Windows?   \n",
       "\n",
       "                                                Body  highest_answer_score  \\\n",
       "0  <p>I am using the Photoshop's javascript API t...                    12   \n",
       "1  <p>I have a cross-platform (Python) applicatio...                     9   \n",
       "\n",
       "   num_answers  has_positive_answer  \\\n",
       "0            4                    1   \n",
       "1            2                    1   \n",
       "\n",
       "                                           Full_Text  Title_Word_Count  \\\n",
       "0  How can I find the full path to a font from it...                17   \n",
       "1  Get a preview JPEG of a PDF on Windows? <p>I h...                 9   \n",
       "\n",
       "   Body_Word_Count  SPLIT  NB_prediction  \n",
       "0               70  TRAIN       0.400395  \n",
       "1               38  TRAIN       0.287295  "
      ]
     },
     "execution_count": 3,
     "metadata": {},
     "output_type": "execute_result"
    }
   ],
   "source": [
    "questions_data.head(2)"
   ]
  },
  {
   "cell_type": "code",
   "execution_count": 4,
   "id": "3b5f9ad6-6116-42eb-86a4-e537b09ba7a2",
   "metadata": {},
   "outputs": [],
   "source": [
    "from random import randint"
   ]
  },
  {
   "cell_type": "code",
   "execution_count": 5,
   "id": "e7c9d48b-89d4-4b82-bb1a-1f677f533cb5",
   "metadata": {},
   "outputs": [
    {
     "data": {
      "text/plain": [
       "TRAIN    441617\n",
       "TEST     165665\n",
       "Name: SPLIT, dtype: int64"
      ]
     },
     "execution_count": 5,
     "metadata": {},
     "output_type": "execute_result"
    }
   ],
   "source": [
    "questions_data['SPLIT'].value_counts()"
   ]
  },
  {
   "cell_type": "code",
   "execution_count": 6,
   "id": "f08a1c37-7a47-4d21-a460-3bb4f90163b5",
   "metadata": {},
   "outputs": [],
   "source": [
    "train_split = questions_data.loc[questions_data['SPLIT'] == 'TRAIN']\n",
    "test_split = questions_data.loc[questions_data['SPLIT'] == 'TEST']"
   ]
  },
  {
   "cell_type": "code",
   "execution_count": 7,
   "id": "2615194c-a48e-43fc-b6b0-cb6ecef24e42",
   "metadata": {},
   "outputs": [],
   "source": [
    "X_train = train_split['Title']\n",
    "X_test = test_split['Title']\n",
    "\n",
    "y_train = train_split['has_positive_answer']\n",
    "y_test = test_split['has_positive_answer']"
   ]
  },
  {
   "cell_type": "code",
   "execution_count": 11,
   "id": "ff8a5322-aad5-4b46-982b-944ac46f29e0",
   "metadata": {},
   "outputs": [
    {
     "name": "stdout",
     "output_type": "stream",
     "text": [
      "{1: {'test_auc': 0.6493861250703213, 'train_auc': 0.7018864540254128}}\n",
      "{1: {'test_auc': 0.6493861250703213, 'train_auc': 0.7018864540254128}, 2: {'test_auc': 0.6403950642023739, 'train_auc': 0.883362295887359}}\n",
      "{1: {'test_auc': 0.6493861250703213, 'train_auc': 0.7018864540254128}, 2: {'test_auc': 0.6403950642023739, 'train_auc': 0.883362295887359}, 3: {'test_auc': 0.6326670667465149, 'train_auc': 0.9634717193947979}}\n",
      "{1: {'test_auc': 0.6493861250703213, 'train_auc': 0.7018864540254128}, 2: {'test_auc': 0.6403950642023739, 'train_auc': 0.883362295887359}, 3: {'test_auc': 0.6326670667465149, 'train_auc': 0.9634717193947979}, 4: {'test_auc': 0.6289044655999619, 'train_auc': 0.9840511711684685}}\n",
      "{1: {'test_auc': 0.6493861250703213, 'train_auc': 0.7018864540254128}, 2: {'test_auc': 0.6403950642023739, 'train_auc': 0.883362295887359}, 3: {'test_auc': 0.6326670667465149, 'train_auc': 0.9634717193947979}, 4: {'test_auc': 0.6289044655999619, 'train_auc': 0.9840511711684685}, 5: {'test_auc': 0.6272289870469888, 'train_auc': 0.9888420187173773}}\n",
      "{1: {'test_auc': 0.6493861250703213, 'train_auc': 0.7018864540254128}, 2: {'test_auc': 0.6403950642023739, 'train_auc': 0.883362295887359}, 3: {'test_auc': 0.6326670667465149, 'train_auc': 0.9634717193947979}, 4: {'test_auc': 0.6289044655999619, 'train_auc': 0.9840511711684685}, 5: {'test_auc': 0.6272289870469888, 'train_auc': 0.9888420187173773}, 6: {'test_auc': 0.626364056000701, 'train_auc': 0.9899239443642518}}\n"
     ]
    }
   ],
   "source": [
    "results = {}\n",
    "\n",
    "for i in range(1,7):\n",
    "    \n",
    "    results[i] = {}\n",
    "    \n",
    "    variable_ngram_range = (1, i) # max size at i\n",
    "    \n",
    "    vect = CountVectorizer(stop_words = 'english', ngram_range=variable_ngram_range)\n",
    "    x_train_cv = vect.fit_transform(X_train)\n",
    "    x_test_cv = vect.transform(X_test)\n",
    "    \n",
    "    clf = MultinomialNB()\n",
    "    clf.fit(x_train_cv, y_train)\n",
    "    \n",
    "    # do on test data\n",
    "    y_pred_raw = clf.predict_proba(x_test_cv)\n",
    "    y_pred_raw = [x[1] for x in y_pred_raw]\n",
    "    y_pred = (np.array(y_pred_raw) > 0.5).astype(int)\n",
    "    \n",
    "    test_auc = metrics.roc_auc_score(y_test, y_pred_raw)\n",
    "    \n",
    "    results[i]['test_auc'] = test_auc\n",
    "    \n",
    "    # do the same on the training data\n",
    "    y_pred_raw = clf.predict_proba(x_train_cv)\n",
    "    y_pred_raw = [x[1] for x in y_pred_raw]\n",
    "    y_pred = (np.array(y_pred_raw) > 0.5).astype(int)\n",
    "    \n",
    "    train_auc = metrics.roc_auc_score(y_train, y_pred_raw)\n",
    "    \n",
    "    results[i]['train_auc'] = train_auc\n",
    "    \n",
    "    print(results)"
   ]
  },
  {
   "cell_type": "code",
   "execution_count": 23,
   "id": "a094d0f5-6f3d-4e1e-95b9-484f7f84ee10",
   "metadata": {},
   "outputs": [],
   "source": [
    "results_list = []\n",
    "\n",
    "for max_ngram_size in results:\n",
    "    ngram_results = results[max_ngram_size]\n",
    "    \n",
    "    results_list.append({\n",
    "        \"Max N-Gram Size\": max_ngram_size,\n",
    "        \"Train AUC\": ngram_results['train_auc'],\n",
    "        \"Test AUC\": ngram_results['test_auc']\n",
    "    })\n",
    "    \n",
    "results_df = pd.DataFrame(results_list)"
   ]
  },
  {
   "cell_type": "code",
   "execution_count": 32,
   "id": "db685fc7-4515-4596-bf30-9e71164603bb",
   "metadata": {},
   "outputs": [
    {
     "data": {
      "text/plain": [
       "<AxesSubplot:xlabel='Max N-Gram Size', ylabel='value'>"
      ]
     },
     "execution_count": 32,
     "metadata": {},
     "output_type": "execute_result"
    },
    {
     "data": {
      "image/png": "[encoded data removed]",
      "text/plain": [
       "<Figure size 640x480 with 1 Axes>"
      ]
     },
     "metadata": {},
     "output_type": "display_data"
    }
   ],
   "source": [
    "sns.lineplot(x='Max N-Gram Size', y='value', hue='variable', \n",
    "             data=pd.melt(results_df, ['Max N-Gram Size']))"
   ]
  },
  {
   "cell_type": "code",
   "execution_count": 20,
   "id": "4cf67ce1-12c6-4ac3-b976-da5a11eafe41",
   "metadata": {},
   "outputs": [
    {
     "data": {
      "text/html": [
       "<div>\n",
       "<style scoped>\n",
       "    .dataframe tbody tr th:only-of-type {\n",
       "        vertical-align: middle;\n",
       "    }\n",
       "\n",
       "    .dataframe tbody tr th {\n",
       "        vertical-align: top;\n",
       "    }\n",
       "\n",
       "    .dataframe thead th {\n",
       "        text-align: right;\n",
       "    }\n",
       "</style>\n",
       "<table border=\"1\" class=\"dataframe\">\n",
       "  <thead>\n",
       "    <tr style=\"text-align: right;\">\n",
       "      <th></th>\n",
       "      <th>Max N-Gram Size</th>\n",
       "      <th>Train AUC</th>\n",
       "      <th>Test AUC</th>\n",
       "    </tr>\n",
       "  </thead>\n",
       "  <tbody>\n",
       "    <tr>\n",
       "      <th>0</th>\n",
       "      <td>1</td>\n",
       "      <td>0.701886</td>\n",
       "      <td>0.649386</td>\n",
       "    </tr>\n",
       "    <tr>\n",
       "      <th>1</th>\n",
       "      <td>2</td>\n",
       "      <td>0.883362</td>\n",
       "      <td>0.640395</td>\n",
       "    </tr>\n",
       "    <tr>\n",
       "      <th>2</th>\n",
       "      <td>3</td>\n",
       "      <td>0.963472</td>\n",
       "      <td>0.632667</td>\n",
       "    </tr>\n",
       "    <tr>\n",
       "      <th>3</th>\n",
       "      <td>4</td>\n",
       "      <td>0.984051</td>\n",
       "      <td>0.628904</td>\n",
       "    </tr>\n",
       "    <tr>\n",
       "      <th>4</th>\n",
       "      <td>5</td>\n",
       "      <td>0.988842</td>\n",
       "      <td>0.627229</td>\n",
       "    </tr>\n",
       "    <tr>\n",
       "      <th>5</th>\n",
       "      <td>6</td>\n",
       "      <td>0.989924</td>\n",
       "      <td>0.626364</td>\n",
       "    </tr>\n",
       "  </tbody>\n",
       "</table>\n",
       "</div>"
      ],
      "text/plain": [
       "   Max N-Gram Size  Train AUC  Test AUC\n",
       "0                1   0.701886  0.649386\n",
       "1                2   0.883362  0.640395\n",
       "2                3   0.963472  0.632667\n",
       "3                4   0.984051  0.628904\n",
       "4                5   0.988842  0.627229\n",
       "5                6   0.989924  0.626364"
      ]
     },
     "execution_count": 20,
     "metadata": {},
     "output_type": "execute_result"
    }
   ],
   "source": []
  },
  {
   "cell_type": "code",
   "execution_count": null,
   "id": "470ce0ae-de42-41d2-8a09-0c2393e5751d",
   "metadata": {},
   "outputs": [],
   "source": []
  }
 ],
 "metadata": {
  "kernelspec": {
   "display_name": "Python 3 (ipykernel)",
   "language": "python",
   "name": "python3"
  },
  "language_info": {
   "codemirror_mode": {
    "name": "ipython",
    "version": 3
   },
   "file_extension": ".py",
   "mimetype": "text/x-python",
   "name": "python",
   "nbconvert_exporter": "python",
   "pygments_lexer": "ipython3",
   "version": "3.8.10"
  }
 },
 "nbformat": 4,
 "nbformat_minor": 5
}
