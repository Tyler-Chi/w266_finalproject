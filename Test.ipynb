{
 "cells": [
  {
   "cell_type": "code",
   "execution_count": 1,
   "id": "7b64c9a5-c598-4707-9d6c-eb9b6f613cf1",
   "metadata": {},
   "outputs": [
    {
     "name": "stderr",
     "output_type": "stream",
     "text": [
      "2022-11-29 18:30:36.794406: I tensorflow/core/platform/cpu_feature_guard.cc:193] This TensorFlow binary is optimized with oneAPI Deep Neural Network Library (oneDNN) to use the following CPU instructions in performance-critical operations:  AVX2 AVX512F AVX512_VNNI FMA\n",
      "To enable them in other operations, rebuild TensorFlow with the appropriate compiler flags.\n",
      "2022-11-29 18:30:36.873969: I tensorflow/core/util/port.cc:104] oneDNN custom operations are on. You may see slightly different numerical results due to floating-point round-off errors from different computation orders. To turn them off, set the environment variable `TF_ENABLE_ONEDNN_OPTS=0`.\n",
      "2022-11-29 18:30:37.307573: W tensorflow/compiler/xla/stream_executor/platform/default/dso_loader.cc:64] Could not load dynamic library 'libnvinfer.so.7'; dlerror: libnvinfer.so.7: cannot open shared object file: No such file or directory\n",
      "2022-11-29 18:30:37.307647: W tensorflow/compiler/xla/stream_executor/platform/default/dso_loader.cc:64] Could not load dynamic library 'libnvinfer_plugin.so.7'; dlerror: libnvinfer_plugin.so.7: cannot open shared object file: No such file or directory\n",
      "2022-11-29 18:30:37.307652: W tensorflow/compiler/tf2tensorrt/utils/py_utils.cc:38] TF-TRT Warning: Cannot dlopen some TensorRT libraries. If you would like to use Nvidia GPU with TensorRT, please make sure the missing libraries mentioned above are installed properly.\n",
      "2022-11-29 18:30:38.906671: I tensorflow/compiler/xla/stream_executor/cuda/cuda_gpu_executor.cc:967] could not open file to read NUMA node: /sys/bus/pci/devices/0000:01:00.0/numa_node\n",
      "Your kernel may have been built without NUMA support.\n",
      "2022-11-29 18:30:38.923153: W tensorflow/compiler/xla/stream_executor/platform/default/dso_loader.cc:64] Could not load dynamic library 'libcudnn.so.8'; dlerror: libcudnn.so.8: cannot open shared object file: No such file or directory\n",
      "2022-11-29 18:30:38.923175: W tensorflow/core/common_runtime/gpu/gpu_device.cc:1934] Cannot dlopen some GPU libraries. Please make sure the missing libraries mentioned above are installed properly if you would like to use GPU. Follow the guide at https://www.tensorflow.org/install/gpu for how to download and setup the required libraries for your platform.\n",
      "Skipping registering GPU devices...\n",
      "2022-11-29 18:30:38.923570: I tensorflow/core/platform/cpu_feature_guard.cc:193] This TensorFlow binary is optimized with oneAPI Deep Neural Network Library (oneDNN) to use the following CPU instructions in performance-critical operations:  AVX2 AVX512F AVX512_VNNI FMA\n",
      "To enable them in other operations, rebuild TensorFlow with the appropriate compiler flags.\n",
      "Some layers from the model checkpoint at bert-base-cased were not used when initializing TFBertModel: ['nsp___cls', 'mlm___cls']\n",
      "- This IS expected if you are initializing TFBertModel from the checkpoint of a model trained on another task or with another architecture (e.g. initializing a BertForSequenceClassification model from a BertForPreTraining model).\n",
      "- This IS NOT expected if you are initializing TFBertModel from the checkpoint of a model that you expect to be exactly identical (initializing a BertForSequenceClassification model from a BertForSequenceClassification model).\n",
      "All the layers of TFBertModel were initialized from the model checkpoint at bert-base-cased.\n",
      "If your task is similar to the task the model of the checkpoint was trained on, you can already use TFBertModel for predictions without further training.\n"
     ]
    }
   ],
   "source": [
    "from transformers import BertTokenizer, TFBertModel\n",
    "bert_tokenizer = BertTokenizer.from_pretrained('bert-base-cased')\n",
    "bert_model = TFBertModel.from_pretrained('bert-base-cased')\n",
    "import numpy as np\n",
    "import tensorflow as tf\n",
    "from tensorflow import keras\n",
    "\n",
    "from tensorflow.keras.layers import Embedding, Input, Dense, Lambda\n",
    "from tensorflow.keras.models import Model\n",
    "import tensorflow.keras.backend as K\n",
    "import tensorflow_datasets as tfds\n",
    "import pandas as pd\n",
    "\n",
    "import sklearn as sk\n",
    "import os\n",
    "import nltk\n",
    "from nltk.data import find\n",
    "\n",
    "import matplotlib.pyplot as plt\n",
    "from sklearn.model_selection import train_test_split\n",
    "import re\n",
    "from sklearn.utils import class_weight"
   ]
  },
  {
   "cell_type": "code",
   "execution_count": 16,
   "id": "a2c61b39-d5c5-4fcc-a909-dc90421c81fb",
   "metadata": {},
   "outputs": [],
   "source": [
    "def get_bert_encoding(text):\n",
    "    tokenized_output = bert_tokenizer([text],\n",
    "        max_length=20,\n",
    "        truncation=True,\n",
    "        padding='max_length', \n",
    "        return_tensors='tf')\n",
    "    \n",
    "    bert_encoding = bert_model(\n",
    "        tokenized_output\n",
    "    )\n",
    "    \n",
    "    return bert_encoding\n",
    "test_output = get_bert_encodings(\"TYLER WAS HERE\")"
   ]
  },
  {
   "cell_type": "code",
   "execution_count": 12,
   "id": "8c5b5225-1886-47c1-bc4d-c37717fc7d15",
   "metadata": {},
   "outputs": [
    {
     "name": "stderr",
     "output_type": "stream",
     "text": [
      "[nltk_data] Downloading package punkt to /home/tychi/nltk_data...\n",
      "[nltk_data]   Package punkt is already up-to-date!\n",
      "[nltk_data] Downloading package wordnet to /home/tychi/nltk_data...\n",
      "[nltk_data]   Package wordnet is already up-to-date!\n",
      "[nltk_data] Downloading package omw-1.4 to /home/tychi/nltk_data...\n",
      "[nltk_data]   Package omw-1.4 is already up-to-date!\n",
      "[nltk_data] Downloading package averaged_perceptron_tagger to\n",
      "[nltk_data]     /home/tychi/nltk_data...\n",
      "[nltk_data]   Package averaged_perceptron_tagger is already up-to-\n",
      "[nltk_data]       date!\n",
      "[nltk_data] Downloading package stopwords to /home/tychi/nltk_data...\n",
      "[nltk_data]   Package stopwords is already up-to-date!\n"
     ]
    }
   ],
   "source": [
    "import pandas as pd\n",
    "import numpy as np\n",
    "import nltk\n",
    "nltk.download('punkt')\n",
    "nltk.download('wordnet')\n",
    "nltk.download('omw-1.4')\n",
    "nltk.download('averaged_perceptron_tagger')\n",
    "nltk.download('stopwords')\n",
    "from nltk.tokenize import word_tokenize\n",
    "from nltk import pos_tag\n",
    "from nltk.corpus import stopwords\n",
    "from nltk.stem import WordNetLemmatizer\n",
    "from sklearn.preprocessing import LabelEncoder\n",
    "from collections import defaultdict\n",
    "from nltk.corpus import wordnet as wn\n",
    "from sklearn.feature_extraction.text import TfidfVectorizer\n",
    "from sklearn import model_selection, naive_bayes, svm\n",
    "from sklearn.metrics import accuracy_score\n",
    "\n",
    "# https://medium.com/@bedigunjit/simple-guide-to-text-classification-nlp-using-svm-and-naive-bayes-with-python-421db3a72d34\n",
    "# https://en.wikipedia.org/wiki/Tf%E2%80%93idf"
   ]
  },
  {
   "cell_type": "code",
   "execution_count": 10,
   "id": "29edf1b8-25cd-4e25-b31c-d8b2d27b5c83",
   "metadata": {},
   "outputs": [
    {
     "data": {
      "application/vnd.jupyter.widget-view+json": {
       "model_id": "2bd923023aeb4a3d926e35c0fd8946d1",
       "version_major": 2,
       "version_minor": 0
      },
      "text/plain": [
       "Downloading:   0%|          | 0.00/657M [00:00<?, ?B/s]"
      ]
     },
     "metadata": {},
     "output_type": "display_data"
    },
    {
     "name": "stderr",
     "output_type": "stream",
     "text": [
      "Some layers from the model checkpoint at roberta-base were not used when initializing TFRobertaModel: ['lm_head']\n",
      "- This IS expected if you are initializing TFRobertaModel from the checkpoint of a model trained on another task or with another architecture (e.g. initializing a BertForSequenceClassification model from a BertForPreTraining model).\n",
      "- This IS NOT expected if you are initializing TFRobertaModel from the checkpoint of a model that you expect to be exactly identical (initializing a BertForSequenceClassification model from a BertForSequenceClassification model).\n",
      "All the layers of TFRobertaModel were initialized from the model checkpoint at roberta-base.\n",
      "If your task is similar to the task the model of the checkpoint was trained on, you can already use TFRobertaModel for predictions without further training.\n"
     ]
    }
   ],
   "source": [
    "from transformers import RobertaTokenizer, TFRobertaModel\n",
    "roberta_tokenizer = RobertaTokenizer.from_pretrained('roberta-base')\n",
    "roberta_model = TFRobertaModel.from_pretrained('roberta-base')"
   ]
  },
  {
   "cell_type": "code",
   "execution_count": 17,
   "id": "4ba4a49a-4c4f-4e52-a400-103240bfd2b4",
   "metadata": {},
   "outputs": [],
   "source": [
    "def get_roberta_encoding(text):\n",
    "    tokenized_output = roberta_tokenizer([text],\n",
    "        max_length=20,\n",
    "        truncation=True,\n",
    "        padding='max_length', \n",
    "        return_tensors='tf')\n",
    "    \n",
    "    roberta_encoding = roberta_model(\n",
    "        tokenized_output\n",
    "    )\n",
    "    \n",
    "    return roberta_encoding"
   ]
  },
  {
   "cell_type": "code",
   "execution_count": 20,
   "id": "85fae881-b025-41f5-98e6-084286746d9e",
   "metadata": {},
   "outputs": [],
   "source": [
    "test = get_roberta_encoding(\"HELLO\")"
   ]
  },
  {
   "cell_type": "code",
   "execution_count": 23,
   "id": "e297562c-4afa-426c-b606-7cda466a3bff",
   "metadata": {},
   "outputs": [],
   "source": [
    "tokenized_output = roberta_tokenizer(['hello'],\n",
    "    max_length=20,\n",
    "    truncation=True,\n",
    "    padding='max_length', \n",
    "    return_tensors='tf')"
   ]
  },
  {
   "cell_type": "code",
   "execution_count": 26,
   "id": "0c3cebaf-3b9e-4513-a475-ff243e2e3742",
   "metadata": {},
   "outputs": [
    {
     "data": {
      "text/plain": [
       "{'input_ids': <tf.Tensor: shape=(1, 20), dtype=int32, numpy=\n",
       "array([[    0, 42891,     2,     1,     1,     1,     1,     1,     1,\n",
       "            1,     1,     1,     1,     1,     1,     1,     1,     1,\n",
       "            1,     1]], dtype=int32)>, 'attention_mask': <tf.Tensor: shape=(1, 20), dtype=int32, numpy=\n",
       "array([[1, 1, 1, 0, 0, 0, 0, 0, 0, 0, 0, 0, 0, 0, 0, 0, 0, 0, 0, 0]],\n",
       "      dtype=int32)>}"
      ]
     },
     "execution_count": 26,
     "metadata": {},
     "output_type": "execute_result"
    }
   ],
   "source": [
    "tokenized_output"
   ]
  },
  {
   "cell_type": "code",
   "execution_count": 29,
   "id": "9233c05f-28dc-4e3b-a6df-6c23a079eeb5",
   "metadata": {},
   "outputs": [
    {
     "data": {
      "text/plain": [
       "TFBaseModelOutputWithPoolingAndCrossAttentions(last_hidden_state=<tf.Tensor: shape=(1, 20, 768), dtype=float32, numpy=\n",
       "array([[[-0.07116659,  0.08391161,  0.01735196, ..., -0.07516475,\n",
       "         -0.07246815, -0.01147642],\n",
       "        [-0.02421619, -0.21403545,  0.11993305, ..., -0.31250283,\n",
       "         -0.2365877 ,  0.06255469],\n",
       "        [-0.07777613,  0.08126406, -0.00137368, ..., -0.12842245,\n",
       "         -0.08609022, -0.05174505],\n",
       "        ...,\n",
       "        [-0.11481542, -0.05369763,  0.121876  , ..., -0.00802524,\n",
       "         -0.10733951,  0.1209749 ],\n",
       "        [-0.11481542, -0.05369763,  0.121876  , ..., -0.00802524,\n",
       "         -0.10733951,  0.1209749 ],\n",
       "        [-0.11481542, -0.05369763,  0.121876  , ..., -0.00802524,\n",
       "         -0.10733951,  0.1209749 ]]], dtype=float32)>, pooler_output=<tf.Tensor: shape=(1, 768), dtype=float32, numpy=\n",
       "array([[ 0.00656117, -0.22746554, -0.22742   , -0.09879842,  0.11233532,\n",
       "         0.20325296,  0.27274558, -0.08799211, -0.07574458, -0.17763238,\n",
       "         0.21580641, -0.01610693, -0.08074826,  0.09459046, -0.12021649,\n",
       "         0.49213034,  0.21893196, -0.45581943,  0.04300662, -0.02842264,\n",
       "        -0.2607458 ,  0.10456166,  0.49007556,  0.35440534,  0.12748238,\n",
       "         0.05386569, -0.12705217, -0.00660831,  0.18003811,  0.22210622,\n",
       "         0.2880941 ,  0.04809646,  0.093059  ,  0.23646386, -0.25099507,\n",
       "         0.05642091, -0.32265654,  0.04499375,  0.27102184, -0.1772634 ,\n",
       "        -0.08463543,  0.15894902,  0.21823157, -0.13522224, -0.10660206,\n",
       "         0.40658736,  0.2626329 ,  0.02453103, -0.12467416, -0.0804512 ,\n",
       "        -0.36551037,  0.3459246 ,  0.29724017,  0.20982978, -0.00219226,\n",
       "         0.03919519, -0.13816528,  0.26468864, -0.06902251, -0.09338721,\n",
       "        -0.12013881, -0.20349069, -0.01632569, -0.0724386 ,  0.03297186,\n",
       "        -0.1487121 ,  0.08719105, -0.15300982, -0.13238509,  0.04827127,\n",
       "        -0.0836208 ,  0.15728934,  0.17112738, -0.29401374, -0.29163134,\n",
       "         0.0687661 , -0.5929596 , -0.09069536,  0.31586716,  0.42782685,\n",
       "        -0.1276932 ,  0.18310037,  0.05000236,  0.21623175, -0.03506645,\n",
       "        -0.06079724, -0.02612623, -0.10002878,  0.19757812,  0.26320168,\n",
       "        -0.20209767, -0.38539776,  0.06450044,  0.01978641, -0.08759066,\n",
       "         0.01200046, -0.01348272, -0.10103096, -0.17455201, -0.18951358,\n",
       "         0.06286298, -0.28043723, -0.15029892,  0.27761626, -0.02144302,\n",
       "        -0.204024  , -0.00222288,  0.30429292,  0.05436414, -0.1213767 ,\n",
       "        -0.18133739,  0.44161877,  0.31530482, -0.00591596,  0.00129202,\n",
       "         0.19259472,  0.12299151, -0.29185036,  0.43975395, -0.32503667,\n",
       "        -0.02156676, -0.12055391,  0.10618249,  0.14010294, -0.2417614 ,\n",
       "         0.27849323,  0.1426725 ,  0.27893168,  0.18474391,  0.0934249 ,\n",
       "        -0.03073337,  0.15157507, -0.10358809,  0.16859697,  0.23644914,\n",
       "         0.11532488,  0.00291105, -0.33144328, -0.21365581,  0.28690642,\n",
       "         0.3386459 ,  0.17637059, -0.03235349,  0.18642433,  0.10544664,\n",
       "         0.23012607,  0.15218185, -0.4081063 ,  0.03270119,  0.34910318,\n",
       "         0.0996277 ,  0.17842872, -0.09069477, -0.29455778, -0.25838986,\n",
       "        -0.10353477,  0.04264702, -0.3155923 , -0.11770964,  0.3620104 ,\n",
       "         0.03185516, -0.00682728, -0.15085964, -0.2349332 , -0.01987553,\n",
       "        -0.0941132 ,  0.01615082,  0.08723234, -0.09276773, -0.4285346 ,\n",
       "        -0.09130569, -0.5553706 , -0.1340829 ,  0.17000613, -0.32297343,\n",
       "         0.26828134, -0.29896632,  0.10023447,  0.40171814,  0.04238442,\n",
       "        -0.00871497, -0.19056247, -0.03011402,  0.09561712,  0.31062266,\n",
       "         0.26110852, -0.41905767,  0.10861591,  0.14331469,  0.25456393,\n",
       "         0.15240958, -0.06581832, -0.1133277 ,  0.15471987, -0.22025256,\n",
       "         0.17653169, -0.23472497,  0.19196199, -0.2588083 , -0.22284454,\n",
       "         0.2909854 , -0.39851108, -0.02308237,  0.07446148,  0.29028264,\n",
       "         0.0007729 , -0.03327151, -0.1028344 ,  0.12221692,  0.18004544,\n",
       "         0.1431971 , -0.38852578,  0.2620355 , -0.04369299, -0.01578435,\n",
       "        -0.04897883,  0.18249288,  0.25954676,  0.08660735, -0.3886512 ,\n",
       "        -0.12243208,  0.11143635,  0.28927284, -0.22527596,  0.16467208,\n",
       "        -0.2898141 , -0.42177433, -0.1475205 ,  0.20842092,  0.23275869,\n",
       "         0.18196929, -0.2903013 ,  0.17260692, -0.09973288, -0.40717667,\n",
       "        -0.37190813, -0.09127228,  0.23048043,  0.17414768,  0.18427306,\n",
       "         0.25565654,  0.01639889,  0.13488774,  0.1553123 ,  0.16383097,\n",
       "        -0.15492868,  0.17554975, -0.3602587 , -0.04317507, -0.27369303,\n",
       "        -0.19582564, -0.2325779 ,  0.4056972 , -0.24453688,  0.23932731,\n",
       "         0.38440898, -0.3188605 , -0.12488553,  0.1351307 ,  0.08753821,\n",
       "         0.07743549, -0.11264461,  0.18587434,  0.15599181, -0.11805131,\n",
       "         0.2636185 ,  0.00637634,  0.26391992,  0.16578658,  0.09054749,\n",
       "         0.14248174,  0.12116227, -0.15837651,  0.05860579,  0.01000934,\n",
       "        -0.03089677, -0.24666995, -0.14811628,  0.22768931, -0.0465074 ,\n",
       "         0.03469615, -0.18508   , -0.11511005,  0.0119531 ,  0.40999693,\n",
       "        -0.35642514,  0.24303767,  0.0805362 ,  0.15273404, -0.24244647,\n",
       "        -0.21956725,  0.08175141,  0.18829943, -0.39877924,  0.00877566,\n",
       "         0.15685292,  0.10499822,  0.21612442,  0.27695188, -0.01713441,\n",
       "        -0.11843123,  0.5056298 , -0.16405867, -0.13244171,  0.25952935,\n",
       "        -0.278028  , -0.28356588,  0.2757481 , -0.03570323,  0.30606467,\n",
       "         0.13146001,  0.05543779,  0.07767821, -0.6092472 ,  0.07894631,\n",
       "        -0.46896958, -0.00940104,  0.02373686, -0.08916736, -0.19929072,\n",
       "         0.1581251 ,  0.29365408, -0.25261104, -0.03611057,  0.21677238,\n",
       "         0.09994418, -0.12152689,  0.4763133 , -0.01644408,  0.23118676,\n",
       "        -0.07483889,  0.25388026, -0.21293113,  0.26548466, -0.28660035,\n",
       "        -0.09199508,  0.02114854,  0.08671645,  0.06520975, -0.05342346,\n",
       "        -0.3331428 ,  0.25753745, -0.01739286, -0.04320258, -0.04431947,\n",
       "         0.09575886, -0.00453443,  0.04824067,  0.05238403,  0.33482876,\n",
       "         0.23667723, -0.03721613, -0.37703326, -0.03687002, -0.11765645,\n",
       "         0.04149193,  0.0312349 , -0.02251058,  0.44933322, -0.09461217,\n",
       "         0.02561348, -0.13554993,  0.24797875,  0.22217384,  0.12492901,\n",
       "         0.10886551,  0.0656058 ,  0.15291671, -0.07209106, -0.02435367,\n",
       "        -0.15800098, -0.23282963, -0.2923245 ,  0.21610895, -0.24925014,\n",
       "        -0.18317646,  0.14672078,  0.19582607, -0.14705041,  0.1410567 ,\n",
       "         0.31132495,  0.09515664, -0.16007476,  0.29155326, -0.12555681,\n",
       "         0.1215442 ,  0.3135737 , -0.0189827 ,  0.1872321 ,  0.49459994,\n",
       "         0.20920968, -0.37400308, -0.02935044, -0.22263156,  0.01895059,\n",
       "         0.25878838, -0.1631793 ,  0.19772528,  0.3921279 ,  0.3058034 ,\n",
       "         0.4569244 ,  0.01309171, -0.14448874,  0.08849285,  0.22335435,\n",
       "         0.02341902, -0.14919293, -0.17677093,  0.24873033,  0.05618038,\n",
       "        -0.14342923, -0.03722339, -0.12064668,  0.04406073, -0.13254304,\n",
       "        -0.40103567,  0.03527878,  0.20560901, -0.49881542,  0.08216028,\n",
       "        -0.28044337,  0.0260487 , -0.23943381,  0.2085152 , -0.22215264,\n",
       "        -0.10164125,  0.4114654 , -0.07981057,  0.04542787, -0.18244636,\n",
       "        -0.1404652 ,  0.00842163,  0.01505512, -0.02651667, -0.02821126,\n",
       "         0.35091704, -0.14222012,  0.03089825,  0.0051379 ,  0.2064281 ,\n",
       "        -0.05984641,  0.21041448,  0.00397741, -0.12669952, -0.3945034 ,\n",
       "         0.15622693, -0.18783255, -0.43134564, -0.39585885,  0.35636595,\n",
       "        -0.15629598, -0.25241497, -0.23543599, -0.24442042,  0.09728333,\n",
       "         0.17361122,  0.47039816, -0.38510308, -0.08801612,  0.47057858,\n",
       "        -0.05819171, -0.15912592,  0.28814545,  0.19656508, -0.33441678,\n",
       "         0.31731114,  0.27881265, -0.04546821,  0.0312004 ,  0.50691295,\n",
       "         0.13084057,  0.18770988, -0.21267095,  0.45676515, -0.2221556 ,\n",
       "         0.30784565, -0.13889672, -0.2155918 , -0.20773494, -0.00578889,\n",
       "         0.33929262,  0.2104303 , -0.42816538, -0.13205975,  0.04085975,\n",
       "         0.35420656, -0.4023904 , -0.07982437,  0.01125806, -0.34065837,\n",
       "         0.13274573,  0.12008893,  0.23581396, -0.38118336, -0.00701384,\n",
       "         0.3832382 , -0.31360108,  0.13075116,  0.30787647,  0.09718414,\n",
       "         0.34471717, -0.06584307,  0.01869266,  0.03605573, -0.22311822,\n",
       "        -0.04228584,  0.14034851,  0.5659033 ,  0.16960606, -0.37776628,\n",
       "         0.1017805 ,  0.264487  , -0.17665513,  0.31462604, -0.09924975,\n",
       "        -0.05443929,  0.25862455, -0.03015535,  0.16020203, -0.09800222,\n",
       "        -0.2317579 , -0.3095651 ,  0.38255712, -0.20509523, -0.12377197,\n",
       "        -0.16807991, -0.11219472, -0.14878282,  0.05595635, -0.38497487,\n",
       "         0.34848735,  0.12828429, -0.17982912, -0.10064474, -0.07448032,\n",
       "        -0.15319836, -0.21988882, -0.25845945,  0.43628937, -0.17794867,\n",
       "        -0.44887868,  0.2622954 ,  0.02781225,  0.34876624,  0.0221318 ,\n",
       "         0.09911554, -0.05989952,  0.14679569,  0.10696629, -0.1394693 ,\n",
       "         0.29002842,  0.0513387 , -0.565141  , -0.13728474, -0.21983853,\n",
       "         0.0859658 ,  0.19509864, -0.34892952,  0.01901119,  0.02455813,\n",
       "         0.14870232,  0.02538511, -0.1295515 , -0.08856606,  0.40737462,\n",
       "         0.22049125,  0.28059685,  0.10091109,  0.23728544, -0.01962654,\n",
       "        -0.34117603,  0.03168794,  0.07928893, -0.20813788,  0.43430233,\n",
       "        -0.10719322, -0.40376267, -0.07283523,  0.4059708 ,  0.09729751,\n",
       "        -0.02245709, -0.02939208,  0.19314153,  0.15418908, -0.13566126,\n",
       "         0.19045739, -0.01622552, -0.15262233, -0.10828676,  0.08788842,\n",
       "        -0.235176  ,  0.05593711, -0.14065106, -0.02025209, -0.20253168,\n",
       "         0.00780723, -0.21187095,  0.26797712, -0.33926615,  0.1180132 ,\n",
       "         0.0666151 ,  0.30446532, -0.3467142 , -0.14339319, -0.06029424,\n",
       "         0.16851188,  0.25741136,  0.36960107,  0.02585934,  0.01534447,\n",
       "        -0.16555329, -0.26931918,  0.0673389 , -0.21558641,  0.13927817,\n",
       "         0.0619603 ,  0.25036418, -0.3020145 , -0.18416023,  0.2475371 ,\n",
       "        -0.1073527 , -0.12408873,  0.42214346,  0.24777226,  0.22582151,\n",
       "         0.00883905,  0.24688524,  0.0393564 , -0.19039704, -0.12267931,\n",
       "        -0.2647434 ,  0.07287645, -0.06767265, -0.04967463, -0.05821998,\n",
       "        -0.11458134, -0.20824382, -0.17325714,  0.13861057,  0.12649521,\n",
       "         0.03190793, -0.05765521, -0.04265213, -0.2962924 ,  0.29988357,\n",
       "         0.01935586,  0.06211521, -0.06320493,  0.05066115, -0.13140644,\n",
       "         0.24898401,  0.21095541,  0.09002445, -0.20063613, -0.02886815,\n",
       "        -0.28823635, -0.3651969 ,  0.05350954,  0.14640877,  0.13887677,\n",
       "        -0.09740038, -0.29721043, -0.03013106, -0.13806587,  0.17793521,\n",
       "         0.01038345, -0.15448636, -0.10001782, -0.04300122, -0.06045667,\n",
       "         0.06811492, -0.22043125, -0.20905848, -0.13217624, -0.09384141,\n",
       "        -0.07748652,  0.3535183 , -0.04035322,  0.2877505 , -0.15201694,\n",
       "         0.01815046, -0.17749514,  0.10099387, -0.07206437,  0.05803708,\n",
       "         0.2621951 , -0.44324067, -0.1625297 , -0.01418617, -0.2142808 ,\n",
       "        -0.16409503, -0.08917568, -0.04921792,  0.22676578, -0.36160022,\n",
       "         0.21640684, -0.09344039,  0.17924069, -0.08159018, -0.24180391,\n",
       "        -0.16288875,  0.01690259,  0.24574481, -0.35912576, -0.2496855 ,\n",
       "        -0.28245136, -0.10049802, -0.08333335, -0.26814803,  0.43290997,\n",
       "        -0.1259126 , -0.06102062,  0.03396546,  0.44952348,  0.21504118,\n",
       "         0.1817897 ,  0.21621376, -0.00257643,  0.02356274,  0.11890775,\n",
       "        -0.48864564,  0.24342722, -0.22792645, -0.10980099,  0.00711359,\n",
       "         0.09010775, -0.02078626, -0.00115115, -0.13876082, -0.10479627,\n",
       "         0.23118003, -0.3684132 , -0.03552487,  0.28692386,  0.17050122,\n",
       "        -0.2584252 ,  0.04455658,  0.12049238,  0.38691   ,  0.08126648,\n",
       "        -0.22770104,  0.12983322, -0.36253425, -0.04783321, -0.22266498,\n",
       "        -0.31151968,  0.16000627, -0.07833568,  0.07375803, -0.10026371,\n",
       "        -0.28431335,  0.22471759, -0.03570127, -0.06435502,  0.41615695,\n",
       "         0.01753894, -0.12267566,  0.16104607,  0.01173015,  0.03611644,\n",
       "        -0.09531878,  0.26137707,  0.20421773, -0.28465417,  0.12173738,\n",
       "        -0.1417121 , -0.05556813, -0.11128479]], dtype=float32)>, past_key_values=None, hidden_states=None, attentions=None, cross_attentions=None)"
      ]
     },
     "execution_count": 29,
     "metadata": {},
     "output_type": "execute_result"
    }
   ],
   "source": [
    "roberta_model({\n",
    "    'input_ids': tokenized_output.input_ids,\n",
    "    'attention_mask': tokenized_output.attention_mask\n",
    "})"
   ]
  },
  {
   "cell_type": "code",
   "execution_count": null,
   "id": "83f79fa7-f6fe-4a43-be60-b91e1f243aad",
   "metadata": {},
   "outputs": [],
   "source": []
  }
 ],
 "metadata": {
  "kernelspec": {
   "display_name": "Python 3 (ipykernel)",
   "language": "python",
   "name": "python3"
  },
  "language_info": {
   "codemirror_mode": {
    "name": "ipython",
    "version": 3
   },
   "file_extension": ".py",
   "mimetype": "text/x-python",
   "name": "python",
   "nbconvert_exporter": "python",
   "pygments_lexer": "ipython3",
   "version": "3.8.10"
  }
 },
 "nbformat": 4,
 "nbformat_minor": 5
}
